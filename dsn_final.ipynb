{
 "cells": [
  {
   "cell_type": "code",
   "execution_count": 49,
   "metadata": {
    "id": "0NoG65Np-V08"
   },
   "outputs": [],
   "source": [
    "#!jupyter nbconvert --ClearOutputPreprocessor.enabled=True --inplace dsn_final.ipynb"
   ]
  },
  {
   "cell_type": "code",
   "execution_count": 1,
   "metadata": {
    "colab": {
     "base_uri": "https://localhost:8080/",
     "height": 17
    },
    "id": "wNRZAClipY3O",
    "outputId": "80ce7208-e37e-43dd-c1f3-c1c1fa956479"
   },
   "outputs": [
    {
     "data": {
      "text/html": [
       "        <script type=\"text/javascript\">\n",
       "        window.PlotlyConfig = {MathJaxConfig: 'local'};\n",
       "        if (window.MathJax) {MathJax.Hub.Config({SVG: {font: \"STIX-Web\"}});}\n",
       "        if (typeof require !== 'undefined') {\n",
       "        require.undef(\"plotly\");\n",
       "        requirejs.config({\n",
       "            paths: {\n",
       "                'plotly': ['https://cdn.plot.ly/plotly-latest.min']\n",
       "            }\n",
       "        });\n",
       "        require(['plotly'], function(Plotly) {\n",
       "            window._Plotly = Plotly;\n",
       "        });\n",
       "        }\n",
       "        </script>\n",
       "        "
      ]
     },
     "metadata": {},
     "output_type": "display_data"
    }
   ],
   "source": [
    "\n",
    "import numpy as np\n",
    "import pandas as pd\n",
    "from numpy import mean\n",
    "from tempfile import mkdtemp\n",
    "import os.path as path\n",
    "import time\n",
    "from sklearn.model_selection import cross_val_score,StratifiedKFold\n",
    "from sklearn.pipeline import Pipeline\n",
    "from xgboost import XGBClassifier\n",
    "from sklearn.preprocessing import RobustScaler\n",
    "from sklearn.feature_selection import SelectKBest,f_classif\n",
    "from sklearn.model_selection import train_test_split\n",
    "import matplotlib.pyplot as plt\n",
    "import seaborn as sns\n",
    "%matplotlib inline\n",
    "from sklearn.decomposition import PCA\n",
    "from catboost import Pool,CatBoostClassifier\n",
    "import xgboost as xgb\n",
    "from sklearn import  metrics   #Additional scklearn functions\n",
    "from sklearn.impute import KNNImputer\n",
    "from sklearn.preprocessing import LabelEncoder\n",
    "\n",
    "from sklearn import metrics\n",
    "from sklearn.base import BaseEstimator, TransformerMixin\n",
    "from sklearn.impute import SimpleImputer\n",
    "from statsmodels.stats.outliers_influence import variance_inflation_factor\n",
    "from scipy import stats\n",
    "import os\n",
    "\n",
    "import random as rn\n",
    "import matplotlib.pyplot as plt#visualization\n",
    "from PIL import  Image\n",
    "import itertools\n",
    "import warnings\n",
    "warnings.filterwarnings(\"ignore\")\n",
    "import io\n",
    "import plotly.offline as py\n",
    "import plotly.graph_objs as go\n",
    "py.init_notebook_mode(connected=True)\n",
    "import plotly.tools as tls#visualization\n",
    "import plotly.figure_factory as ff#visualization\n",
    "from sklearn.metrics import confusion_matrix,accuracy_score,classification_report\n",
    "from sklearn.metrics import auc, roc_auc_score,roc_curve,scorer\n",
    "from sklearn.metrics import f1_score\n",
    "import statsmodels.api as sm\n",
    "from sklearn.metrics import average_precision_score, precision_score,recall_score,precision_recall_curve\n",
    "from yellowbrick.classifier import DiscriminationThreshold\n",
    "\n",
    "#nueral networks\n",
    "import tensorflow as tf\n",
    "from tensorflow.keras import backend as K\n",
    "from tensorflow.keras.layers import Dropout\n",
    "from tensorflow.keras.optimizers import SGD, Adam\n",
    "from sklearn.pipeline import Pipeline\n",
    "from tensorflow.keras.models import Sequential\n",
    "from tensorflow.keras.layers import Dense\n",
    "from sklearn.preprocessing import Normalizer\n",
    "from sklearn.pipeline import Pipeline\n",
    "from tensorflow.keras.models import Model\n",
    "from tensorflow.keras.layers import Input\n",
    "from tensorflow.keras import regularizers\n",
    "from sklearn.preprocessing import MinMaxScaler,StandardScaler\n"
   ]
  },
  {
   "cell_type": "code",
   "execution_count": 2,
   "metadata": {},
   "outputs": [],
   "source": [
    "# manual parameters\n",
    "RANDOM_SEED = 42\n",
    "# setting random seeds for libraries to ensure reproducibility\n",
    "np.random.seed(RANDOM_SEED)\n",
    "rn.seed(RANDOM_SEED)"
   ]
  },
  {
   "cell_type": "code",
   "execution_count": 3,
   "metadata": {
    "colab": {
     "base_uri": "https://localhost:8080/",
     "height": 35
    },
    "id": "3tdWNe0xyeCe",
    "outputId": "76308e68-0010-4b1c-cef8-4d525b3ebb96"
   },
   "outputs": [],
   "source": [
    "#from google.colab import drive\n",
    "#drive.mount('/content/gdrive', force_remount=True)"
   ]
  },
  {
   "cell_type": "code",
   "execution_count": 4,
   "metadata": {
    "colab": {
     "base_uri": "https://localhost:8080/",
     "height": 90
    },
    "id": "M0cKcrbTqKpj",
    "outputId": "be9daa19-cf06-4526-ed07-16984e133702"
   },
   "outputs": [],
   "source": [
    "#%cd gdrive/My\\ Drive/dsn-final\n",
    "#%ls\n"
   ]
  },
  {
   "cell_type": "code",
   "execution_count": 5,
   "metadata": {
    "id": "Wp6Xc-0eNpTg"
   },
   "outputs": [],
   "source": [
    "def load_train():\n",
    "    data = pd.read_csv('Train.csv')\n",
    "    #set yes  to 1, no to 0\n",
    "    data['default_status'] = data['default_status'].map({'yes': 1, 'no': 0}) \n",
    "    #label\n",
    "    y = data[['default_status']]\n",
    "    #y = np.ravel(y)\n",
    "    #features\n",
    "    X = data.iloc[:,1:-1]\n",
    "    return data,X,y\n",
    "    \n",
    "    \n",
    "    "
   ]
  },
  {
   "cell_type": "code",
   "execution_count": 6,
   "metadata": {
    "id": "lwCjUkBX-V1y"
   },
   "outputs": [],
   "source": [
    "def load_test():\n",
    "    test_data = pd.read_csv('Test.csv')\n",
    "    test_data.head()\n",
    "    test_data = test_data.iloc[:,1:]\n",
    "    return test_data"
   ]
  },
  {
   "cell_type": "code",
   "execution_count": 7,
   "metadata": {
    "id": "bYpnHJxd-V17"
   },
   "outputs": [],
   "source": [
    "def show_insights(data):\n",
    "    print (\"Rows     : \" ,data.shape[0])\n",
    "    print (\"Columns  : \" ,data.shape[1])\n",
    "    print (\"\\nFeatures : \\n\" ,data.columns.tolist())\n",
    "    print (\"\\nMissing values :  \\n\", data.isnull().sum())\n",
    "    print (\"\\nTotal missing values :  \", data.isnull().sum().values.sum())\n",
    "    print (\"\\nUnique values :  \\n\",data.nunique())"
   ]
  },
  {
   "cell_type": "code",
   "execution_count": 8,
   "metadata": {
    "id": "PyQ42sf3-V2G"
   },
   "outputs": [],
   "source": [
    "def scale_data(X,test_data):\n",
    "    rb = RobustScaler()\n",
    "    X_train_scaled = rb.fit_transform(X)\n",
    "    test_data_scaled = rb.transform(test_data)\n",
    "    return X_train_scaled, test_data_scaled"
   ]
  },
  {
   "cell_type": "code",
   "execution_count": 9,
   "metadata": {},
   "outputs": [],
   "source": [
    "class ReduceVIF(BaseEstimator, TransformerMixin):\n",
    "    def __init__(self, thresh=5.0, impute=True, impute_strategy='median'):\n",
    "        # From looking at documentation, values between 5 and 10 are \"okay\".\n",
    "        # Above 10 is too high and so should be removed.\n",
    "        self.thresh = thresh\n",
    "        \n",
    "        # The statsmodel function will fail with NaN values, as such we have to impute them.\n",
    "        # By default we impute using the median value.\n",
    "        # This imputation could be taken out and added as part of an sklearn Pipeline.\n",
    "        if impute:\n",
    "            self.imputer = SimpleImputer(strategy=impute_strategy)\n",
    "\n",
    "    def fit(self, X,y=None):\n",
    "        print('ReduceVIF fit')\n",
    "        if hasattr(self, 'imputer'):\n",
    "            self.imputer.fit(X)\n",
    "        return self\n",
    "\n",
    "    def transform(self, X,y=None):\n",
    "        print('ReduceVIF transform')\n",
    "        columns = X.columns.tolist()\n",
    "        if hasattr(self, 'imputer'):\n",
    "            X = pd.DataFrame(self.imputer.transform(X), columns=columns)\n",
    "        return ReduceVIF.calculate_vif(X,self.imputer,self.thresh)\n",
    "\n",
    "    @staticmethod\n",
    "    def calculate_vif(X,imputer,thresh=5.0):\n",
    "        # Taken from https://stats.stackexchange.com/a/253620/53565 and modified\n",
    "        dropped=True\n",
    "        while dropped:\n",
    "            variables = X.columns\n",
    "            dropped = False\n",
    "            vif = [variance_inflation_factor(X[variables].values, X.columns.get_loc(var)) for var in X.columns]\n",
    "            \n",
    "            max_vif = max(vif)\n",
    "            if max_vif > thresh:\n",
    "                maxloc = vif.index(max_vif)\n",
    "                print(f'Dropping {X.columns[maxloc]} with vif={max_vif}')\n",
    "                X = X.drop([X.columns.tolist()[maxloc]], axis=1)\n",
    "                dropped=True\n",
    "        return X,imputer"
   ]
  },
  {
   "cell_type": "code",
   "execution_count": 10,
   "metadata": {},
   "outputs": [],
   "source": [
    "def run_vif(X,y,test_data):\n",
    "    X_pd = pd.get_dummies(X, columns = ['form_field47'])\n",
    "    test_data = pd.get_dummies(test_data, columns = ['form_field47'])\n",
    "    transformer = ReduceVIF()\n",
    "    X_vif,imputer = transformer.fit_transform(X_pd,y)\n",
    "    #impute test_data\n",
    "    columns = test_data.columns.tolist()\n",
    "    test_data_pd = pd.DataFrame(imputer.transform(test_data), columns=columns)\n",
    "    \n",
    "    test_vif = pd.DataFrame()\n",
    "    new_features = X_vif.columns.tolist()\n",
    "    for new_feature, column in zip(new_features, test_data_pd.columns):\n",
    "        if new_feature == column:\n",
    "             test_vif[new_feature] = test_data_pd[column]\n",
    "    X_vif.to_csv('X_vif.csv',index=False)\n",
    "    test_vif.to_csv('test_vif.csv',index=False)\n",
    "                               \n",
    "    return X_vif,test_vif"
   ]
  },
  {
   "cell_type": "code",
   "execution_count": 11,
   "metadata": {
    "id": "vBYUM2ad-V2N"
   },
   "outputs": [],
   "source": [
    "def select_best_features(X,y,test_data,n_features=40):\n",
    "   \n",
    "    print(f'-----------selecting best features-----------')\n",
    "    X_copy = X.fillna(0)\n",
    "    X_copy = pd.get_dummies(X_copy)\n",
    "    \n",
    "    test_copy = test_data.fillna(0)\n",
    "    test_copy = pd.get_dummies(test_copy)\n",
    "    \n",
    "    \n",
    "    X_copy,test_data_scaled = scale_data(X_copy,test_copy)\n",
    "        \n",
    "    #pca = PCA(n_components=n_features)\n",
    "    #X_pca = pca.fit_transform(X)\n",
    "    #test_data_pca = pca.transform(test_data)\n",
    "    #return X_pca, test_data_pca\n",
    "\n",
    "    feature_names = list(X.columns.values)\n",
    "    # define feature selection \n",
    "    fs = SelectKBest(score_func=f_classif,  k=n_features)\n",
    "    # apply feature selection\n",
    "    selected = fs.fit_transform(X_copy, y)\n",
    "    mask = fs.get_support() #list of booleans\n",
    "    new_features = [] # The list of K best features\n",
    "\n",
    "    for bool, feature in zip(mask, feature_names):\n",
    "        if bool:\n",
    "            new_features.append(feature)\n",
    "\n",
    "    #After that,update the name of features:\n",
    "    X_selected =X[new_features]\n",
    "    test_selected = test_data[new_features]\n",
    "    return X_selected, test_selected"
   ]
  },
  {
   "cell_type": "code",
   "execution_count": 12,
   "metadata": {
    "id": "fZmv1x14tz0K"
   },
   "outputs": [],
   "source": [
    "def preprocess_data_knn(X,y,test_data):\n",
    "    data = X.drop(['form_field50','form_field10'],axis=1)\n",
    "    test_data = test_data.drop(['form_field50','form_field10'],axis=1)\n",
    "\n",
    "    labelencoder = LabelEncoder()\n",
    "    data['form_field47'] = labelencoder.fit_transform(data['form_field47'])\n",
    "    \n",
    "    test_data['form_field47'] = labelencoder.transform(test_data['form_field47'])\n",
    "    \n",
    "    #measures for memory management\n",
    "    data_fname = path.join(mkdtemp(), 'train.dat') \n",
    "    tdata_fname = path.join(mkdtemp(), 'test.dat') \n",
    "    \n",
    "    data_fp = np.memmap(data_fname, dtype='float32', mode='w+', shape=data.shape)\n",
    "    data_fp[:] = data[:]\n",
    "    \n",
    "    tdata_fp = np.memmap(tdata_fname, dtype='float32', mode='w+', shape=test_data.shape)\n",
    "    tdata_fp[:] = test_data[:]\n",
    "\n",
    "    # define imputer\n",
    "    imputer = KNNImputer(n_neighbors=5)\n",
    "    # fit on the dataset\n",
    "    imputer.fit(data_fp)\n",
    "    # transform the dataset\n",
    "    X = imputer.transform(data_fp)\n",
    "    _test = imputer.transform(tdata_fp)\n",
    "    \n",
    "    return X,_test"
   ]
  },
  {
   "cell_type": "code",
   "execution_count": 13,
   "metadata": {
    "id": "F3nvZa7LBF0C"
   },
   "outputs": [],
   "source": [
    "def save_knn_imputed(X,test_data):\n",
    "  from numpy import asarray\n",
    "  from numpy import savetxt\n",
    "  savetxt('train_prep.csv', X, delimiter=',')\n",
    "  savetxt('test_prep.csv', test_data, delimiter=',')"
   ]
  },
  {
   "cell_type": "code",
   "execution_count": 14,
   "metadata": {
    "id": "CHLqXMmFDdXG"
   },
   "outputs": [],
   "source": [
    "def load_knn_imputed():\n",
    "  X = pd.read_csv('train_prep.csv')\n",
    "  test_data = pd.read_csv('test_prep.csv')\n",
    "  return X, test_data"
   ]
  },
  {
   "cell_type": "code",
   "execution_count": 15,
   "metadata": {
    "id": "kAkZnTHE-V2k"
   },
   "outputs": [],
   "source": [
    "def plot_customer_attrition(data,target):\n",
    "    #labels\n",
    "    lab = data[target].value_counts().keys().tolist()\n",
    "    #values\n",
    "    val = data[target].value_counts().values.tolist()\n",
    "\n",
    "    trace = go.Pie(labels = lab ,\n",
    "                   values = val ,\n",
    "                   marker = dict(colors =  [ 'royalblue' ,'lime'],\n",
    "                                 line = dict(color = \"white\",\n",
    "                                             width =  1.3)\n",
    "                                ),\n",
    "                   rotation = 90,\n",
    "                   hoverinfo = \"label+value+text\",\n",
    "                   hole = .5\n",
    "                  )\n",
    "    layout = go.Layout(dict(title = \"Customer attrition in data\",\n",
    "                            plot_bgcolor  = \"rgb(243,243,243)\",\n",
    "                            paper_bgcolor = \"rgb(243,243,243)\",\n",
    "                           )\n",
    "                      )\n",
    "\n",
    "    data = [trace]\n",
    "    fig = go.Figure(data = data,layout = layout)\n",
    "    py.iplot(fig)"
   ]
  },
  {
   "cell_type": "code",
   "execution_count": 16,
   "metadata": {
    "id": "OkjI0cHF2M_y"
   },
   "outputs": [],
   "source": [
    "def save_prediction(pred_name,pred):\n",
    "    test_data = pd.read_csv('Test.csv')\n",
    "    submission = pd.DataFrame()\n",
    "    submission['Applicant_ID'] = test_data['Applicant_ID']\n",
    "    submission['default_status'] = pred\n",
    "    pred_name = pred_name + '.csv'\n",
    "    submission.to_csv(pred_name, index =False)\n",
    "    print(f'-------prediction saved as {pred_name}--------')\n",
    "    "
   ]
  },
  {
   "cell_type": "code",
   "execution_count": 17,
   "metadata": {
    "id": "Vd31N_8A-V3P"
   },
   "outputs": [],
   "source": [
    "def apply_smote(X,y,test_data, model):\n",
    "\n",
    "    from sklearn.svm import LinearSVC\n",
    "    from imblearn import over_sampling as os\n",
    "    from imblearn import pipeline as pl\n",
    "    from imblearn.metrics import classification_report_imbalanced\n",
    "\n",
    "    RANDOM_STATE = 33\n",
    "    \n",
    "    #create a pipeline\n",
    "    pipeline = pl.make_pipeline(os.SMOTE(random_state=RANDOM_STATE),model)\n",
    "\n",
    "    # Split the data\n",
    "    X_train, X_test, y_train, y_test = train_test_split(X, y,test_size=0.25, random_state=RANDOM_STATE)\n",
    "\n",
    "    # Train the classifier with balancing\n",
    "    pipeline.fit(X_train, y_train)\n",
    "\n",
    "    # Test the classifier and get the prediction\n",
    "    pred_bal = pipeline.predict_proba(test_data)[:,1]\n",
    "    \n",
    "    # Show the classification report\n",
    "    print(classification_report_imbalanced(y_test, pred_bal))\n",
    "    y_pred_proba = pipeline.predict(X_test)\n",
    "    fpr, tpr, _ = metrics.roc_curve(y_test,  y_pred_bal)\n",
    "    auc = metrics.roc_auc_score(y_test, y_pred_bal)\n",
    "    plt.plot(fpr,tpr,label=\"data 1, auc=\"+str(auc))\n",
    "    plt.legend(loc=4)\n",
    "    plt.show()\n",
    "    \n",
    "    \n",
    "    timestr = time.strftime(\"%Y%m%d-%H%M%S\")\n",
    "    pred_name = 'smote' + timestr\n",
    "    save_prediction(pred_name, pred_bal)"
   ]
  },
  {
   "cell_type": "code",
   "execution_count": 18,
   "metadata": {
    "id": "cZAtNFEb-V3t"
   },
   "outputs": [],
   "source": [
    "def plot_roc(fpr, tpr, roc_auc):\n",
    "    plt.plot(fpr, tpr)\n",
    "    plt.plot([0, 1], [0, 1], 'k--')\n",
    "    plt.xlim([0.0, 1.0])\n",
    "    plt.ylim([0.0, 1.05])\n",
    "    plt.xlabel('False Positive Rate')\n",
    "    plt.ylabel('True Positive Rate')\n",
    "    plt.title('ROC curve (area = %0.6f)' % roc_auc)\n",
    "    plt.legend(loc=\"lower right\")\n",
    "    plt.show()\n",
    "\n",
    "\n",
    "def plot_pr(recall,precision,average_precision):\n",
    "    plt.step(recall, precision, color='b', alpha=0.2, where='post')\n",
    "    plt.fill_between(recall, precision, step='post', alpha=0.2, color='b')\n",
    "    plt.xlabel('Recall')\n",
    "    plt.ylabel('Precision')\n",
    "    plt.ylim([0.0, 1.05])\n",
    "    plt.xlim([0.0, 1.0])\n",
    "    plt.title('Precision-Recall: {0:0.6f}'.format(average_precision))\n",
    "    plt.show()\n",
    "\n",
    "    \n",
    "def plot_learning_curve(results,epochs):\n",
    "    x_axis = range(0, epochs)\n",
    "    fig, ax = plt.subplots()\n",
    "    ax.plot(x_axis, results['validation_0']['logloss'], label='logloss-Train')\n",
    "    ax.plot(x_axis, results['validation_1']['logloss'], label='logloss-Test')\n",
    "    ax.plot(x_axis, results['validation_0']['auc'], label='auc-Train')\n",
    "    ax.plot(x_axis, results['validation_1']['auc'], label='auc-Test')\n",
    "    ax.legend()\n",
    "    plt.ylabel('Log Loss/AUC')\n",
    "    plt.title('XGBoost Log Loss and AUC evolution')\n",
    "    plt.show()"
   ]
  },
  {
   "cell_type": "code",
   "execution_count": 19,
   "metadata": {
    "id": "YXCdypKS-V3z"
   },
   "outputs": [],
   "source": [
    "def cat_xg_preprocess(X,test,strategy='median'):\n",
    "    X = pd.get_dummies(X,columns=['form_field47'])\n",
    "    test = pd.get_dummies(test,columns=['form_field47'])\n",
    "    #impute missing values\n",
    "    columns = X.columns.tolist()\n",
    "    imputer = SimpleImputer(strategy = strategy)\n",
    "    imputer.fit(X)\n",
    "    X = pd.DataFrame(imputer.transform(X), columns=columns)\n",
    "    test = pd.DataFrame(imputer.transform(test), columns=columns)\n",
    "  \n",
    "    return X,test"
   ]
  },
  {
   "cell_type": "code",
   "execution_count": 20,
   "metadata": {
    "id": "cp-YO0Q6-V3h"
   },
   "outputs": [],
   "source": [
    "def run_catboost_and_calulate_auc(X,y,test_data,learning_rate=0.01):\n",
    "    \n",
    "    X_train,X_test,y_train,y_test=train_test_split(X,y,test_size=0.25,random_state=33)\n",
    "    '''\n",
    "    fold=StratifiedKFold(n_splits=5,shuffle=True,random_state=33)\n",
    "\n",
    "    for train_index, test_index in fold.split(X,y):\n",
    "        #for i, (train_index, test_index) in enumerate(fold.split(X,y)):\n",
    "        X_train, X_val = X[train_index], X[test_index]\n",
    "        y_train, y_val = y[train_index], y[test_index]\n",
    "        _train = Pool(X_train, label = y_train)\n",
    "        _valid = Pool(X_val, label = y_val)\n",
    "        '''\n",
    "    _train = Pool(X_train, label = y_train)\n",
    "     \n",
    "    _valid = Pool(X_test, label = y_test)\n",
    "    best_params={\n",
    "    'bagging_temperature': 0.41010395885331385,\n",
    "    'border_count': 50,\n",
    "    'depth': 7,\n",
    "    'iterations': 1000,\n",
    "    'l2_leaf_reg': 21,\n",
    "    'random_seed':33,\n",
    "    'od_wait':100,\n",
    "    'learning_rate': learning_rate,\n",
    "    'random_strength': 3.230824361824754e-06,\n",
    "    'scale_pos_weight': 0.7421091918485163,\n",
    "    'eval_metric':'AUC'\n",
    "    }\n",
    "    \n",
    "    model = CatBoostClassifier(**best_params,od_type='Iter')\n",
    "    model.fit(_train,eval_set = _valid, verbose=True)\n",
    "    \n",
    "    #make prediction    \n",
    "    pred = model.predict_proba(test_data)[:,1]\n",
    "    #save prediction\n",
    "    timestr = time.strftime(\"%Y%m%d-%H%M%S\")\n",
    "    pred_name = 'catboost' + timestr\n",
    "    save_prediction( pred_name, pred)\n"
   ]
  },
  {
   "cell_type": "code",
   "execution_count": 31,
   "metadata": {
    "id": "s9ORK6FS-V33"
   },
   "outputs": [],
   "source": [
    "def run_xgboost_and_calculate_auc(X,\n",
    "                                  y,\n",
    "                                  test_data,\n",
    "                                  target='target',\n",
    "                                  w=1,\n",
    "                                  plot_variables=True,\n",
    "                                  plot_ROC_PR=True,\n",
    "                                  plot_confusion=True,\n",
    "                                  plot_graph_tree=False,\n",
    "                                  learning_rate=0.05,\n",
    "                                  max_depth=4,\n",
    "                                  esr=10,\n",
    "                                  CV=False,\n",
    "                                  plot_all=False,\n",
    "                                  ensembler=False,\n",
    "                                  smote=False,\n",
    "                                  test_size=.2):\n",
    "\n",
    "    #X = X.loc[:,~X.columns.duplicated()]\n",
    "  \n",
    "\n",
    "\n",
    "    X_train, X_test, Y_train, Y_test = train_test_split(X, y,\n",
    "                                                        test_size=test_size,\n",
    "                                                        random_state=33,\n",
    "                                                        stratify=y)\n",
    "    \n",
    "    if smote:\n",
    "\n",
    "        smote = SMOTE(random_state=33, ratio = 1.0)\n",
    "        X_train, Y_train = smote.fit_sample(X_train, Y_train)\n",
    "  \n",
    "\n",
    "    \n",
    "        \n",
    "    clf = xgb.XGBClassifier(\n",
    "        learning_rate=learning_rate,\n",
    "        n_estimators=1000,\n",
    "        max_depth=4,\n",
    "        min_child_weight=1,\n",
    "        gamma=0.2,\n",
    "        subsample=0.8,\n",
    "        colsample_bytree=0.8,\n",
    "        reg_alpha=5e-05,\n",
    "        objective='binary:logistic',\n",
    "        nthread=20,\n",
    "        scale_pos_weight=w,\n",
    "        seed=27)\n",
    "    \n",
    "    \n",
    "    eval_set = [(X_train, Y_train), (X_test, Y_test)]\n",
    "\n",
    "    if plot_all:\n",
    "        plot_learning=True\n",
    "        plot_variables=True\n",
    "        plot_ROC_PR=True\n",
    "        plot_confusion=True\n",
    "        plot_graph_tree=True\n",
    "        \n",
    "    if CV:\n",
    "        X = np.concatenate([X_train,X_test])\n",
    "        y = np.concatenate([Y_train,Y_test])\n",
    "        xgb_param = clf.get_xgb_params()\n",
    "        xgtrain = xgb.DMatrix(X, y)\n",
    "        cvresult = xgb.cv(xgb_param,\n",
    "                          xgtrain,\n",
    "                          num_boost_round=clf.get_params()['n_estimators'],\n",
    "                          nfold=5,\n",
    "                          metrics='auc',\n",
    "                          early_stopping_rounds=esr)\n",
    "        print(cvresult.tail(1))\n",
    "        clf.set_params(n_estimators=cvresult.shape[0])\n",
    "\n",
    "    clf.fit(X_train,\n",
    "            Y_train,\n",
    "            early_stopping_rounds=25,\n",
    "            eval_metric=['auc'],\n",
    "            eval_set=eval_set,\n",
    "            verbose=True)\n",
    "    \n",
    "    from sklearn.ensemble import AdaBoostClassifier\n",
    "    tree = DecisionTreeClassifier(criterion='entropy')\n",
    "    booster = AdaBoostClassifier(base_estimator=tree)\n",
    "    booster = booster.fit(X_test, Y_test)\n",
    "    \n",
    "    Y_pred = clf.predict_proba(X_test)\n",
    "    y_true = np.array(Y_test)\n",
    "    y_scores = Y_pred[:, 1]\n",
    "\n",
    "    fpr, tpr, _ = roc_curve(Y_test, y_scores)\n",
    "    roc_auc = auc(fpr, tpr)\n",
    "    average_precision = average_precision_score(Y_test, y_scores)\n",
    "    precision, recall, _ = precision_recall_curve(Y_test, y_scores)\n",
    "    \n",
    "    if plot_ROC_PR:\n",
    "        plot_roc(fpr, tpr, roc_auc)\n",
    "        plot_pr(recall,precision,average_precision)\n",
    "    else:\n",
    "        print('Area under ROC: %0.6f' % roc_auc)\n",
    "\n",
    "    if plot_graph_tree:\n",
    "        xgb.plot_tree(clf, rankdir='LR')\n",
    "        fig = plt.gcf()\n",
    "        fig.set_size_inches(150, 100)\n",
    "\n",
    "    if plot_variables:\n",
    "        xgb.plot_importance(clf,max_num_features=20,importance_type='gain',xlabel='gain')\n",
    "\n",
    "    if plot_confusion:\n",
    "        print('\\n', classification_report(y_true, y_scores.round()))\n",
    "        \n",
    "    if ensembler:\n",
    "        return Y_test, y_scores\n",
    "\n",
    "    print('-------------END EXECUTION-------------')\n",
    "    \n",
    "    #test_data = xgb.DMatrix(test_data)\n",
    "    pred = clf.predict_proba(test_data)[:,1]\n",
    "    \n",
    "    timestr = time.strftime(\"%Y%m%d-%H%M%S\")\n",
    "    pred_name = 'xgboost'+timestr\n",
    "    save_prediction(pred_name, pred)\n",
    "    \n",
    "  "
   ]
  },
  {
   "cell_type": "code",
   "execution_count": 32,
   "metadata": {
    "id": "EryHCUep8Huv"
   },
   "outputs": [],
   "source": [
    "def run_nn_and_calculate_auc(X,y,test_data,input_dim,batch_size,epochs):\n",
    "    model = Sequential()\n",
    "    model.add(Dense(input_dim,input_dim=input_dim,activation='relu'))\n",
    "    model.add(Dropout(0.2))\n",
    "    model.add(Dense(1,activation='sigmoid'))\n",
    "    model.compile(loss='binary_crossentropy',optimizer=Adam(), metrics= tf.keras.metrics.AUC(name='auc'))\n",
    "    model.fit(X,y,epochs=epochs,batch_size=batch_size)\n",
    "    \n",
    "    #predict\n",
    "    pred = model.predict(test_data)\n",
    "    \n",
    "    #save prediction\n",
    "    timestr = time.strftime(\"%Y%m%d-%H%M%S\")\n",
    "    pred_name = 'nn'+timestr\n",
    "    save_prediction(pred_name, pred)\n",
    "    "
   ]
  },
  {
   "cell_type": "code",
   "execution_count": 33,
   "metadata": {
    "colab": {
     "base_uri": "https://localhost:8080/",
     "height": 54
    },
    "id": "tAEXvrGXHMFU",
    "outputId": "a008265d-6e51-451c-e50b-14653e991fe8"
   },
   "outputs": [
    {
     "name": "stdout",
     "output_type": "stream",
     "text": [
      "Rows     :  56000\n",
      "Columns  :  52\n",
      "\n",
      "Features : \n",
      " ['Applicant_ID', 'form_field1', 'form_field2', 'form_field3', 'form_field4', 'form_field5', 'form_field6', 'form_field7', 'form_field8', 'form_field9', 'form_field10', 'form_field11', 'form_field12', 'form_field13', 'form_field14', 'form_field15', 'form_field16', 'form_field17', 'form_field18', 'form_field19', 'form_field20', 'form_field21', 'form_field22', 'form_field23', 'form_field24', 'form_field25', 'form_field26', 'form_field27', 'form_field28', 'form_field29', 'form_field30', 'form_field31', 'form_field32', 'form_field33', 'form_field34', 'form_field35', 'form_field36', 'form_field37', 'form_field38', 'form_field39', 'form_field40', 'form_field41', 'form_field42', 'form_field43', 'form_field44', 'form_field45', 'form_field46', 'form_field47', 'form_field48', 'form_field49', 'form_field50', 'default_status']\n",
      "\n",
      "Missing values :  \n",
      " Applicant_ID          0\n",
      "form_field1        2529\n",
      "form_field2        3844\n",
      "form_field3         355\n",
      "form_field4         355\n",
      "form_field5         355\n",
      "form_field6       13360\n",
      "form_field7        5163\n",
      "form_field8       13360\n",
      "form_field9        8008\n",
      "form_field10        355\n",
      "form_field11      31421\n",
      "form_field12       9895\n",
      "form_field13       5889\n",
      "form_field14          0\n",
      "form_field15      22475\n",
      "form_field16      13036\n",
      "form_field17      11151\n",
      "form_field18      10402\n",
      "form_field19          4\n",
      "form_field20        355\n",
      "form_field21      15854\n",
      "form_field22      20400\n",
      "form_field23      28123\n",
      "form_field24      13297\n",
      "form_field25       5450\n",
      "form_field26       7438\n",
      "form_field27       9299\n",
      "form_field28        355\n",
      "form_field29        355\n",
      "form_field30      25509\n",
      "form_field31      39408\n",
      "form_field32       5450\n",
      "form_field33       1256\n",
      "form_field34        355\n",
      "form_field35      23148\n",
      "form_field36       1995\n",
      "form_field37       5450\n",
      "form_field38        355\n",
      "form_field39       4211\n",
      "form_field40      43729\n",
      "form_field41      38229\n",
      "form_field42       1323\n",
      "form_field43        568\n",
      "form_field44       5383\n",
      "form_field45      31317\n",
      "form_field46      15904\n",
      "form_field47          0\n",
      "form_field48      20889\n",
      "form_field49        355\n",
      "form_field50      11056\n",
      "default_status        0\n",
      "dtype: int64\n",
      "\n",
      "Total missing values :   528773\n",
      "\n",
      "Unique values :  \n",
      " Applicant_ID      56000\n",
      "form_field1         449\n",
      "form_field2       20015\n",
      "form_field3       14617\n",
      "form_field4        2927\n",
      "form_field5        2991\n",
      "form_field6        5846\n",
      "form_field7       23199\n",
      "form_field8       12820\n",
      "form_field9       22650\n",
      "form_field10      30942\n",
      "form_field11       9508\n",
      "form_field12      16778\n",
      "form_field13      21960\n",
      "form_field14       1237\n",
      "form_field15      23783\n",
      "form_field16         11\n",
      "form_field17         15\n",
      "form_field18         16\n",
      "form_field19         26\n",
      "form_field20         27\n",
      "form_field21      11101\n",
      "form_field22      23583\n",
      "form_field23      16619\n",
      "form_field24      12571\n",
      "form_field25       5014\n",
      "form_field26        594\n",
      "form_field27        558\n",
      "form_field28         95\n",
      "form_field29        654\n",
      "form_field30        274\n",
      "form_field31        394\n",
      "form_field32       2620\n",
      "form_field33        554\n",
      "form_field34         18\n",
      "form_field35         11\n",
      "form_field36         66\n",
      "form_field37         52\n",
      "form_field38         58\n",
      "form_field39         15\n",
      "form_field40       9848\n",
      "form_field41      14375\n",
      "form_field42        986\n",
      "form_field43         59\n",
      "form_field44      33238\n",
      "form_field45          6\n",
      "form_field46          6\n",
      "form_field47          2\n",
      "form_field48      32115\n",
      "form_field49      13207\n",
      "form_field50      44746\n",
      "default_status        2\n",
      "dtype: int64\n"
     ]
    },
    {
     "data": {
      "text/html": [
       "<div>\n",
       "<style scoped>\n",
       "    .dataframe tbody tr th:only-of-type {\n",
       "        vertical-align: middle;\n",
       "    }\n",
       "\n",
       "    .dataframe tbody tr th {\n",
       "        vertical-align: top;\n",
       "    }\n",
       "\n",
       "    .dataframe thead th {\n",
       "        text-align: right;\n",
       "    }\n",
       "</style>\n",
       "<table border=\"1\" class=\"dataframe\">\n",
       "  <thead>\n",
       "    <tr style=\"text-align: right;\">\n",
       "      <th></th>\n",
       "      <th>Applicant_ID</th>\n",
       "      <th>form_field1</th>\n",
       "      <th>form_field2</th>\n",
       "      <th>form_field3</th>\n",
       "      <th>form_field4</th>\n",
       "      <th>form_field5</th>\n",
       "      <th>form_field6</th>\n",
       "      <th>form_field7</th>\n",
       "      <th>form_field8</th>\n",
       "      <th>form_field9</th>\n",
       "      <th>...</th>\n",
       "      <th>form_field42</th>\n",
       "      <th>form_field43</th>\n",
       "      <th>form_field44</th>\n",
       "      <th>form_field45</th>\n",
       "      <th>form_field46</th>\n",
       "      <th>form_field47</th>\n",
       "      <th>form_field48</th>\n",
       "      <th>form_field49</th>\n",
       "      <th>form_field50</th>\n",
       "      <th>default_status</th>\n",
       "    </tr>\n",
       "  </thead>\n",
       "  <tbody>\n",
       "    <tr>\n",
       "      <th>0</th>\n",
       "      <td>Apcnt_1000000</td>\n",
       "      <td>3436.0</td>\n",
       "      <td>0.28505</td>\n",
       "      <td>1.6560</td>\n",
       "      <td>0.0</td>\n",
       "      <td>0.000</td>\n",
       "      <td>0.0</td>\n",
       "      <td>10689720.0</td>\n",
       "      <td>252072.0</td>\n",
       "      <td>4272776.0</td>\n",
       "      <td>...</td>\n",
       "      <td>0.392854</td>\n",
       "      <td>2.02</td>\n",
       "      <td>0.711632</td>\n",
       "      <td>0.0</td>\n",
       "      <td>0.0</td>\n",
       "      <td>charge</td>\n",
       "      <td>NaN</td>\n",
       "      <td>1.129518</td>\n",
       "      <td>0.044335</td>\n",
       "      <td>0</td>\n",
       "    </tr>\n",
       "    <tr>\n",
       "      <th>1</th>\n",
       "      <td>Apcnt_1000004</td>\n",
       "      <td>3456.0</td>\n",
       "      <td>0.67400</td>\n",
       "      <td>0.2342</td>\n",
       "      <td>0.0</td>\n",
       "      <td>0.000</td>\n",
       "      <td>0.0</td>\n",
       "      <td>898979.0</td>\n",
       "      <td>497531.0</td>\n",
       "      <td>9073814.0</td>\n",
       "      <td>...</td>\n",
       "      <td>0.314281</td>\n",
       "      <td>8.08</td>\n",
       "      <td>0.183584</td>\n",
       "      <td>NaN</td>\n",
       "      <td>0.0</td>\n",
       "      <td>charge</td>\n",
       "      <td>349.805730</td>\n",
       "      <td>1.620483</td>\n",
       "      <td>0.322436</td>\n",
       "      <td>0</td>\n",
       "    </tr>\n",
       "    <tr>\n",
       "      <th>2</th>\n",
       "      <td>Apcnt_1000008</td>\n",
       "      <td>3276.0</td>\n",
       "      <td>0.53845</td>\n",
       "      <td>3.1510</td>\n",
       "      <td>0.0</td>\n",
       "      <td>6.282</td>\n",
       "      <td>NaN</td>\n",
       "      <td>956940.0</td>\n",
       "      <td>NaN</td>\n",
       "      <td>192944.0</td>\n",
       "      <td>...</td>\n",
       "      <td>0.162965</td>\n",
       "      <td>18.18</td>\n",
       "      <td>0.791136</td>\n",
       "      <td>0.0</td>\n",
       "      <td>0.0</td>\n",
       "      <td>charge</td>\n",
       "      <td>NaN</td>\n",
       "      <td>1.513370</td>\n",
       "      <td>0.011640</td>\n",
       "      <td>1</td>\n",
       "    </tr>\n",
       "    <tr>\n",
       "      <th>3</th>\n",
       "      <td>Apcnt_1000012</td>\n",
       "      <td>3372.0</td>\n",
       "      <td>0.17005</td>\n",
       "      <td>0.5050</td>\n",
       "      <td>0.0</td>\n",
       "      <td>0.000</td>\n",
       "      <td>192166.0</td>\n",
       "      <td>3044703.0</td>\n",
       "      <td>385499.0</td>\n",
       "      <td>3986472.0</td>\n",
       "      <td>...</td>\n",
       "      <td>0.488884</td>\n",
       "      <td>2.02</td>\n",
       "      <td>0.685168</td>\n",
       "      <td>NaN</td>\n",
       "      <td>0.0</td>\n",
       "      <td>charge</td>\n",
       "      <td>89.940100</td>\n",
       "      <td>0.664452</td>\n",
       "      <td>0.082729</td>\n",
       "      <td>0</td>\n",
       "    </tr>\n",
       "    <tr>\n",
       "      <th>4</th>\n",
       "      <td>Apcnt_1000016</td>\n",
       "      <td>3370.0</td>\n",
       "      <td>0.77270</td>\n",
       "      <td>1.1010</td>\n",
       "      <td>0.0</td>\n",
       "      <td>0.000</td>\n",
       "      <td>1556.0</td>\n",
       "      <td>214728.0</td>\n",
       "      <td>214728.0</td>\n",
       "      <td>1284089.0</td>\n",
       "      <td>...</td>\n",
       "      <td>0.275000</td>\n",
       "      <td>12.12</td>\n",
       "      <td>0.438168</td>\n",
       "      <td>0.0</td>\n",
       "      <td>0.0</td>\n",
       "      <td>charge</td>\n",
       "      <td>97.887502</td>\n",
       "      <td>1.427891</td>\n",
       "      <td>0.045630</td>\n",
       "      <td>0</td>\n",
       "    </tr>\n",
       "  </tbody>\n",
       "</table>\n",
       "<p>5 rows × 52 columns</p>\n",
       "</div>"
      ],
      "text/plain": [
       "    Applicant_ID  form_field1  form_field2  form_field3  form_field4  \\\n",
       "0  Apcnt_1000000       3436.0      0.28505       1.6560          0.0   \n",
       "1  Apcnt_1000004       3456.0      0.67400       0.2342          0.0   \n",
       "2  Apcnt_1000008       3276.0      0.53845       3.1510          0.0   \n",
       "3  Apcnt_1000012       3372.0      0.17005       0.5050          0.0   \n",
       "4  Apcnt_1000016       3370.0      0.77270       1.1010          0.0   \n",
       "\n",
       "   form_field5  form_field6  form_field7  form_field8  form_field9  ...  \\\n",
       "0        0.000          0.0   10689720.0     252072.0    4272776.0  ...   \n",
       "1        0.000          0.0     898979.0     497531.0    9073814.0  ...   \n",
       "2        6.282          NaN     956940.0          NaN     192944.0  ...   \n",
       "3        0.000     192166.0    3044703.0     385499.0    3986472.0  ...   \n",
       "4        0.000       1556.0     214728.0     214728.0    1284089.0  ...   \n",
       "\n",
       "   form_field42  form_field43  form_field44  form_field45  form_field46  \\\n",
       "0      0.392854          2.02      0.711632           0.0           0.0   \n",
       "1      0.314281          8.08      0.183584           NaN           0.0   \n",
       "2      0.162965         18.18      0.791136           0.0           0.0   \n",
       "3      0.488884          2.02      0.685168           NaN           0.0   \n",
       "4      0.275000         12.12      0.438168           0.0           0.0   \n",
       "\n",
       "   form_field47  form_field48  form_field49  form_field50  default_status  \n",
       "0        charge           NaN      1.129518      0.044335               0  \n",
       "1        charge    349.805730      1.620483      0.322436               0  \n",
       "2        charge           NaN      1.513370      0.011640               1  \n",
       "3        charge     89.940100      0.664452      0.082729               0  \n",
       "4        charge     97.887502      1.427891      0.045630               0  \n",
       "\n",
       "[5 rows x 52 columns]"
      ]
     },
     "execution_count": 33,
     "metadata": {},
     "output_type": "execute_result"
    }
   ],
   "source": [
    "data,X,y = load_train()\n",
    "test_data = load_test()\n",
    "show_insights(data)\n",
    "data.head()"
   ]
  },
  {
   "cell_type": "code",
   "execution_count": 34,
   "metadata": {},
   "outputs": [
    {
     "name": "stdout",
     "output_type": "stream",
     "text": [
      "<bound method NDFrame.describe of         Applicant_ID  form_field1  form_field2  form_field3  form_field4  \\\n",
      "0      Apcnt_1000000       3436.0      0.28505       1.6560       0.0000   \n",
      "1      Apcnt_1000004       3456.0      0.67400       0.2342       0.0000   \n",
      "2      Apcnt_1000008       3276.0      0.53845       3.1510       0.0000   \n",
      "3      Apcnt_1000012       3372.0      0.17005       0.5050       0.0000   \n",
      "4      Apcnt_1000016       3370.0      0.77270       1.1010       0.0000   \n",
      "...              ...          ...          ...          ...          ...   \n",
      "55995   Apcnt_999968       3740.0      0.01730       0.0000       0.0000   \n",
      "55996   Apcnt_999972       3360.0      2.01145       0.6252       0.0000   \n",
      "55997   Apcnt_999980       3500.0      0.76640       0.0000       0.0000   \n",
      "55998   Apcnt_999988       3280.0      0.05235       2.0916       2.2212   \n",
      "55999   Apcnt_999996       3522.0      0.46930       0.0000       0.0000   \n",
      "\n",
      "       form_field5  form_field6  form_field7  form_field8  form_field9  ...  \\\n",
      "0            0.000          0.0   10689720.0     252072.0    4272776.0  ...   \n",
      "1            0.000          0.0     898979.0     497531.0    9073814.0  ...   \n",
      "2            6.282          NaN     956940.0          NaN     192944.0  ...   \n",
      "3            0.000     192166.0    3044703.0     385499.0    3986472.0  ...   \n",
      "4            0.000       1556.0     214728.0     214728.0    1284089.0  ...   \n",
      "...            ...          ...          ...          ...          ...  ...   \n",
      "55995        0.000     770998.0    9637475.0    4047934.0   11641992.0  ...   \n",
      "55996        0.000          NaN     927765.0          NaN          NaN  ...   \n",
      "55997        0.000     118645.0    3662435.0    3662435.0    3585024.0  ...   \n",
      "55998        0.000          NaN    3458599.0          NaN     115533.0  ...   \n",
      "55999        0.000      98806.0    2053920.0     523983.0   14903368.0  ...   \n",
      "\n",
      "       form_field42  form_field43  form_field44  form_field45  form_field46  \\\n",
      "0          0.392854          2.02      0.711632           0.0           0.0   \n",
      "1          0.314281          8.08      0.183584           NaN           0.0   \n",
      "2          0.162965         18.18      0.791136           0.0           0.0   \n",
      "3          0.488884          2.02      0.685168           NaN           0.0   \n",
      "4          0.275000         12.12      0.438168           0.0           0.0   \n",
      "...             ...           ...           ...           ...           ...   \n",
      "55995      0.000000          9.09      0.730040           NaN           0.0   \n",
      "55996      0.297913         30.30      0.498208           NaN           0.0   \n",
      "55997      0.550000          3.03      0.450512           0.0           0.0   \n",
      "55998      0.942854          0.00      0.705048           1.0           0.0   \n",
      "55999      0.000000         13.13      0.292424           NaN           NaN   \n",
      "\n",
      "       form_field47  form_field48  form_field49  form_field50  default_status  \n",
      "0            charge           NaN      1.129518      0.044335               0  \n",
      "1            charge    349.805730      1.620483      0.322436               0  \n",
      "2            charge           NaN      1.513370      0.011640               1  \n",
      "3            charge     89.940100      0.664452      0.082729               0  \n",
      "4            charge     97.887502      1.427891      0.045630               0  \n",
      "...             ...           ...           ...           ...             ...  \n",
      "55995       lending    591.048913      0.000000      0.241598               0  \n",
      "55996       lending           NaN      0.000000           NaN               1  \n",
      "55997       lending   1252.474467      2.000000      0.163153               0  \n",
      "55998        charge           NaN      0.000000      0.002997               0  \n",
      "55999        charge   4986.188578      3.000000      0.678245               0  \n",
      "\n",
      "[56000 rows x 52 columns]>\n"
     ]
    }
   ],
   "source": [
    "#Description of dataset\n",
    "print(data.describe)"
   ]
  },
  {
   "cell_type": "code",
   "execution_count": 48,
   "metadata": {},
   "outputs": [
    {
     "data": {
      "application/vnd.plotly.v1+json": {
       "config": {
        "linkText": "Export to plot.ly",
        "plotlyServerURL": "https://plot.ly",
        "showLink": false
       },
       "data": [
        {
         "hole": 0.5,
         "hoverinfo": "label+value+text",
         "labels": [
          0,
          1
         ],
         "marker": {
          "colors": [
           "royalblue",
           "lime"
          ],
          "line": {
           "color": "white",
           "width": 1.3
          }
         },
         "rotation": 90,
         "type": "pie",
         "values": [
          42285,
          13715
         ]
        }
       ],
       "layout": {
        "paper_bgcolor": "rgb(243,243,243)",
        "plot_bgcolor": "rgb(243,243,243)",
        "template": {
         "data": {
          "bar": [
           {
            "error_x": {
             "color": "#2a3f5f"
            },
            "error_y": {
             "color": "#2a3f5f"
            },
            "marker": {
             "line": {
              "color": "#E5ECF6",
              "width": 0.5
             }
            },
            "type": "bar"
           }
          ],
          "barpolar": [
           {
            "marker": {
             "line": {
              "color": "#E5ECF6",
              "width": 0.5
             }
            },
            "type": "barpolar"
           }
          ],
          "carpet": [
           {
            "aaxis": {
             "endlinecolor": "#2a3f5f",
             "gridcolor": "white",
             "linecolor": "white",
             "minorgridcolor": "white",
             "startlinecolor": "#2a3f5f"
            },
            "baxis": {
             "endlinecolor": "#2a3f5f",
             "gridcolor": "white",
             "linecolor": "white",
             "minorgridcolor": "white",
             "startlinecolor": "#2a3f5f"
            },
            "type": "carpet"
           }
          ],
          "choropleth": [
           {
            "colorbar": {
             "outlinewidth": 0,
             "ticks": ""
            },
            "type": "choropleth"
           }
          ],
          "contour": [
           {
            "colorbar": {
             "outlinewidth": 0,
             "ticks": ""
            },
            "colorscale": [
             [
              0,
              "#0d0887"
             ],
             [
              0.1111111111111111,
              "#46039f"
             ],
             [
              0.2222222222222222,
              "#7201a8"
             ],
             [
              0.3333333333333333,
              "#9c179e"
             ],
             [
              0.4444444444444444,
              "#bd3786"
             ],
             [
              0.5555555555555556,
              "#d8576b"
             ],
             [
              0.6666666666666666,
              "#ed7953"
             ],
             [
              0.7777777777777778,
              "#fb9f3a"
             ],
             [
              0.8888888888888888,
              "#fdca26"
             ],
             [
              1,
              "#f0f921"
             ]
            ],
            "type": "contour"
           }
          ],
          "contourcarpet": [
           {
            "colorbar": {
             "outlinewidth": 0,
             "ticks": ""
            },
            "type": "contourcarpet"
           }
          ],
          "heatmap": [
           {
            "colorbar": {
             "outlinewidth": 0,
             "ticks": ""
            },
            "colorscale": [
             [
              0,
              "#0d0887"
             ],
             [
              0.1111111111111111,
              "#46039f"
             ],
             [
              0.2222222222222222,
              "#7201a8"
             ],
             [
              0.3333333333333333,
              "#9c179e"
             ],
             [
              0.4444444444444444,
              "#bd3786"
             ],
             [
              0.5555555555555556,
              "#d8576b"
             ],
             [
              0.6666666666666666,
              "#ed7953"
             ],
             [
              0.7777777777777778,
              "#fb9f3a"
             ],
             [
              0.8888888888888888,
              "#fdca26"
             ],
             [
              1,
              "#f0f921"
             ]
            ],
            "type": "heatmap"
           }
          ],
          "heatmapgl": [
           {
            "colorbar": {
             "outlinewidth": 0,
             "ticks": ""
            },
            "colorscale": [
             [
              0,
              "#0d0887"
             ],
             [
              0.1111111111111111,
              "#46039f"
             ],
             [
              0.2222222222222222,
              "#7201a8"
             ],
             [
              0.3333333333333333,
              "#9c179e"
             ],
             [
              0.4444444444444444,
              "#bd3786"
             ],
             [
              0.5555555555555556,
              "#d8576b"
             ],
             [
              0.6666666666666666,
              "#ed7953"
             ],
             [
              0.7777777777777778,
              "#fb9f3a"
             ],
             [
              0.8888888888888888,
              "#fdca26"
             ],
             [
              1,
              "#f0f921"
             ]
            ],
            "type": "heatmapgl"
           }
          ],
          "histogram": [
           {
            "marker": {
             "colorbar": {
              "outlinewidth": 0,
              "ticks": ""
             }
            },
            "type": "histogram"
           }
          ],
          "histogram2d": [
           {
            "colorbar": {
             "outlinewidth": 0,
             "ticks": ""
            },
            "colorscale": [
             [
              0,
              "#0d0887"
             ],
             [
              0.1111111111111111,
              "#46039f"
             ],
             [
              0.2222222222222222,
              "#7201a8"
             ],
             [
              0.3333333333333333,
              "#9c179e"
             ],
             [
              0.4444444444444444,
              "#bd3786"
             ],
             [
              0.5555555555555556,
              "#d8576b"
             ],
             [
              0.6666666666666666,
              "#ed7953"
             ],
             [
              0.7777777777777778,
              "#fb9f3a"
             ],
             [
              0.8888888888888888,
              "#fdca26"
             ],
             [
              1,
              "#f0f921"
             ]
            ],
            "type": "histogram2d"
           }
          ],
          "histogram2dcontour": [
           {
            "colorbar": {
             "outlinewidth": 0,
             "ticks": ""
            },
            "colorscale": [
             [
              0,
              "#0d0887"
             ],
             [
              0.1111111111111111,
              "#46039f"
             ],
             [
              0.2222222222222222,
              "#7201a8"
             ],
             [
              0.3333333333333333,
              "#9c179e"
             ],
             [
              0.4444444444444444,
              "#bd3786"
             ],
             [
              0.5555555555555556,
              "#d8576b"
             ],
             [
              0.6666666666666666,
              "#ed7953"
             ],
             [
              0.7777777777777778,
              "#fb9f3a"
             ],
             [
              0.8888888888888888,
              "#fdca26"
             ],
             [
              1,
              "#f0f921"
             ]
            ],
            "type": "histogram2dcontour"
           }
          ],
          "mesh3d": [
           {
            "colorbar": {
             "outlinewidth": 0,
             "ticks": ""
            },
            "type": "mesh3d"
           }
          ],
          "parcoords": [
           {
            "line": {
             "colorbar": {
              "outlinewidth": 0,
              "ticks": ""
             }
            },
            "type": "parcoords"
           }
          ],
          "pie": [
           {
            "automargin": true,
            "type": "pie"
           }
          ],
          "scatter": [
           {
            "marker": {
             "colorbar": {
              "outlinewidth": 0,
              "ticks": ""
             }
            },
            "type": "scatter"
           }
          ],
          "scatter3d": [
           {
            "line": {
             "colorbar": {
              "outlinewidth": 0,
              "ticks": ""
             }
            },
            "marker": {
             "colorbar": {
              "outlinewidth": 0,
              "ticks": ""
             }
            },
            "type": "scatter3d"
           }
          ],
          "scattercarpet": [
           {
            "marker": {
             "colorbar": {
              "outlinewidth": 0,
              "ticks": ""
             }
            },
            "type": "scattercarpet"
           }
          ],
          "scattergeo": [
           {
            "marker": {
             "colorbar": {
              "outlinewidth": 0,
              "ticks": ""
             }
            },
            "type": "scattergeo"
           }
          ],
          "scattergl": [
           {
            "marker": {
             "colorbar": {
              "outlinewidth": 0,
              "ticks": ""
             }
            },
            "type": "scattergl"
           }
          ],
          "scattermapbox": [
           {
            "marker": {
             "colorbar": {
              "outlinewidth": 0,
              "ticks": ""
             }
            },
            "type": "scattermapbox"
           }
          ],
          "scatterpolar": [
           {
            "marker": {
             "colorbar": {
              "outlinewidth": 0,
              "ticks": ""
             }
            },
            "type": "scatterpolar"
           }
          ],
          "scatterpolargl": [
           {
            "marker": {
             "colorbar": {
              "outlinewidth": 0,
              "ticks": ""
             }
            },
            "type": "scatterpolargl"
           }
          ],
          "scatterternary": [
           {
            "marker": {
             "colorbar": {
              "outlinewidth": 0,
              "ticks": ""
             }
            },
            "type": "scatterternary"
           }
          ],
          "surface": [
           {
            "colorbar": {
             "outlinewidth": 0,
             "ticks": ""
            },
            "colorscale": [
             [
              0,
              "#0d0887"
             ],
             [
              0.1111111111111111,
              "#46039f"
             ],
             [
              0.2222222222222222,
              "#7201a8"
             ],
             [
              0.3333333333333333,
              "#9c179e"
             ],
             [
              0.4444444444444444,
              "#bd3786"
             ],
             [
              0.5555555555555556,
              "#d8576b"
             ],
             [
              0.6666666666666666,
              "#ed7953"
             ],
             [
              0.7777777777777778,
              "#fb9f3a"
             ],
             [
              0.8888888888888888,
              "#fdca26"
             ],
             [
              1,
              "#f0f921"
             ]
            ],
            "type": "surface"
           }
          ],
          "table": [
           {
            "cells": {
             "fill": {
              "color": "#EBF0F8"
             },
             "line": {
              "color": "white"
             }
            },
            "header": {
             "fill": {
              "color": "#C8D4E3"
             },
             "line": {
              "color": "white"
             }
            },
            "type": "table"
           }
          ]
         },
         "layout": {
          "annotationdefaults": {
           "arrowcolor": "#2a3f5f",
           "arrowhead": 0,
           "arrowwidth": 1
          },
          "coloraxis": {
           "colorbar": {
            "outlinewidth": 0,
            "ticks": ""
           }
          },
          "colorscale": {
           "diverging": [
            [
             0,
             "#8e0152"
            ],
            [
             0.1,
             "#c51b7d"
            ],
            [
             0.2,
             "#de77ae"
            ],
            [
             0.3,
             "#f1b6da"
            ],
            [
             0.4,
             "#fde0ef"
            ],
            [
             0.5,
             "#f7f7f7"
            ],
            [
             0.6,
             "#e6f5d0"
            ],
            [
             0.7,
             "#b8e186"
            ],
            [
             0.8,
             "#7fbc41"
            ],
            [
             0.9,
             "#4d9221"
            ],
            [
             1,
             "#276419"
            ]
           ],
           "sequential": [
            [
             0,
             "#0d0887"
            ],
            [
             0.1111111111111111,
             "#46039f"
            ],
            [
             0.2222222222222222,
             "#7201a8"
            ],
            [
             0.3333333333333333,
             "#9c179e"
            ],
            [
             0.4444444444444444,
             "#bd3786"
            ],
            [
             0.5555555555555556,
             "#d8576b"
            ],
            [
             0.6666666666666666,
             "#ed7953"
            ],
            [
             0.7777777777777778,
             "#fb9f3a"
            ],
            [
             0.8888888888888888,
             "#fdca26"
            ],
            [
             1,
             "#f0f921"
            ]
           ],
           "sequentialminus": [
            [
             0,
             "#0d0887"
            ],
            [
             0.1111111111111111,
             "#46039f"
            ],
            [
             0.2222222222222222,
             "#7201a8"
            ],
            [
             0.3333333333333333,
             "#9c179e"
            ],
            [
             0.4444444444444444,
             "#bd3786"
            ],
            [
             0.5555555555555556,
             "#d8576b"
            ],
            [
             0.6666666666666666,
             "#ed7953"
            ],
            [
             0.7777777777777778,
             "#fb9f3a"
            ],
            [
             0.8888888888888888,
             "#fdca26"
            ],
            [
             1,
             "#f0f921"
            ]
           ]
          },
          "colorway": [
           "#636efa",
           "#EF553B",
           "#00cc96",
           "#ab63fa",
           "#FFA15A",
           "#19d3f3",
           "#FF6692",
           "#B6E880",
           "#FF97FF",
           "#FECB52"
          ],
          "font": {
           "color": "#2a3f5f"
          },
          "geo": {
           "bgcolor": "white",
           "lakecolor": "white",
           "landcolor": "#E5ECF6",
           "showlakes": true,
           "showland": true,
           "subunitcolor": "white"
          },
          "hoverlabel": {
           "align": "left"
          },
          "hovermode": "closest",
          "mapbox": {
           "style": "light"
          },
          "paper_bgcolor": "white",
          "plot_bgcolor": "#E5ECF6",
          "polar": {
           "angularaxis": {
            "gridcolor": "white",
            "linecolor": "white",
            "ticks": ""
           },
           "bgcolor": "#E5ECF6",
           "radialaxis": {
            "gridcolor": "white",
            "linecolor": "white",
            "ticks": ""
           }
          },
          "scene": {
           "xaxis": {
            "backgroundcolor": "#E5ECF6",
            "gridcolor": "white",
            "gridwidth": 2,
            "linecolor": "white",
            "showbackground": true,
            "ticks": "",
            "zerolinecolor": "white"
           },
           "yaxis": {
            "backgroundcolor": "#E5ECF6",
            "gridcolor": "white",
            "gridwidth": 2,
            "linecolor": "white",
            "showbackground": true,
            "ticks": "",
            "zerolinecolor": "white"
           },
           "zaxis": {
            "backgroundcolor": "#E5ECF6",
            "gridcolor": "white",
            "gridwidth": 2,
            "linecolor": "white",
            "showbackground": true,
            "ticks": "",
            "zerolinecolor": "white"
           }
          },
          "shapedefaults": {
           "line": {
            "color": "#2a3f5f"
           }
          },
          "ternary": {
           "aaxis": {
            "gridcolor": "white",
            "linecolor": "white",
            "ticks": ""
           },
           "baxis": {
            "gridcolor": "white",
            "linecolor": "white",
            "ticks": ""
           },
           "bgcolor": "#E5ECF6",
           "caxis": {
            "gridcolor": "white",
            "linecolor": "white",
            "ticks": ""
           }
          },
          "title": {
           "x": 0.05
          },
          "xaxis": {
           "automargin": true,
           "gridcolor": "white",
           "linecolor": "white",
           "ticks": "",
           "title": {
            "standoff": 15
           },
           "zerolinecolor": "white",
           "zerolinewidth": 2
          },
          "yaxis": {
           "automargin": true,
           "gridcolor": "white",
           "linecolor": "white",
           "ticks": "",
           "title": {
            "standoff": 15
           },
           "zerolinecolor": "white",
           "zerolinewidth": 2
          }
         }
        },
        "title": {
         "text": "Customer attrition in data"
        }
       }
      },
      "text/html": [
       "<div>\n",
       "        \n",
       "        \n",
       "            <div id=\"c8288418-2cbc-4c06-a58a-980f0b6dab59\" class=\"plotly-graph-div\" style=\"height:525px; width:100%;\"></div>\n",
       "            <script type=\"text/javascript\">\n",
       "                require([\"plotly\"], function(Plotly) {\n",
       "                    window.PLOTLYENV=window.PLOTLYENV || {};\n",
       "                    \n",
       "                if (document.getElementById(\"c8288418-2cbc-4c06-a58a-980f0b6dab59\")) {\n",
       "                    Plotly.newPlot(\n",
       "                        'c8288418-2cbc-4c06-a58a-980f0b6dab59',\n",
       "                        [{\"hole\": 0.5, \"hoverinfo\": \"label+value+text\", \"labels\": [0, 1], \"marker\": {\"colors\": [\"royalblue\", \"lime\"], \"line\": {\"color\": \"white\", \"width\": 1.3}}, \"rotation\": 90, \"type\": \"pie\", \"values\": [42285, 13715]}],\n",
       "                        {\"paper_bgcolor\": \"rgb(243,243,243)\", \"plot_bgcolor\": \"rgb(243,243,243)\", \"template\": {\"data\": {\"bar\": [{\"error_x\": {\"color\": \"#2a3f5f\"}, \"error_y\": {\"color\": \"#2a3f5f\"}, \"marker\": {\"line\": {\"color\": \"#E5ECF6\", \"width\": 0.5}}, \"type\": \"bar\"}], \"barpolar\": [{\"marker\": {\"line\": {\"color\": \"#E5ECF6\", \"width\": 0.5}}, \"type\": \"barpolar\"}], \"carpet\": [{\"aaxis\": {\"endlinecolor\": \"#2a3f5f\", \"gridcolor\": \"white\", \"linecolor\": \"white\", \"minorgridcolor\": \"white\", \"startlinecolor\": \"#2a3f5f\"}, \"baxis\": {\"endlinecolor\": \"#2a3f5f\", \"gridcolor\": \"white\", \"linecolor\": \"white\", \"minorgridcolor\": \"white\", \"startlinecolor\": \"#2a3f5f\"}, \"type\": \"carpet\"}], \"choropleth\": [{\"colorbar\": {\"outlinewidth\": 0, \"ticks\": \"\"}, \"type\": \"choropleth\"}], \"contour\": [{\"colorbar\": {\"outlinewidth\": 0, \"ticks\": \"\"}, \"colorscale\": [[0.0, \"#0d0887\"], [0.1111111111111111, \"#46039f\"], [0.2222222222222222, \"#7201a8\"], [0.3333333333333333, \"#9c179e\"], [0.4444444444444444, \"#bd3786\"], [0.5555555555555556, \"#d8576b\"], [0.6666666666666666, \"#ed7953\"], [0.7777777777777778, \"#fb9f3a\"], [0.8888888888888888, \"#fdca26\"], [1.0, \"#f0f921\"]], \"type\": \"contour\"}], \"contourcarpet\": [{\"colorbar\": {\"outlinewidth\": 0, \"ticks\": \"\"}, \"type\": \"contourcarpet\"}], \"heatmap\": [{\"colorbar\": {\"outlinewidth\": 0, \"ticks\": \"\"}, \"colorscale\": [[0.0, \"#0d0887\"], [0.1111111111111111, \"#46039f\"], [0.2222222222222222, \"#7201a8\"], [0.3333333333333333, \"#9c179e\"], [0.4444444444444444, \"#bd3786\"], [0.5555555555555556, \"#d8576b\"], [0.6666666666666666, \"#ed7953\"], [0.7777777777777778, \"#fb9f3a\"], [0.8888888888888888, \"#fdca26\"], [1.0, \"#f0f921\"]], \"type\": \"heatmap\"}], \"heatmapgl\": [{\"colorbar\": {\"outlinewidth\": 0, \"ticks\": \"\"}, \"colorscale\": [[0.0, \"#0d0887\"], [0.1111111111111111, \"#46039f\"], [0.2222222222222222, \"#7201a8\"], [0.3333333333333333, \"#9c179e\"], [0.4444444444444444, \"#bd3786\"], [0.5555555555555556, \"#d8576b\"], [0.6666666666666666, \"#ed7953\"], [0.7777777777777778, \"#fb9f3a\"], [0.8888888888888888, \"#fdca26\"], [1.0, \"#f0f921\"]], \"type\": \"heatmapgl\"}], \"histogram\": [{\"marker\": {\"colorbar\": {\"outlinewidth\": 0, \"ticks\": \"\"}}, \"type\": \"histogram\"}], \"histogram2d\": [{\"colorbar\": {\"outlinewidth\": 0, \"ticks\": \"\"}, \"colorscale\": [[0.0, \"#0d0887\"], [0.1111111111111111, \"#46039f\"], [0.2222222222222222, \"#7201a8\"], [0.3333333333333333, \"#9c179e\"], [0.4444444444444444, \"#bd3786\"], [0.5555555555555556, \"#d8576b\"], [0.6666666666666666, \"#ed7953\"], [0.7777777777777778, \"#fb9f3a\"], [0.8888888888888888, \"#fdca26\"], [1.0, \"#f0f921\"]], \"type\": \"histogram2d\"}], \"histogram2dcontour\": [{\"colorbar\": {\"outlinewidth\": 0, \"ticks\": \"\"}, \"colorscale\": [[0.0, \"#0d0887\"], [0.1111111111111111, \"#46039f\"], [0.2222222222222222, \"#7201a8\"], [0.3333333333333333, \"#9c179e\"], [0.4444444444444444, \"#bd3786\"], [0.5555555555555556, \"#d8576b\"], [0.6666666666666666, \"#ed7953\"], [0.7777777777777778, \"#fb9f3a\"], [0.8888888888888888, \"#fdca26\"], [1.0, \"#f0f921\"]], \"type\": \"histogram2dcontour\"}], \"mesh3d\": [{\"colorbar\": {\"outlinewidth\": 0, \"ticks\": \"\"}, \"type\": \"mesh3d\"}], \"parcoords\": [{\"line\": {\"colorbar\": {\"outlinewidth\": 0, \"ticks\": \"\"}}, \"type\": \"parcoords\"}], \"pie\": [{\"automargin\": true, \"type\": \"pie\"}], \"scatter\": [{\"marker\": {\"colorbar\": {\"outlinewidth\": 0, \"ticks\": \"\"}}, \"type\": \"scatter\"}], \"scatter3d\": [{\"line\": {\"colorbar\": {\"outlinewidth\": 0, \"ticks\": \"\"}}, \"marker\": {\"colorbar\": {\"outlinewidth\": 0, \"ticks\": \"\"}}, \"type\": \"scatter3d\"}], \"scattercarpet\": [{\"marker\": {\"colorbar\": {\"outlinewidth\": 0, \"ticks\": \"\"}}, \"type\": \"scattercarpet\"}], \"scattergeo\": [{\"marker\": {\"colorbar\": {\"outlinewidth\": 0, \"ticks\": \"\"}}, \"type\": \"scattergeo\"}], \"scattergl\": [{\"marker\": {\"colorbar\": {\"outlinewidth\": 0, \"ticks\": \"\"}}, \"type\": \"scattergl\"}], \"scattermapbox\": [{\"marker\": {\"colorbar\": {\"outlinewidth\": 0, \"ticks\": \"\"}}, \"type\": \"scattermapbox\"}], \"scatterpolar\": [{\"marker\": {\"colorbar\": {\"outlinewidth\": 0, \"ticks\": \"\"}}, \"type\": \"scatterpolar\"}], \"scatterpolargl\": [{\"marker\": {\"colorbar\": {\"outlinewidth\": 0, \"ticks\": \"\"}}, \"type\": \"scatterpolargl\"}], \"scatterternary\": [{\"marker\": {\"colorbar\": {\"outlinewidth\": 0, \"ticks\": \"\"}}, \"type\": \"scatterternary\"}], \"surface\": [{\"colorbar\": {\"outlinewidth\": 0, \"ticks\": \"\"}, \"colorscale\": [[0.0, \"#0d0887\"], [0.1111111111111111, \"#46039f\"], [0.2222222222222222, \"#7201a8\"], [0.3333333333333333, \"#9c179e\"], [0.4444444444444444, \"#bd3786\"], [0.5555555555555556, \"#d8576b\"], [0.6666666666666666, \"#ed7953\"], [0.7777777777777778, \"#fb9f3a\"], [0.8888888888888888, \"#fdca26\"], [1.0, \"#f0f921\"]], \"type\": \"surface\"}], \"table\": [{\"cells\": {\"fill\": {\"color\": \"#EBF0F8\"}, \"line\": {\"color\": \"white\"}}, \"header\": {\"fill\": {\"color\": \"#C8D4E3\"}, \"line\": {\"color\": \"white\"}}, \"type\": \"table\"}]}, \"layout\": {\"annotationdefaults\": {\"arrowcolor\": \"#2a3f5f\", \"arrowhead\": 0, \"arrowwidth\": 1}, \"coloraxis\": {\"colorbar\": {\"outlinewidth\": 0, \"ticks\": \"\"}}, \"colorscale\": {\"diverging\": [[0, \"#8e0152\"], [0.1, \"#c51b7d\"], [0.2, \"#de77ae\"], [0.3, \"#f1b6da\"], [0.4, \"#fde0ef\"], [0.5, \"#f7f7f7\"], [0.6, \"#e6f5d0\"], [0.7, \"#b8e186\"], [0.8, \"#7fbc41\"], [0.9, \"#4d9221\"], [1, \"#276419\"]], \"sequential\": [[0.0, \"#0d0887\"], [0.1111111111111111, \"#46039f\"], [0.2222222222222222, \"#7201a8\"], [0.3333333333333333, \"#9c179e\"], [0.4444444444444444, \"#bd3786\"], [0.5555555555555556, \"#d8576b\"], [0.6666666666666666, \"#ed7953\"], [0.7777777777777778, \"#fb9f3a\"], [0.8888888888888888, \"#fdca26\"], [1.0, \"#f0f921\"]], \"sequentialminus\": [[0.0, \"#0d0887\"], [0.1111111111111111, \"#46039f\"], [0.2222222222222222, \"#7201a8\"], [0.3333333333333333, \"#9c179e\"], [0.4444444444444444, \"#bd3786\"], [0.5555555555555556, \"#d8576b\"], [0.6666666666666666, \"#ed7953\"], [0.7777777777777778, \"#fb9f3a\"], [0.8888888888888888, \"#fdca26\"], [1.0, \"#f0f921\"]]}, \"colorway\": [\"#636efa\", \"#EF553B\", \"#00cc96\", \"#ab63fa\", \"#FFA15A\", \"#19d3f3\", \"#FF6692\", \"#B6E880\", \"#FF97FF\", \"#FECB52\"], \"font\": {\"color\": \"#2a3f5f\"}, \"geo\": {\"bgcolor\": \"white\", \"lakecolor\": \"white\", \"landcolor\": \"#E5ECF6\", \"showlakes\": true, \"showland\": true, \"subunitcolor\": \"white\"}, \"hoverlabel\": {\"align\": \"left\"}, \"hovermode\": \"closest\", \"mapbox\": {\"style\": \"light\"}, \"paper_bgcolor\": \"white\", \"plot_bgcolor\": \"#E5ECF6\", \"polar\": {\"angularaxis\": {\"gridcolor\": \"white\", \"linecolor\": \"white\", \"ticks\": \"\"}, \"bgcolor\": \"#E5ECF6\", \"radialaxis\": {\"gridcolor\": \"white\", \"linecolor\": \"white\", \"ticks\": \"\"}}, \"scene\": {\"xaxis\": {\"backgroundcolor\": \"#E5ECF6\", \"gridcolor\": \"white\", \"gridwidth\": 2, \"linecolor\": \"white\", \"showbackground\": true, \"ticks\": \"\", \"zerolinecolor\": \"white\"}, \"yaxis\": {\"backgroundcolor\": \"#E5ECF6\", \"gridcolor\": \"white\", \"gridwidth\": 2, \"linecolor\": \"white\", \"showbackground\": true, \"ticks\": \"\", \"zerolinecolor\": \"white\"}, \"zaxis\": {\"backgroundcolor\": \"#E5ECF6\", \"gridcolor\": \"white\", \"gridwidth\": 2, \"linecolor\": \"white\", \"showbackground\": true, \"ticks\": \"\", \"zerolinecolor\": \"white\"}}, \"shapedefaults\": {\"line\": {\"color\": \"#2a3f5f\"}}, \"ternary\": {\"aaxis\": {\"gridcolor\": \"white\", \"linecolor\": \"white\", \"ticks\": \"\"}, \"baxis\": {\"gridcolor\": \"white\", \"linecolor\": \"white\", \"ticks\": \"\"}, \"bgcolor\": \"#E5ECF6\", \"caxis\": {\"gridcolor\": \"white\", \"linecolor\": \"white\", \"ticks\": \"\"}}, \"title\": {\"x\": 0.05}, \"xaxis\": {\"automargin\": true, \"gridcolor\": \"white\", \"linecolor\": \"white\", \"ticks\": \"\", \"title\": {\"standoff\": 15}, \"zerolinecolor\": \"white\", \"zerolinewidth\": 2}, \"yaxis\": {\"automargin\": true, \"gridcolor\": \"white\", \"linecolor\": \"white\", \"ticks\": \"\", \"title\": {\"standoff\": 15}, \"zerolinecolor\": \"white\", \"zerolinewidth\": 2}}}, \"title\": {\"text\": \"Customer attrition in data\"}},\n",
       "                        {\"responsive\": true}\n",
       "                    ).then(function(){\n",
       "                            \n",
       "var gd = document.getElementById('c8288418-2cbc-4c06-a58a-980f0b6dab59');\n",
       "var x = new MutationObserver(function (mutations, observer) {{\n",
       "        var display = window.getComputedStyle(gd).display;\n",
       "        if (!display || display === 'none') {{\n",
       "            console.log([gd, 'removed!']);\n",
       "            Plotly.purge(gd);\n",
       "            observer.disconnect();\n",
       "        }}\n",
       "}});\n",
       "\n",
       "// Listen for the removal of the full notebook cells\n",
       "var notebookContainer = gd.closest('#notebook-container');\n",
       "if (notebookContainer) {{\n",
       "    x.observe(notebookContainer, {childList: true});\n",
       "}}\n",
       "\n",
       "// Listen for the clearing of the current output cell\n",
       "var outputEl = gd.closest('.output');\n",
       "if (outputEl) {{\n",
       "    x.observe(outputEl, {childList: true});\n",
       "}}\n",
       "\n",
       "                        })\n",
       "                };\n",
       "                });\n",
       "            </script>\n",
       "        </div>"
      ]
     },
     "metadata": {},
     "output_type": "display_data"
    }
   ],
   "source": [
    "#Customer attrition in data\n",
    "data_cpy = data.fillna(0)\n",
    "#Separating defaulted and non defaulted customers\n",
    "defaulted     = data_cpy[data_cpy[\"default_status\"] == 1]\n",
    "non_defaulted = data_cpy[data_cpy[\"default_status\"] == 0]\n",
    "\n",
    "#Separating catagorical and numerical columns\n",
    "Id_col     = ['Applicant_ID']\n",
    "target_col = [\"default_status\"]\n",
    "cat_cols   = data.select_dtypes('object').keys().tolist()\n",
    "cat_cols   = [x for x in cat_cols if x not in target_col]\n",
    "num_cols   = [x for x in data_cpy.columns if x not in cat_cols + target_col + Id_col]\n",
    "\n",
    "plot_customer_attrition(data_cpy,target = 'default_status')"
   ]
  },
  {
   "cell_type": "code",
   "execution_count": 28,
   "metadata": {},
   "outputs": [
    {
     "data": {
      "text/plain": [
       "<matplotlib.axes._subplots.AxesSubplot at 0x203ef959548>"
      ]
     },
     "execution_count": 28,
     "metadata": {},
     "output_type": "execute_result"
    },
    {
     "data": {
      "image/png": "[encoded data removed]",
      "text/plain": [
       "<Figure size 576x396 with 1 Axes>"
      ]
     },
     "metadata": {},
     "output_type": "display_data"
    }
   ],
   "source": [
    "sns.boxplot(x=X['form_field1'])"
   ]
  },
  {
   "cell_type": "code",
   "execution_count": 32,
   "metadata": {},
   "outputs": [
    {
     "data": {
      "text/plain": [
       "<matplotlib.axes._subplots.AxesSubplot at 0x203f1206f88>"
      ]
     },
     "execution_count": 32,
     "metadata": {},
     "output_type": "execute_result"
    },
    {
     "data": {
      "image/png": "[encoded data removed]",
      "text/plain": [
       "<Figure size 1000x1000 with 2 Axes>"
      ]
     },
     "metadata": {},
     "output_type": "display_data"
    }
   ],
   "source": [
    "#plot heatmap\n",
    "plt.figure(figsize= (10,10), dpi=100)\n",
    "sns.heatmap(X.corr())\n"
   ]
  },
  {
   "cell_type": "code",
   "execution_count": 86,
   "metadata": {},
   "outputs": [
    {
     "data": {
      "image/png": "[encoded data removed]",
      "text/plain": [
       "<Figure size 1152x576 with 1 Axes>"
      ]
     },
     "metadata": {
      "needs_background": "light"
     },
     "output_type": "display_data"
    }
   ],
   "source": [
    "    \n",
    "#scatter plot\n",
    "fig, ax = plt.subplots(figsize=(16,8))\n",
    "ax.scatter(X['form_field3'], X['form_field7'])\n",
    "ax.set_xlabel('severity on loans')\n",
    "ax.set_ylabel('active credit line')\n",
    "plt.show()\n",
    "    "
   ]
  },
  {
   "cell_type": "code",
   "execution_count": 19,
   "metadata": {
    "colab": {
     "base_uri": "https://localhost:8080/",
     "height": 35
    },
    "id": "WdxycLzo6lrq",
    "outputId": "5abea463-68b0-4b35-dee2-a81db5eac6a9"
   },
   "outputs": [],
   "source": [
    "# run knn imputation function\n",
    "X_prep, test_data_prep = preprocess_data_knn(X,y,test_data)\n",
    "save_knn_imputed(X_prep,test_data_prep)"
   ]
  },
  {
   "cell_type": "code",
   "execution_count": 21,
   "metadata": {
    "colab": {
     "base_uri": "https://localhost:8080/",
     "height": 256
    },
    "id": "j6O5ObsJEBAM",
    "outputId": "5cd2e213-d023-44f5-996d-1f0837058e58",
    "scrolled": false
   },
   "outputs": [
    {
     "data": {
      "text/plain": [
       "array([[3.4360000e+03, 2.8505000e-01, 1.6560000e+00, ..., 0.0000000e+00,\n",
       "        3.3085291e+02, 1.1295180e+00],\n",
       "       [3.4560000e+03, 6.7400002e-01, 2.3420000e-01, ..., 0.0000000e+00,\n",
       "        3.4980573e+02, 1.6204829e+00],\n",
       "       [3.2760000e+03, 5.3845000e-01, 3.1510000e+00, ..., 0.0000000e+00,\n",
       "        3.3655022e+01, 1.5133703e+00],\n",
       "       ...,\n",
       "       [3.5000000e+03, 7.6639998e-01, 0.0000000e+00, ..., 1.0000000e+00,\n",
       "        1.2524745e+03, 2.0000000e+00],\n",
       "       [3.2800000e+03, 5.2350000e-02, 2.0915999e+00, ..., 0.0000000e+00,\n",
       "        5.2505186e+03, 0.0000000e+00],\n",
       "       [3.5220000e+03, 4.6930000e-01, 0.0000000e+00, ..., 0.0000000e+00,\n",
       "        4.9861885e+03, 3.0000000e+00]], dtype=float32)"
      ]
     },
     "execution_count": 21,
     "metadata": {
      "tags": []
     },
     "output_type": "execute_result"
    }
   ],
   "source": [
    "X_prep"
   ]
  },
  {
   "cell_type": "code",
   "execution_count": null,
   "metadata": {},
   "outputs": [],
   "source": [
    "\n",
    "# run vif reduction function\n",
    "X_vif,sel_test = run_vif(X,y,test_data)"
   ]
  },
  {
   "cell_type": "code",
   "execution_count": 58,
   "metadata": {},
   "outputs": [
    {
     "data": {
      "text/html": [
       "<div>\n",
       "<style scoped>\n",
       "    .dataframe tbody tr th:only-of-type {\n",
       "        vertical-align: middle;\n",
       "    }\n",
       "\n",
       "    .dataframe tbody tr th {\n",
       "        vertical-align: top;\n",
       "    }\n",
       "\n",
       "    .dataframe thead th {\n",
       "        text-align: right;\n",
       "    }\n",
       "</style>\n",
       "<table border=\"1\" class=\"dataframe\">\n",
       "  <thead>\n",
       "    <tr style=\"text-align: right;\">\n",
       "      <th></th>\n",
       "      <th>form_field2</th>\n",
       "      <th>form_field3</th>\n",
       "      <th>form_field5</th>\n",
       "      <th>form_field6</th>\n",
       "      <th>form_field7</th>\n",
       "      <th>form_field8</th>\n",
       "      <th>form_field9</th>\n",
       "      <th>form_field11</th>\n",
       "      <th>form_field12</th>\n",
       "      <th>form_field13</th>\n",
       "      <th>...</th>\n",
       "      <th>form_field35</th>\n",
       "      <th>form_field37</th>\n",
       "      <th>form_field38</th>\n",
       "      <th>form_field39</th>\n",
       "      <th>form_field42</th>\n",
       "      <th>form_field45</th>\n",
       "      <th>form_field46</th>\n",
       "      <th>form_field48</th>\n",
       "      <th>form_field50</th>\n",
       "      <th>form_field47_charge</th>\n",
       "    </tr>\n",
       "  </thead>\n",
       "  <tbody>\n",
       "    <tr>\n",
       "      <th>0</th>\n",
       "      <td>0.28505</td>\n",
       "      <td>1.6560</td>\n",
       "      <td>0.000</td>\n",
       "      <td>0.0</td>\n",
       "      <td>10689720.0</td>\n",
       "      <td>252072.0</td>\n",
       "      <td>4272776.0</td>\n",
       "      <td>4397256.0</td>\n",
       "      <td>2301324.0</td>\n",
       "      <td>7875694.0</td>\n",
       "      <td>...</td>\n",
       "      <td>0.0</td>\n",
       "      <td>12.0</td>\n",
       "      <td>4.0</td>\n",
       "      <td>0.0</td>\n",
       "      <td>0.392854</td>\n",
       "      <td>0.0</td>\n",
       "      <td>0.0</td>\n",
       "      <td>318.124292</td>\n",
       "      <td>0.044335</td>\n",
       "      <td>1.0</td>\n",
       "    </tr>\n",
       "    <tr>\n",
       "      <th>1</th>\n",
       "      <td>0.67400</td>\n",
       "      <td>0.2342</td>\n",
       "      <td>0.000</td>\n",
       "      <td>0.0</td>\n",
       "      <td>898979.0</td>\n",
       "      <td>497531.0</td>\n",
       "      <td>9073814.0</td>\n",
       "      <td>244292.0</td>\n",
       "      <td>3982971.0</td>\n",
       "      <td>2141445.0</td>\n",
       "      <td>...</td>\n",
       "      <td>0.0</td>\n",
       "      <td>24.0</td>\n",
       "      <td>8.0</td>\n",
       "      <td>0.0</td>\n",
       "      <td>0.314281</td>\n",
       "      <td>0.0</td>\n",
       "      <td>0.0</td>\n",
       "      <td>349.805730</td>\n",
       "      <td>0.322436</td>\n",
       "      <td>1.0</td>\n",
       "    </tr>\n",
       "    <tr>\n",
       "      <th>2</th>\n",
       "      <td>0.53845</td>\n",
       "      <td>3.1510</td>\n",
       "      <td>6.282</td>\n",
       "      <td>115533.0</td>\n",
       "      <td>956940.0</td>\n",
       "      <td>963942.0</td>\n",
       "      <td>192944.0</td>\n",
       "      <td>698644.0</td>\n",
       "      <td>1163110.0</td>\n",
       "      <td>0.0</td>\n",
       "      <td>...</td>\n",
       "      <td>0.0</td>\n",
       "      <td>0.0</td>\n",
       "      <td>6.0</td>\n",
       "      <td>0.0</td>\n",
       "      <td>0.162965</td>\n",
       "      <td>0.0</td>\n",
       "      <td>0.0</td>\n",
       "      <td>318.124292</td>\n",
       "      <td>0.011640</td>\n",
       "      <td>1.0</td>\n",
       "    </tr>\n",
       "    <tr>\n",
       "      <th>3</th>\n",
       "      <td>0.17005</td>\n",
       "      <td>0.5050</td>\n",
       "      <td>0.000</td>\n",
       "      <td>192166.0</td>\n",
       "      <td>3044703.0</td>\n",
       "      <td>385499.0</td>\n",
       "      <td>3986472.0</td>\n",
       "      <td>698644.0</td>\n",
       "      <td>771776.0</td>\n",
       "      <td>1186839.0</td>\n",
       "      <td>...</td>\n",
       "      <td>1.0</td>\n",
       "      <td>8.0</td>\n",
       "      <td>4.0</td>\n",
       "      <td>1.0</td>\n",
       "      <td>0.488884</td>\n",
       "      <td>0.0</td>\n",
       "      <td>0.0</td>\n",
       "      <td>89.940100</td>\n",
       "      <td>0.082729</td>\n",
       "      <td>1.0</td>\n",
       "    </tr>\n",
       "    <tr>\n",
       "      <th>4</th>\n",
       "      <td>0.77270</td>\n",
       "      <td>1.1010</td>\n",
       "      <td>0.000</td>\n",
       "      <td>1556.0</td>\n",
       "      <td>214728.0</td>\n",
       "      <td>214728.0</td>\n",
       "      <td>1284089.0</td>\n",
       "      <td>396391.0</td>\n",
       "      <td>818456.0</td>\n",
       "      <td>511535.0</td>\n",
       "      <td>...</td>\n",
       "      <td>0.0</td>\n",
       "      <td>2.0</td>\n",
       "      <td>24.0</td>\n",
       "      <td>0.0</td>\n",
       "      <td>0.275000</td>\n",
       "      <td>0.0</td>\n",
       "      <td>0.0</td>\n",
       "      <td>97.887502</td>\n",
       "      <td>0.045630</td>\n",
       "      <td>1.0</td>\n",
       "    </tr>\n",
       "    <tr>\n",
       "      <th>...</th>\n",
       "      <td>...</td>\n",
       "      <td>...</td>\n",
       "      <td>...</td>\n",
       "      <td>...</td>\n",
       "      <td>...</td>\n",
       "      <td>...</td>\n",
       "      <td>...</td>\n",
       "      <td>...</td>\n",
       "      <td>...</td>\n",
       "      <td>...</td>\n",
       "      <td>...</td>\n",
       "      <td>...</td>\n",
       "      <td>...</td>\n",
       "      <td>...</td>\n",
       "      <td>...</td>\n",
       "      <td>...</td>\n",
       "      <td>...</td>\n",
       "      <td>...</td>\n",
       "      <td>...</td>\n",
       "      <td>...</td>\n",
       "      <td>...</td>\n",
       "    </tr>\n",
       "    <tr>\n",
       "      <th>55995</th>\n",
       "      <td>0.01730</td>\n",
       "      <td>0.0000</td>\n",
       "      <td>0.000</td>\n",
       "      <td>770998.0</td>\n",
       "      <td>9637475.0</td>\n",
       "      <td>4047934.0</td>\n",
       "      <td>11641992.0</td>\n",
       "      <td>698644.0</td>\n",
       "      <td>983003.0</td>\n",
       "      <td>25985589.0</td>\n",
       "      <td>...</td>\n",
       "      <td>0.0</td>\n",
       "      <td>8.0</td>\n",
       "      <td>8.0</td>\n",
       "      <td>0.0</td>\n",
       "      <td>0.000000</td>\n",
       "      <td>0.0</td>\n",
       "      <td>0.0</td>\n",
       "      <td>591.048913</td>\n",
       "      <td>0.241598</td>\n",
       "      <td>0.0</td>\n",
       "    </tr>\n",
       "    <tr>\n",
       "      <th>55996</th>\n",
       "      <td>2.01145</td>\n",
       "      <td>0.6252</td>\n",
       "      <td>0.000</td>\n",
       "      <td>115533.0</td>\n",
       "      <td>927765.0</td>\n",
       "      <td>963942.0</td>\n",
       "      <td>5506295.0</td>\n",
       "      <td>571052.0</td>\n",
       "      <td>1163110.0</td>\n",
       "      <td>0.0</td>\n",
       "      <td>...</td>\n",
       "      <td>0.0</td>\n",
       "      <td>0.0</td>\n",
       "      <td>34.0</td>\n",
       "      <td>0.0</td>\n",
       "      <td>0.297913</td>\n",
       "      <td>0.0</td>\n",
       "      <td>0.0</td>\n",
       "      <td>318.124292</td>\n",
       "      <td>0.170400</td>\n",
       "      <td>0.0</td>\n",
       "    </tr>\n",
       "    <tr>\n",
       "      <th>55997</th>\n",
       "      <td>0.76640</td>\n",
       "      <td>0.0000</td>\n",
       "      <td>0.000</td>\n",
       "      <td>118645.0</td>\n",
       "      <td>3662435.0</td>\n",
       "      <td>3662435.0</td>\n",
       "      <td>3585024.0</td>\n",
       "      <td>698644.0</td>\n",
       "      <td>2765401.0</td>\n",
       "      <td>4226874.0</td>\n",
       "      <td>...</td>\n",
       "      <td>0.0</td>\n",
       "      <td>0.0</td>\n",
       "      <td>4.0</td>\n",
       "      <td>0.0</td>\n",
       "      <td>0.550000</td>\n",
       "      <td>0.0</td>\n",
       "      <td>0.0</td>\n",
       "      <td>1252.474467</td>\n",
       "      <td>0.163153</td>\n",
       "      <td>0.0</td>\n",
       "    </tr>\n",
       "    <tr>\n",
       "      <th>55998</th>\n",
       "      <td>0.05235</td>\n",
       "      <td>2.0916</td>\n",
       "      <td>0.000</td>\n",
       "      <td>115533.0</td>\n",
       "      <td>3458599.0</td>\n",
       "      <td>963942.0</td>\n",
       "      <td>115533.0</td>\n",
       "      <td>508812.0</td>\n",
       "      <td>1163110.0</td>\n",
       "      <td>0.0</td>\n",
       "      <td>...</td>\n",
       "      <td>0.0</td>\n",
       "      <td>2.0</td>\n",
       "      <td>8.0</td>\n",
       "      <td>1.0</td>\n",
       "      <td>0.942854</td>\n",
       "      <td>1.0</td>\n",
       "      <td>0.0</td>\n",
       "      <td>318.124292</td>\n",
       "      <td>0.002997</td>\n",
       "      <td>1.0</td>\n",
       "    </tr>\n",
       "    <tr>\n",
       "      <th>55999</th>\n",
       "      <td>0.46930</td>\n",
       "      <td>0.0000</td>\n",
       "      <td>0.000</td>\n",
       "      <td>98806.0</td>\n",
       "      <td>2053920.0</td>\n",
       "      <td>523983.0</td>\n",
       "      <td>14903368.0</td>\n",
       "      <td>698644.0</td>\n",
       "      <td>8381783.0</td>\n",
       "      <td>5490346.0</td>\n",
       "      <td>...</td>\n",
       "      <td>0.0</td>\n",
       "      <td>8.0</td>\n",
       "      <td>2.0</td>\n",
       "      <td>0.0</td>\n",
       "      <td>0.000000</td>\n",
       "      <td>0.0</td>\n",
       "      <td>0.0</td>\n",
       "      <td>4986.188578</td>\n",
       "      <td>0.678245</td>\n",
       "      <td>1.0</td>\n",
       "    </tr>\n",
       "  </tbody>\n",
       "</table>\n",
       "<p>56000 rows × 30 columns</p>\n",
       "</div>"
      ],
      "text/plain": [
       "       form_field2  form_field3  form_field5  form_field6  form_field7  \\\n",
       "0          0.28505       1.6560        0.000          0.0   10689720.0   \n",
       "1          0.67400       0.2342        0.000          0.0     898979.0   \n",
       "2          0.53845       3.1510        6.282     115533.0     956940.0   \n",
       "3          0.17005       0.5050        0.000     192166.0    3044703.0   \n",
       "4          0.77270       1.1010        0.000       1556.0     214728.0   \n",
       "...            ...          ...          ...          ...          ...   \n",
       "55995      0.01730       0.0000        0.000     770998.0    9637475.0   \n",
       "55996      2.01145       0.6252        0.000     115533.0     927765.0   \n",
       "55997      0.76640       0.0000        0.000     118645.0    3662435.0   \n",
       "55998      0.05235       2.0916        0.000     115533.0    3458599.0   \n",
       "55999      0.46930       0.0000        0.000      98806.0    2053920.0   \n",
       "\n",
       "       form_field8  form_field9  form_field11  form_field12  form_field13  \\\n",
       "0         252072.0    4272776.0     4397256.0     2301324.0     7875694.0   \n",
       "1         497531.0    9073814.0      244292.0     3982971.0     2141445.0   \n",
       "2         963942.0     192944.0      698644.0     1163110.0           0.0   \n",
       "3         385499.0    3986472.0      698644.0      771776.0     1186839.0   \n",
       "4         214728.0    1284089.0      396391.0      818456.0      511535.0   \n",
       "...            ...          ...           ...           ...           ...   \n",
       "55995    4047934.0   11641992.0      698644.0      983003.0    25985589.0   \n",
       "55996     963942.0    5506295.0      571052.0     1163110.0           0.0   \n",
       "55997    3662435.0    3585024.0      698644.0     2765401.0     4226874.0   \n",
       "55998     963942.0     115533.0      508812.0     1163110.0           0.0   \n",
       "55999     523983.0   14903368.0      698644.0     8381783.0     5490346.0   \n",
       "\n",
       "       ...  form_field35  form_field37  form_field38  form_field39  \\\n",
       "0      ...           0.0          12.0           4.0           0.0   \n",
       "1      ...           0.0          24.0           8.0           0.0   \n",
       "2      ...           0.0           0.0           6.0           0.0   \n",
       "3      ...           1.0           8.0           4.0           1.0   \n",
       "4      ...           0.0           2.0          24.0           0.0   \n",
       "...    ...           ...           ...           ...           ...   \n",
       "55995  ...           0.0           8.0           8.0           0.0   \n",
       "55996  ...           0.0           0.0          34.0           0.0   \n",
       "55997  ...           0.0           0.0           4.0           0.0   \n",
       "55998  ...           0.0           2.0           8.0           1.0   \n",
       "55999  ...           0.0           8.0           2.0           0.0   \n",
       "\n",
       "       form_field42  form_field45  form_field46  form_field48  form_field50  \\\n",
       "0          0.392854           0.0           0.0    318.124292      0.044335   \n",
       "1          0.314281           0.0           0.0    349.805730      0.322436   \n",
       "2          0.162965           0.0           0.0    318.124292      0.011640   \n",
       "3          0.488884           0.0           0.0     89.940100      0.082729   \n",
       "4          0.275000           0.0           0.0     97.887502      0.045630   \n",
       "...             ...           ...           ...           ...           ...   \n",
       "55995      0.000000           0.0           0.0    591.048913      0.241598   \n",
       "55996      0.297913           0.0           0.0    318.124292      0.170400   \n",
       "55997      0.550000           0.0           0.0   1252.474467      0.163153   \n",
       "55998      0.942854           1.0           0.0    318.124292      0.002997   \n",
       "55999      0.000000           0.0           0.0   4986.188578      0.678245   \n",
       "\n",
       "       form_field47_charge  \n",
       "0                      1.0  \n",
       "1                      1.0  \n",
       "2                      1.0  \n",
       "3                      1.0  \n",
       "4                      1.0  \n",
       "...                    ...  \n",
       "55995                  0.0  \n",
       "55996                  0.0  \n",
       "55997                  0.0  \n",
       "55998                  1.0  \n",
       "55999                  1.0  \n",
       "\n",
       "[56000 rows x 30 columns]"
      ]
     },
     "execution_count": 58,
     "metadata": {},
     "output_type": "execute_result"
    }
   ],
   "source": [
    "X_vif"
   ]
  },
  {
   "cell_type": "code",
   "execution_count": 93,
   "metadata": {},
   "outputs": [],
   "source": [
    "#transform test_data columns with the processed train data\n",
    "test_data_dm = pd.get_dummies(test_data,columns=['form_field47'])\n",
    "test_vif = pd.DataFrame()\n",
    "new_features = X_vif.columns.tolist()\n",
    "for new_feature in new_features:\n",
    "    for column in test_data_dm.columns:\n",
    "        if new_feature == column:\n",
    "            test_vif[new_feature] = test_data_dm[column]\n",
    "test_vif = test_vif.fillna(test_vif.median())"
   ]
  },
  {
   "cell_type": "code",
   "execution_count": 96,
   "metadata": {},
   "outputs": [
    {
     "data": {
      "text/html": [
       "<div>\n",
       "<style scoped>\n",
       "    .dataframe tbody tr th:only-of-type {\n",
       "        vertical-align: middle;\n",
       "    }\n",
       "\n",
       "    .dataframe tbody tr th {\n",
       "        vertical-align: top;\n",
       "    }\n",
       "\n",
       "    .dataframe thead th {\n",
       "        text-align: right;\n",
       "    }\n",
       "</style>\n",
       "<table border=\"1\" class=\"dataframe\">\n",
       "  <thead>\n",
       "    <tr style=\"text-align: right;\">\n",
       "      <th></th>\n",
       "      <th>form_field2</th>\n",
       "      <th>form_field3</th>\n",
       "      <th>form_field5</th>\n",
       "      <th>form_field6</th>\n",
       "      <th>form_field7</th>\n",
       "      <th>form_field8</th>\n",
       "      <th>form_field9</th>\n",
       "      <th>form_field11</th>\n",
       "      <th>form_field12</th>\n",
       "      <th>form_field13</th>\n",
       "      <th>...</th>\n",
       "      <th>form_field35</th>\n",
       "      <th>form_field37</th>\n",
       "      <th>form_field38</th>\n",
       "      <th>form_field39</th>\n",
       "      <th>form_field42</th>\n",
       "      <th>form_field45</th>\n",
       "      <th>form_field46</th>\n",
       "      <th>form_field48</th>\n",
       "      <th>form_field50</th>\n",
       "      <th>form_field47_charge</th>\n",
       "    </tr>\n",
       "  </thead>\n",
       "  <tbody>\n",
       "    <tr>\n",
       "      <th>0</th>\n",
       "      <td>0.34875</td>\n",
       "      <td>10.2006</td>\n",
       "      <td>0.0000</td>\n",
       "      <td>418564.0</td>\n",
       "      <td>418564.0</td>\n",
       "      <td>418564.0</td>\n",
       "      <td>540710.0</td>\n",
       "      <td>1649749.0</td>\n",
       "      <td>5446.0</td>\n",
       "      <td>0.0</td>\n",
       "      <td>...</td>\n",
       "      <td>0.0</td>\n",
       "      <td>2.0</td>\n",
       "      <td>14.0</td>\n",
       "      <td>0.0</td>\n",
       "      <td>0.825000</td>\n",
       "      <td>0.0</td>\n",
       "      <td>0.0</td>\n",
       "      <td>313.175396</td>\n",
       "      <td>0.011221</td>\n",
       "      <td>1</td>\n",
       "    </tr>\n",
       "    <tr>\n",
       "      <th>1</th>\n",
       "      <td>1.27360</td>\n",
       "      <td>2.9606</td>\n",
       "      <td>0.0000</td>\n",
       "      <td>0.0</td>\n",
       "      <td>9858816.0</td>\n",
       "      <td>49014.0</td>\n",
       "      <td>1510098.0</td>\n",
       "      <td>622789.0</td>\n",
       "      <td>1025793.0</td>\n",
       "      <td>1396510.0</td>\n",
       "      <td>...</td>\n",
       "      <td>0.0</td>\n",
       "      <td>18.0</td>\n",
       "      <td>14.0</td>\n",
       "      <td>2.0</td>\n",
       "      <td>0.507694</td>\n",
       "      <td>1.0</td>\n",
       "      <td>0.0</td>\n",
       "      <td>313.175396</td>\n",
       "      <td>0.043525</td>\n",
       "      <td>0</td>\n",
       "    </tr>\n",
       "    <tr>\n",
       "      <th>2</th>\n",
       "      <td>0.27505</td>\n",
       "      <td>0.0600</td>\n",
       "      <td>0.0000</td>\n",
       "      <td>115533.0</td>\n",
       "      <td>2719888.0</td>\n",
       "      <td>959468.5</td>\n",
       "      <td>5529829.5</td>\n",
       "      <td>118256.0</td>\n",
       "      <td>1149495.0</td>\n",
       "      <td>1563391.0</td>\n",
       "      <td>...</td>\n",
       "      <td>0.0</td>\n",
       "      <td>6.0</td>\n",
       "      <td>0.0</td>\n",
       "      <td>0.0</td>\n",
       "      <td>0.220000</td>\n",
       "      <td>0.0</td>\n",
       "      <td>0.0</td>\n",
       "      <td>313.175396</td>\n",
       "      <td>0.168000</td>\n",
       "      <td>1</td>\n",
       "    </tr>\n",
       "    <tr>\n",
       "      <th>3</th>\n",
       "      <td>0.28505</td>\n",
       "      <td>2.8032</td>\n",
       "      <td>0.0000</td>\n",
       "      <td>0.0</td>\n",
       "      <td>473802.0</td>\n",
       "      <td>473802.0</td>\n",
       "      <td>1724437.0</td>\n",
       "      <td>1391064.0</td>\n",
       "      <td>1176725.0</td>\n",
       "      <td>1220293.0</td>\n",
       "      <td>...</td>\n",
       "      <td>1.0</td>\n",
       "      <td>0.0</td>\n",
       "      <td>26.0</td>\n",
       "      <td>0.0</td>\n",
       "      <td>0.916663</td>\n",
       "      <td>0.0</td>\n",
       "      <td>0.0</td>\n",
       "      <td>90.163742</td>\n",
       "      <td>0.104029</td>\n",
       "      <td>1</td>\n",
       "    </tr>\n",
       "    <tr>\n",
       "      <th>4</th>\n",
       "      <td>2.09545</td>\n",
       "      <td>0.8318</td>\n",
       "      <td>0.0000</td>\n",
       "      <td>19839.0</td>\n",
       "      <td>1150662.0</td>\n",
       "      <td>1150662.0</td>\n",
       "      <td>7860523.0</td>\n",
       "      <td>271133.0</td>\n",
       "      <td>613064.0</td>\n",
       "      <td>4779643.0</td>\n",
       "      <td>...</td>\n",
       "      <td>0.0</td>\n",
       "      <td>28.0</td>\n",
       "      <td>20.0</td>\n",
       "      <td>0.0</td>\n",
       "      <td>0.234047</td>\n",
       "      <td>0.0</td>\n",
       "      <td>0.0</td>\n",
       "      <td>1303.587148</td>\n",
       "      <td>0.163124</td>\n",
       "      <td>0</td>\n",
       "    </tr>\n",
       "    <tr>\n",
       "      <th>...</th>\n",
       "      <td>...</td>\n",
       "      <td>...</td>\n",
       "      <td>...</td>\n",
       "      <td>...</td>\n",
       "      <td>...</td>\n",
       "      <td>...</td>\n",
       "      <td>...</td>\n",
       "      <td>...</td>\n",
       "      <td>...</td>\n",
       "      <td>...</td>\n",
       "      <td>...</td>\n",
       "      <td>...</td>\n",
       "      <td>...</td>\n",
       "      <td>...</td>\n",
       "      <td>...</td>\n",
       "      <td>...</td>\n",
       "      <td>...</td>\n",
       "      <td>...</td>\n",
       "      <td>...</td>\n",
       "      <td>...</td>\n",
       "      <td>...</td>\n",
       "    </tr>\n",
       "    <tr>\n",
       "      <th>23995</th>\n",
       "      <td>0.37925</td>\n",
       "      <td>0.5698</td>\n",
       "      <td>0.0000</td>\n",
       "      <td>115533.0</td>\n",
       "      <td>2280318.0</td>\n",
       "      <td>959468.5</td>\n",
       "      <td>5529829.5</td>\n",
       "      <td>1743887.0</td>\n",
       "      <td>1149495.0</td>\n",
       "      <td>0.0</td>\n",
       "      <td>...</td>\n",
       "      <td>0.0</td>\n",
       "      <td>0.0</td>\n",
       "      <td>6.0</td>\n",
       "      <td>0.0</td>\n",
       "      <td>1.100000</td>\n",
       "      <td>0.0</td>\n",
       "      <td>1.0</td>\n",
       "      <td>313.175396</td>\n",
       "      <td>0.168000</td>\n",
       "      <td>1</td>\n",
       "    </tr>\n",
       "    <tr>\n",
       "      <th>23996</th>\n",
       "      <td>0.95260</td>\n",
       "      <td>0.0000</td>\n",
       "      <td>0.0000</td>\n",
       "      <td>1494538.0</td>\n",
       "      <td>4773419.0</td>\n",
       "      <td>4773419.0</td>\n",
       "      <td>89718571.0</td>\n",
       "      <td>672775.5</td>\n",
       "      <td>48989882.0</td>\n",
       "      <td>97696961.0</td>\n",
       "      <td>...</td>\n",
       "      <td>0.0</td>\n",
       "      <td>2.0</td>\n",
       "      <td>8.0</td>\n",
       "      <td>0.0</td>\n",
       "      <td>0.000000</td>\n",
       "      <td>0.0</td>\n",
       "      <td>0.0</td>\n",
       "      <td>4200.072959</td>\n",
       "      <td>0.930931</td>\n",
       "      <td>1</td>\n",
       "    </tr>\n",
       "    <tr>\n",
       "      <th>23997</th>\n",
       "      <td>0.05755</td>\n",
       "      <td>4.2394</td>\n",
       "      <td>25.4376</td>\n",
       "      <td>115533.0</td>\n",
       "      <td>49403.0</td>\n",
       "      <td>959468.5</td>\n",
       "      <td>5529829.5</td>\n",
       "      <td>215895.0</td>\n",
       "      <td>1149495.0</td>\n",
       "      <td>0.0</td>\n",
       "      <td>...</td>\n",
       "      <td>0.0</td>\n",
       "      <td>4.0</td>\n",
       "      <td>2.0</td>\n",
       "      <td>0.0</td>\n",
       "      <td>1.100000</td>\n",
       "      <td>0.0</td>\n",
       "      <td>0.0</td>\n",
       "      <td>313.175396</td>\n",
       "      <td>0.168000</td>\n",
       "      <td>1</td>\n",
       "    </tr>\n",
       "    <tr>\n",
       "      <th>23998</th>\n",
       "      <td>0.75670</td>\n",
       "      <td>1.4428</td>\n",
       "      <td>0.0000</td>\n",
       "      <td>0.0</td>\n",
       "      <td>2513329.0</td>\n",
       "      <td>37733.0</td>\n",
       "      <td>393668.0</td>\n",
       "      <td>121757.0</td>\n",
       "      <td>355935.0</td>\n",
       "      <td>673748.0</td>\n",
       "      <td>...</td>\n",
       "      <td>0.0</td>\n",
       "      <td>0.0</td>\n",
       "      <td>4.0</td>\n",
       "      <td>0.0</td>\n",
       "      <td>0.440000</td>\n",
       "      <td>0.0</td>\n",
       "      <td>0.0</td>\n",
       "      <td>27.325129</td>\n",
       "      <td>0.023749</td>\n",
       "      <td>1</td>\n",
       "    </tr>\n",
       "    <tr>\n",
       "      <th>23999</th>\n",
       "      <td>0.44840</td>\n",
       "      <td>2.3170</td>\n",
       "      <td>0.0000</td>\n",
       "      <td>115533.0</td>\n",
       "      <td>5305182.0</td>\n",
       "      <td>959468.5</td>\n",
       "      <td>18885950.0</td>\n",
       "      <td>1121098.0</td>\n",
       "      <td>0.0</td>\n",
       "      <td>3031477.0</td>\n",
       "      <td>...</td>\n",
       "      <td>0.0</td>\n",
       "      <td>8.0</td>\n",
       "      <td>0.0</td>\n",
       "      <td>0.0</td>\n",
       "      <td>0.314281</td>\n",
       "      <td>0.0</td>\n",
       "      <td>1.0</td>\n",
       "      <td>313.175396</td>\n",
       "      <td>0.391927</td>\n",
       "      <td>1</td>\n",
       "    </tr>\n",
       "  </tbody>\n",
       "</table>\n",
       "<p>24000 rows × 30 columns</p>\n",
       "</div>"
      ],
      "text/plain": [
       "       form_field2  form_field3  form_field5  form_field6  form_field7  \\\n",
       "0          0.34875      10.2006       0.0000     418564.0     418564.0   \n",
       "1          1.27360       2.9606       0.0000          0.0    9858816.0   \n",
       "2          0.27505       0.0600       0.0000     115533.0    2719888.0   \n",
       "3          0.28505       2.8032       0.0000          0.0     473802.0   \n",
       "4          2.09545       0.8318       0.0000      19839.0    1150662.0   \n",
       "...            ...          ...          ...          ...          ...   \n",
       "23995      0.37925       0.5698       0.0000     115533.0    2280318.0   \n",
       "23996      0.95260       0.0000       0.0000    1494538.0    4773419.0   \n",
       "23997      0.05755       4.2394      25.4376     115533.0      49403.0   \n",
       "23998      0.75670       1.4428       0.0000          0.0    2513329.0   \n",
       "23999      0.44840       2.3170       0.0000     115533.0    5305182.0   \n",
       "\n",
       "       form_field8  form_field9  form_field11  form_field12  form_field13  \\\n",
       "0         418564.0     540710.0     1649749.0        5446.0           0.0   \n",
       "1          49014.0    1510098.0      622789.0     1025793.0     1396510.0   \n",
       "2         959468.5    5529829.5      118256.0     1149495.0     1563391.0   \n",
       "3         473802.0    1724437.0     1391064.0     1176725.0     1220293.0   \n",
       "4        1150662.0    7860523.0      271133.0      613064.0     4779643.0   \n",
       "...            ...          ...           ...           ...           ...   \n",
       "23995     959468.5    5529829.5     1743887.0     1149495.0           0.0   \n",
       "23996    4773419.0   89718571.0      672775.5    48989882.0    97696961.0   \n",
       "23997     959468.5    5529829.5      215895.0     1149495.0           0.0   \n",
       "23998      37733.0     393668.0      121757.0      355935.0      673748.0   \n",
       "23999     959468.5   18885950.0     1121098.0           0.0     3031477.0   \n",
       "\n",
       "       ...  form_field35  form_field37  form_field38  form_field39  \\\n",
       "0      ...           0.0           2.0          14.0           0.0   \n",
       "1      ...           0.0          18.0          14.0           2.0   \n",
       "2      ...           0.0           6.0           0.0           0.0   \n",
       "3      ...           1.0           0.0          26.0           0.0   \n",
       "4      ...           0.0          28.0          20.0           0.0   \n",
       "...    ...           ...           ...           ...           ...   \n",
       "23995  ...           0.0           0.0           6.0           0.0   \n",
       "23996  ...           0.0           2.0           8.0           0.0   \n",
       "23997  ...           0.0           4.0           2.0           0.0   \n",
       "23998  ...           0.0           0.0           4.0           0.0   \n",
       "23999  ...           0.0           8.0           0.0           0.0   \n",
       "\n",
       "       form_field42  form_field45  form_field46  form_field48  form_field50  \\\n",
       "0          0.825000           0.0           0.0    313.175396      0.011221   \n",
       "1          0.507694           1.0           0.0    313.175396      0.043525   \n",
       "2          0.220000           0.0           0.0    313.175396      0.168000   \n",
       "3          0.916663           0.0           0.0     90.163742      0.104029   \n",
       "4          0.234047           0.0           0.0   1303.587148      0.163124   \n",
       "...             ...           ...           ...           ...           ...   \n",
       "23995      1.100000           0.0           1.0    313.175396      0.168000   \n",
       "23996      0.000000           0.0           0.0   4200.072959      0.930931   \n",
       "23997      1.100000           0.0           0.0    313.175396      0.168000   \n",
       "23998      0.440000           0.0           0.0     27.325129      0.023749   \n",
       "23999      0.314281           0.0           1.0    313.175396      0.391927   \n",
       "\n",
       "       form_field47_charge  \n",
       "0                        1  \n",
       "1                        0  \n",
       "2                        1  \n",
       "3                        1  \n",
       "4                        0  \n",
       "...                    ...  \n",
       "23995                    1  \n",
       "23996                    1  \n",
       "23997                    1  \n",
       "23998                    1  \n",
       "23999                    1  \n",
       "\n",
       "[24000 rows x 30 columns]"
      ]
     },
     "execution_count": 96,
     "metadata": {},
     "output_type": "execute_result"
    }
   ],
   "source": [
    "test_vif"
   ]
  },
  {
   "cell_type": "code",
   "execution_count": 36,
   "metadata": {},
   "outputs": [],
   "source": [
    "X_pr,test_data_pr = cat_xg_preprocess(X,test_data,strategy = 'constant')"
   ]
  },
  {
   "cell_type": "code",
   "execution_count": 40,
   "metadata": {},
   "outputs": [
    {
     "name": "stdout",
     "output_type": "stream",
     "text": [
      "[0]\tvalidation_0-auc:0.79318\tvalidation_1-auc:0.80006\n",
      "Multiple eval metrics have been passed: 'validation_1-auc' will be used for early stopping.\n",
      "\n",
      "Will train until validation_1-auc hasn't improved in 25 rounds.\n",
      "[1]\tvalidation_0-auc:0.80149\tvalidation_1-auc:0.80817\n",
      "[2]\tvalidation_0-auc:0.80549\tvalidation_1-auc:0.81231\n",
      "[3]\tvalidation_0-auc:0.80788\tvalidation_1-auc:0.81444\n",
      "[4]\tvalidation_0-auc:0.80861\tvalidation_1-auc:0.81498\n",
      "[5]\tvalidation_0-auc:0.81371\tvalidation_1-auc:0.82022\n",
      "[6]\tvalidation_0-auc:0.81425\tvalidation_1-auc:0.81970\n",
      "[7]\tvalidation_0-auc:0.81642\tvalidation_1-auc:0.82072\n",
      "[8]\tvalidation_0-auc:0.81695\tvalidation_1-auc:0.82097\n",
      "[9]\tvalidation_0-auc:0.81754\tvalidation_1-auc:0.82095\n",
      "[10]\tvalidation_0-auc:0.81835\tvalidation_1-auc:0.82188\n",
      "[11]\tvalidation_0-auc:0.81915\tvalidation_1-auc:0.82242\n",
      "[12]\tvalidation_0-auc:0.81987\tvalidation_1-auc:0.82351\n",
      "[13]\tvalidation_0-auc:0.82049\tvalidation_1-auc:0.82415\n",
      "[14]\tvalidation_0-auc:0.82103\tvalidation_1-auc:0.82449\n",
      "[15]\tvalidation_0-auc:0.82145\tvalidation_1-auc:0.82471\n",
      "[16]\tvalidation_0-auc:0.82186\tvalidation_1-auc:0.82506\n",
      "[17]\tvalidation_0-auc:0.82256\tvalidation_1-auc:0.82571\n",
      "[18]\tvalidation_0-auc:0.82316\tvalidation_1-auc:0.82642\n",
      "[19]\tvalidation_0-auc:0.82342\tvalidation_1-auc:0.82671\n",
      "[20]\tvalidation_0-auc:0.82391\tvalidation_1-auc:0.82686\n",
      "[21]\tvalidation_0-auc:0.82417\tvalidation_1-auc:0.82743\n",
      "[22]\tvalidation_0-auc:0.82459\tvalidation_1-auc:0.82781\n",
      "[23]\tvalidation_0-auc:0.82514\tvalidation_1-auc:0.82807\n",
      "[24]\tvalidation_0-auc:0.82540\tvalidation_1-auc:0.82813\n",
      "[25]\tvalidation_0-auc:0.82564\tvalidation_1-auc:0.82822\n",
      "[26]\tvalidation_0-auc:0.82610\tvalidation_1-auc:0.82867\n",
      "[27]\tvalidation_0-auc:0.82649\tvalidation_1-auc:0.82911\n",
      "[28]\tvalidation_0-auc:0.82681\tvalidation_1-auc:0.82929\n",
      "[29]\tvalidation_0-auc:0.82693\tvalidation_1-auc:0.82936\n",
      "[30]\tvalidation_0-auc:0.82710\tvalidation_1-auc:0.82940\n",
      "[31]\tvalidation_0-auc:0.82757\tvalidation_1-auc:0.82989\n",
      "[32]\tvalidation_0-auc:0.82798\tvalidation_1-auc:0.83012\n",
      "[33]\tvalidation_0-auc:0.82837\tvalidation_1-auc:0.83040\n",
      "[34]\tvalidation_0-auc:0.82878\tvalidation_1-auc:0.83076\n",
      "[35]\tvalidation_0-auc:0.82917\tvalidation_1-auc:0.83094\n",
      "[36]\tvalidation_0-auc:0.82950\tvalidation_1-auc:0.83130\n",
      "[37]\tvalidation_0-auc:0.82972\tvalidation_1-auc:0.83143\n",
      "[38]\tvalidation_0-auc:0.82991\tvalidation_1-auc:0.83158\n",
      "[39]\tvalidation_0-auc:0.83028\tvalidation_1-auc:0.83191\n",
      "[40]\tvalidation_0-auc:0.83061\tvalidation_1-auc:0.83212\n",
      "[41]\tvalidation_0-auc:0.83077\tvalidation_1-auc:0.83225\n",
      "[42]\tvalidation_0-auc:0.83105\tvalidation_1-auc:0.83245\n",
      "[43]\tvalidation_0-auc:0.83134\tvalidation_1-auc:0.83263\n",
      "[44]\tvalidation_0-auc:0.83152\tvalidation_1-auc:0.83277\n",
      "[45]\tvalidation_0-auc:0.83172\tvalidation_1-auc:0.83296\n",
      "[46]\tvalidation_0-auc:0.83179\tvalidation_1-auc:0.83309\n",
      "[47]\tvalidation_0-auc:0.83220\tvalidation_1-auc:0.83352\n",
      "[48]\tvalidation_0-auc:0.83249\tvalidation_1-auc:0.83372\n",
      "[49]\tvalidation_0-auc:0.83269\tvalidation_1-auc:0.83383\n",
      "[50]\tvalidation_0-auc:0.83280\tvalidation_1-auc:0.83396\n",
      "[51]\tvalidation_0-auc:0.83295\tvalidation_1-auc:0.83393\n",
      "[52]\tvalidation_0-auc:0.83314\tvalidation_1-auc:0.83401\n",
      "[53]\tvalidation_0-auc:0.83347\tvalidation_1-auc:0.83436\n",
      "[54]\tvalidation_0-auc:0.83374\tvalidation_1-auc:0.83456\n",
      "[55]\tvalidation_0-auc:0.83406\tvalidation_1-auc:0.83489\n",
      "[56]\tvalidation_0-auc:0.83422\tvalidation_1-auc:0.83493\n",
      "[57]\tvalidation_0-auc:0.83446\tvalidation_1-auc:0.83513\n",
      "[58]\tvalidation_0-auc:0.83473\tvalidation_1-auc:0.83541\n",
      "[59]\tvalidation_0-auc:0.83491\tvalidation_1-auc:0.83561\n",
      "[60]\tvalidation_0-auc:0.83519\tvalidation_1-auc:0.83582\n",
      "[61]\tvalidation_0-auc:0.83547\tvalidation_1-auc:0.83610\n",
      "[62]\tvalidation_0-auc:0.83561\tvalidation_1-auc:0.83615\n",
      "[63]\tvalidation_0-auc:0.83588\tvalidation_1-auc:0.83627\n",
      "[64]\tvalidation_0-auc:0.83612\tvalidation_1-auc:0.83636\n",
      "[65]\tvalidation_0-auc:0.83631\tvalidation_1-auc:0.83651\n",
      "[66]\tvalidation_0-auc:0.83656\tvalidation_1-auc:0.83674\n",
      "[67]\tvalidation_0-auc:0.83682\tvalidation_1-auc:0.83689\n",
      "[68]\tvalidation_0-auc:0.83707\tvalidation_1-auc:0.83709\n",
      "[69]\tvalidation_0-auc:0.83729\tvalidation_1-auc:0.83722\n",
      "[70]\tvalidation_0-auc:0.83748\tvalidation_1-auc:0.83733\n",
      "[71]\tvalidation_0-auc:0.83768\tvalidation_1-auc:0.83751\n",
      "[72]\tvalidation_0-auc:0.83788\tvalidation_1-auc:0.83759\n",
      "[73]\tvalidation_0-auc:0.83802\tvalidation_1-auc:0.83775\n",
      "[74]\tvalidation_0-auc:0.83825\tvalidation_1-auc:0.83787\n",
      "[75]\tvalidation_0-auc:0.83843\tvalidation_1-auc:0.83801\n",
      "[76]\tvalidation_0-auc:0.83864\tvalidation_1-auc:0.83822\n",
      "[77]\tvalidation_0-auc:0.83879\tvalidation_1-auc:0.83832\n",
      "[78]\tvalidation_0-auc:0.83892\tvalidation_1-auc:0.83842\n",
      "[79]\tvalidation_0-auc:0.83908\tvalidation_1-auc:0.83847\n",
      "[80]\tvalidation_0-auc:0.83923\tvalidation_1-auc:0.83851\n",
      "[81]\tvalidation_0-auc:0.83944\tvalidation_1-auc:0.83869\n",
      "[82]\tvalidation_0-auc:0.83957\tvalidation_1-auc:0.83877\n",
      "[83]\tvalidation_0-auc:0.83976\tvalidation_1-auc:0.83890\n",
      "[84]\tvalidation_0-auc:0.83991\tvalidation_1-auc:0.83898\n",
      "[85]\tvalidation_0-auc:0.84007\tvalidation_1-auc:0.83908\n",
      "[86]\tvalidation_0-auc:0.84026\tvalidation_1-auc:0.83921\n",
      "[87]\tvalidation_0-auc:0.84038\tvalidation_1-auc:0.83926\n",
      "[88]\tvalidation_0-auc:0.84059\tvalidation_1-auc:0.83947\n",
      "[89]\tvalidation_0-auc:0.84074\tvalidation_1-auc:0.83958\n",
      "[90]\tvalidation_0-auc:0.84095\tvalidation_1-auc:0.83969\n",
      "[91]\tvalidation_0-auc:0.84106\tvalidation_1-auc:0.83973\n",
      "[92]\tvalidation_0-auc:0.84123\tvalidation_1-auc:0.83993\n",
      "[93]\tvalidation_0-auc:0.84141\tvalidation_1-auc:0.83994\n",
      "[94]\tvalidation_0-auc:0.84157\tvalidation_1-auc:0.84005\n",
      "[95]\tvalidation_0-auc:0.84171\tvalidation_1-auc:0.84010\n",
      "[96]\tvalidation_0-auc:0.84187\tvalidation_1-auc:0.84020\n",
      "[97]\tvalidation_0-auc:0.84204\tvalidation_1-auc:0.84028\n",
      "[98]\tvalidation_0-auc:0.84221\tvalidation_1-auc:0.84037\n",
      "[99]\tvalidation_0-auc:0.84235\tvalidation_1-auc:0.84041\n",
      "[100]\tvalidation_0-auc:0.84248\tvalidation_1-auc:0.84050\n",
      "[101]\tvalidation_0-auc:0.84270\tvalidation_1-auc:0.84062\n",
      "[102]\tvalidation_0-auc:0.84285\tvalidation_1-auc:0.84074\n",
      "[103]\tvalidation_0-auc:0.84298\tvalidation_1-auc:0.84074\n",
      "[104]\tvalidation_0-auc:0.84310\tvalidation_1-auc:0.84074\n",
      "[105]\tvalidation_0-auc:0.84323\tvalidation_1-auc:0.84084\n",
      "[106]\tvalidation_0-auc:0.84341\tvalidation_1-auc:0.84099\n",
      "[107]\tvalidation_0-auc:0.84362\tvalidation_1-auc:0.84115\n",
      "[108]\tvalidation_0-auc:0.84370\tvalidation_1-auc:0.84119\n",
      "[109]\tvalidation_0-auc:0.84382\tvalidation_1-auc:0.84127\n",
      "[110]\tvalidation_0-auc:0.84396\tvalidation_1-auc:0.84125\n",
      "[111]\tvalidation_0-auc:0.84406\tvalidation_1-auc:0.84132\n",
      "[112]\tvalidation_0-auc:0.84423\tvalidation_1-auc:0.84143\n",
      "[113]\tvalidation_0-auc:0.84435\tvalidation_1-auc:0.84150\n",
      "[114]\tvalidation_0-auc:0.84450\tvalidation_1-auc:0.84161\n",
      "[115]\tvalidation_0-auc:0.84465\tvalidation_1-auc:0.84164\n",
      "[116]\tvalidation_0-auc:0.84473\tvalidation_1-auc:0.84171\n",
      "[117]\tvalidation_0-auc:0.84486\tvalidation_1-auc:0.84174\n",
      "[118]\tvalidation_0-auc:0.84495\tvalidation_1-auc:0.84188\n",
      "[119]\tvalidation_0-auc:0.84504\tvalidation_1-auc:0.84188\n",
      "[120]\tvalidation_0-auc:0.84513\tvalidation_1-auc:0.84190\n",
      "[121]\tvalidation_0-auc:0.84528\tvalidation_1-auc:0.84193\n",
      "[122]\tvalidation_0-auc:0.84535\tvalidation_1-auc:0.84196\n",
      "[123]\tvalidation_0-auc:0.84545\tvalidation_1-auc:0.84202\n",
      "[124]\tvalidation_0-auc:0.84554\tvalidation_1-auc:0.84200\n",
      "[125]\tvalidation_0-auc:0.84563\tvalidation_1-auc:0.84203\n",
      "[126]\tvalidation_0-auc:0.84572\tvalidation_1-auc:0.84201\n",
      "[127]\tvalidation_0-auc:0.84586\tvalidation_1-auc:0.84203\n",
      "[128]\tvalidation_0-auc:0.84594\tvalidation_1-auc:0.84209\n",
      "[129]\tvalidation_0-auc:0.84610\tvalidation_1-auc:0.84208\n",
      "[130]\tvalidation_0-auc:0.84624\tvalidation_1-auc:0.84213\n",
      "[131]\tvalidation_0-auc:0.84636\tvalidation_1-auc:0.84216\n",
      "[132]\tvalidation_0-auc:0.84652\tvalidation_1-auc:0.84217\n",
      "[133]\tvalidation_0-auc:0.84663\tvalidation_1-auc:0.84221\n",
      "[134]\tvalidation_0-auc:0.84675\tvalidation_1-auc:0.84220\n",
      "[135]\tvalidation_0-auc:0.84693\tvalidation_1-auc:0.84225\n",
      "[136]\tvalidation_0-auc:0.84711\tvalidation_1-auc:0.84226\n",
      "[137]\tvalidation_0-auc:0.84721\tvalidation_1-auc:0.84225\n",
      "[138]\tvalidation_0-auc:0.84743\tvalidation_1-auc:0.84236\n",
      "[139]\tvalidation_0-auc:0.84758\tvalidation_1-auc:0.84244\n",
      "[140]\tvalidation_0-auc:0.84771\tvalidation_1-auc:0.84250\n",
      "[141]\tvalidation_0-auc:0.84784\tvalidation_1-auc:0.84256\n",
      "[142]\tvalidation_0-auc:0.84798\tvalidation_1-auc:0.84260\n",
      "[143]\tvalidation_0-auc:0.84812\tvalidation_1-auc:0.84262\n",
      "[144]\tvalidation_0-auc:0.84825\tvalidation_1-auc:0.84261\n",
      "[145]\tvalidation_0-auc:0.84838\tvalidation_1-auc:0.84269\n"
     ]
    },
    {
     "name": "stdout",
     "output_type": "stream",
     "text": [
      "[146]\tvalidation_0-auc:0.84854\tvalidation_1-auc:0.84273\n",
      "[147]\tvalidation_0-auc:0.84869\tvalidation_1-auc:0.84273\n",
      "[148]\tvalidation_0-auc:0.84887\tvalidation_1-auc:0.84282\n",
      "[149]\tvalidation_0-auc:0.84896\tvalidation_1-auc:0.84282\n",
      "[150]\tvalidation_0-auc:0.84909\tvalidation_1-auc:0.84288\n",
      "[151]\tvalidation_0-auc:0.84925\tvalidation_1-auc:0.84294\n",
      "[152]\tvalidation_0-auc:0.84943\tvalidation_1-auc:0.84311\n",
      "[153]\tvalidation_0-auc:0.84951\tvalidation_1-auc:0.84314\n",
      "[154]\tvalidation_0-auc:0.84965\tvalidation_1-auc:0.84315\n",
      "[155]\tvalidation_0-auc:0.84977\tvalidation_1-auc:0.84314\n",
      "[156]\tvalidation_0-auc:0.84985\tvalidation_1-auc:0.84314\n",
      "[157]\tvalidation_0-auc:0.84994\tvalidation_1-auc:0.84316\n",
      "[158]\tvalidation_0-auc:0.85007\tvalidation_1-auc:0.84322\n",
      "[159]\tvalidation_0-auc:0.85023\tvalidation_1-auc:0.84319\n",
      "[160]\tvalidation_0-auc:0.85035\tvalidation_1-auc:0.84318\n",
      "[161]\tvalidation_0-auc:0.85045\tvalidation_1-auc:0.84316\n",
      "[162]\tvalidation_0-auc:0.85063\tvalidation_1-auc:0.84325\n",
      "[163]\tvalidation_0-auc:0.85075\tvalidation_1-auc:0.84328\n",
      "[164]\tvalidation_0-auc:0.85087\tvalidation_1-auc:0.84330\n",
      "[165]\tvalidation_0-auc:0.85099\tvalidation_1-auc:0.84334\n",
      "[166]\tvalidation_0-auc:0.85109\tvalidation_1-auc:0.84334\n",
      "[167]\tvalidation_0-auc:0.85123\tvalidation_1-auc:0.84339\n",
      "[168]\tvalidation_0-auc:0.85133\tvalidation_1-auc:0.84343\n",
      "[169]\tvalidation_0-auc:0.85143\tvalidation_1-auc:0.84346\n",
      "[170]\tvalidation_0-auc:0.85160\tvalidation_1-auc:0.84356\n",
      "[171]\tvalidation_0-auc:0.85168\tvalidation_1-auc:0.84357\n",
      "[172]\tvalidation_0-auc:0.85184\tvalidation_1-auc:0.84363\n",
      "[173]\tvalidation_0-auc:0.85192\tvalidation_1-auc:0.84363\n",
      "[174]\tvalidation_0-auc:0.85208\tvalidation_1-auc:0.84371\n",
      "[175]\tvalidation_0-auc:0.85227\tvalidation_1-auc:0.84368\n",
      "[176]\tvalidation_0-auc:0.85238\tvalidation_1-auc:0.84368\n",
      "[177]\tvalidation_0-auc:0.85249\tvalidation_1-auc:0.84370\n",
      "[178]\tvalidation_0-auc:0.85259\tvalidation_1-auc:0.84370\n",
      "[179]\tvalidation_0-auc:0.85278\tvalidation_1-auc:0.84374\n",
      "[180]\tvalidation_0-auc:0.85295\tvalidation_1-auc:0.84374\n",
      "[181]\tvalidation_0-auc:0.85304\tvalidation_1-auc:0.84374\n",
      "[182]\tvalidation_0-auc:0.85320\tvalidation_1-auc:0.84375\n",
      "[183]\tvalidation_0-auc:0.85327\tvalidation_1-auc:0.84375\n",
      "[184]\tvalidation_0-auc:0.85339\tvalidation_1-auc:0.84379\n",
      "[185]\tvalidation_0-auc:0.85352\tvalidation_1-auc:0.84381\n",
      "[186]\tvalidation_0-auc:0.85363\tvalidation_1-auc:0.84384\n",
      "[187]\tvalidation_0-auc:0.85375\tvalidation_1-auc:0.84388\n",
      "[188]\tvalidation_0-auc:0.85388\tvalidation_1-auc:0.84396\n",
      "[189]\tvalidation_0-auc:0.85400\tvalidation_1-auc:0.84400\n",
      "[190]\tvalidation_0-auc:0.85406\tvalidation_1-auc:0.84403\n",
      "[191]\tvalidation_0-auc:0.85416\tvalidation_1-auc:0.84410\n",
      "[192]\tvalidation_0-auc:0.85424\tvalidation_1-auc:0.84411\n",
      "[193]\tvalidation_0-auc:0.85440\tvalidation_1-auc:0.84407\n",
      "[194]\tvalidation_0-auc:0.85457\tvalidation_1-auc:0.84405\n",
      "[195]\tvalidation_0-auc:0.85463\tvalidation_1-auc:0.84405\n",
      "[196]\tvalidation_0-auc:0.85471\tvalidation_1-auc:0.84404\n",
      "[197]\tvalidation_0-auc:0.85478\tvalidation_1-auc:0.84405\n",
      "[198]\tvalidation_0-auc:0.85483\tvalidation_1-auc:0.84405\n",
      "[199]\tvalidation_0-auc:0.85495\tvalidation_1-auc:0.84408\n",
      "[200]\tvalidation_0-auc:0.85512\tvalidation_1-auc:0.84413\n",
      "[201]\tvalidation_0-auc:0.85525\tvalidation_1-auc:0.84417\n",
      "[202]\tvalidation_0-auc:0.85535\tvalidation_1-auc:0.84416\n",
      "[203]\tvalidation_0-auc:0.85547\tvalidation_1-auc:0.84422\n",
      "[204]\tvalidation_0-auc:0.85554\tvalidation_1-auc:0.84424\n",
      "[205]\tvalidation_0-auc:0.85560\tvalidation_1-auc:0.84422\n",
      "[206]\tvalidation_0-auc:0.85571\tvalidation_1-auc:0.84422\n",
      "[207]\tvalidation_0-auc:0.85582\tvalidation_1-auc:0.84425\n",
      "[208]\tvalidation_0-auc:0.85593\tvalidation_1-auc:0.84426\n",
      "[209]\tvalidation_0-auc:0.85603\tvalidation_1-auc:0.84426\n",
      "[210]\tvalidation_0-auc:0.85614\tvalidation_1-auc:0.84425\n",
      "[211]\tvalidation_0-auc:0.85622\tvalidation_1-auc:0.84427\n",
      "[212]\tvalidation_0-auc:0.85629\tvalidation_1-auc:0.84428\n",
      "[213]\tvalidation_0-auc:0.85636\tvalidation_1-auc:0.84426\n",
      "[214]\tvalidation_0-auc:0.85645\tvalidation_1-auc:0.84428\n",
      "[215]\tvalidation_0-auc:0.85654\tvalidation_1-auc:0.84426\n",
      "[216]\tvalidation_0-auc:0.85664\tvalidation_1-auc:0.84431\n",
      "[217]\tvalidation_0-auc:0.85673\tvalidation_1-auc:0.84431\n",
      "[218]\tvalidation_0-auc:0.85688\tvalidation_1-auc:0.84437\n",
      "[219]\tvalidation_0-auc:0.85698\tvalidation_1-auc:0.84435\n",
      "[220]\tvalidation_0-auc:0.85714\tvalidation_1-auc:0.84444\n",
      "[221]\tvalidation_0-auc:0.85724\tvalidation_1-auc:0.84443\n",
      "[222]\tvalidation_0-auc:0.85729\tvalidation_1-auc:0.84444\n",
      "[223]\tvalidation_0-auc:0.85742\tvalidation_1-auc:0.84446\n",
      "[224]\tvalidation_0-auc:0.85752\tvalidation_1-auc:0.84445\n",
      "[225]\tvalidation_0-auc:0.85757\tvalidation_1-auc:0.84444\n",
      "[226]\tvalidation_0-auc:0.85766\tvalidation_1-auc:0.84443\n",
      "[227]\tvalidation_0-auc:0.85770\tvalidation_1-auc:0.84442\n",
      "[228]\tvalidation_0-auc:0.85779\tvalidation_1-auc:0.84440\n",
      "[229]\tvalidation_0-auc:0.85788\tvalidation_1-auc:0.84447\n",
      "[230]\tvalidation_0-auc:0.85793\tvalidation_1-auc:0.84448\n",
      "[231]\tvalidation_0-auc:0.85801\tvalidation_1-auc:0.84446\n",
      "[232]\tvalidation_0-auc:0.85810\tvalidation_1-auc:0.84446\n",
      "[233]\tvalidation_0-auc:0.85816\tvalidation_1-auc:0.84447\n",
      "[234]\tvalidation_0-auc:0.85822\tvalidation_1-auc:0.84446\n",
      "[235]\tvalidation_0-auc:0.85829\tvalidation_1-auc:0.84449\n",
      "[236]\tvalidation_0-auc:0.85837\tvalidation_1-auc:0.84449\n",
      "[237]\tvalidation_0-auc:0.85847\tvalidation_1-auc:0.84450\n",
      "[238]\tvalidation_0-auc:0.85860\tvalidation_1-auc:0.84446\n",
      "[239]\tvalidation_0-auc:0.85871\tvalidation_1-auc:0.84450\n",
      "[240]\tvalidation_0-auc:0.85878\tvalidation_1-auc:0.84448\n",
      "[241]\tvalidation_0-auc:0.85887\tvalidation_1-auc:0.84455\n",
      "[242]\tvalidation_0-auc:0.85894\tvalidation_1-auc:0.84456\n",
      "[243]\tvalidation_0-auc:0.85904\tvalidation_1-auc:0.84456\n",
      "[244]\tvalidation_0-auc:0.85915\tvalidation_1-auc:0.84460\n",
      "[245]\tvalidation_0-auc:0.85923\tvalidation_1-auc:0.84461\n",
      "[246]\tvalidation_0-auc:0.85937\tvalidation_1-auc:0.84458\n",
      "[247]\tvalidation_0-auc:0.85943\tvalidation_1-auc:0.84459\n",
      "[248]\tvalidation_0-auc:0.85954\tvalidation_1-auc:0.84459\n",
      "[249]\tvalidation_0-auc:0.85965\tvalidation_1-auc:0.84456\n",
      "[250]\tvalidation_0-auc:0.85971\tvalidation_1-auc:0.84452\n",
      "[251]\tvalidation_0-auc:0.85977\tvalidation_1-auc:0.84455\n",
      "[252]\tvalidation_0-auc:0.85986\tvalidation_1-auc:0.84455\n",
      "[253]\tvalidation_0-auc:0.85989\tvalidation_1-auc:0.84454\n",
      "[254]\tvalidation_0-auc:0.86001\tvalidation_1-auc:0.84455\n",
      "[255]\tvalidation_0-auc:0.86011\tvalidation_1-auc:0.84453\n",
      "[256]\tvalidation_0-auc:0.86022\tvalidation_1-auc:0.84456\n",
      "[257]\tvalidation_0-auc:0.86034\tvalidation_1-auc:0.84459\n",
      "[258]\tvalidation_0-auc:0.86044\tvalidation_1-auc:0.84456\n",
      "[259]\tvalidation_0-auc:0.86057\tvalidation_1-auc:0.84454\n",
      "[260]\tvalidation_0-auc:0.86064\tvalidation_1-auc:0.84454\n",
      "[261]\tvalidation_0-auc:0.86068\tvalidation_1-auc:0.84453\n",
      "[262]\tvalidation_0-auc:0.86072\tvalidation_1-auc:0.84449\n",
      "[263]\tvalidation_0-auc:0.86081\tvalidation_1-auc:0.84447\n",
      "[264]\tvalidation_0-auc:0.86087\tvalidation_1-auc:0.84445\n",
      "[265]\tvalidation_0-auc:0.86098\tvalidation_1-auc:0.84445\n",
      "[266]\tvalidation_0-auc:0.86107\tvalidation_1-auc:0.84445\n",
      "[267]\tvalidation_0-auc:0.86118\tvalidation_1-auc:0.84444\n",
      "[268]\tvalidation_0-auc:0.86131\tvalidation_1-auc:0.84449\n",
      "[269]\tvalidation_0-auc:0.86143\tvalidation_1-auc:0.84450\n",
      "[270]\tvalidation_0-auc:0.86154\tvalidation_1-auc:0.84447\n",
      "Stopping. Best iteration:\n",
      "[245]\tvalidation_0-auc:0.85923\tvalidation_1-auc:0.84461\n",
      "\n"
     ]
    },
    {
     "name": "stderr",
     "output_type": "stream",
     "text": [
      "No handles with labels found to put in legend.\n"
     ]
    },
    {
     "data": {
      "image/png": "[encoded data removed]",
      "text/plain": [
       "<Figure size 576x396 with 1 Axes>"
      ]
     },
     "metadata": {},
     "output_type": "display_data"
    },
    {
     "data": {
      "image/png": "[encoded data removed]",
      "text/plain": [
       "<Figure size 576x396 with 1 Axes>"
      ]
     },
     "metadata": {},
     "output_type": "display_data"
    },
    {
     "name": "stdout",
     "output_type": "stream",
     "text": [
      "\n",
      "               precision    recall  f1-score   support\n",
      "\n",
      "           0       0.84      0.93      0.88      8457\n",
      "           1       0.67      0.44      0.53      2743\n",
      "\n",
      "    accuracy                           0.81     11200\n",
      "   macro avg       0.76      0.69      0.71     11200\n",
      "weighted avg       0.80      0.81      0.80     11200\n",
      "\n",
      "-------------END EXECUTION-------------\n",
      "-------prediction saved as xgboost20201004-080424.csv--------\n"
     ]
    },
    {
     "data": {
      "image/png": "[encoded data removed]",
      "text/plain": [
       "<Figure size 576x396 with 1 Axes>"
      ]
     },
     "metadata": {},
     "output_type": "display_data"
    }
   ],
   "source": [
    "\n",
    "run_xgboost_and_calculate_auc(X_pr,y,test_data_pr,learning_rate=0.04565,CV =False,smote=False)"
   ]
  },
  {
   "cell_type": "code",
   "execution_count": 41,
   "metadata": {},
   "outputs": [],
   "source": [
    "important_features = ['form_field6','form_field1','form_field47_lending','form_field47_charge','form_field38','form_field37','form_field17','form_field25','form_field18','form_field35','form_field28','form_field2','form_field42','form_field8','form_field34','form_field19','form_field23','form_field36','form_field16','form_field40']"
   ]
  },
  {
   "cell_type": "code",
   "execution_count": 42,
   "metadata": {},
   "outputs": [
    {
     "name": "stdout",
     "output_type": "stream",
     "text": [
      "form_field6             3.023502e+05\n",
      "form_field1             2.740000e+02\n",
      "form_field47_lending    1.000000e+00\n",
      "form_field47_charge     1.000000e+00\n",
      "form_field38            8.000000e+00\n",
      "form_field37            1.200000e+01\n",
      "form_field17            0.000000e+00\n",
      "form_field25            2.440500e+03\n",
      "form_field18            0.000000e+00\n",
      "form_field35            0.000000e+00\n",
      "form_field28            6.071200e+04\n",
      "form_field2             6.280000e-01\n",
      "form_field42            6.111160e-01\n",
      "form_field8             2.361230e+06\n",
      "form_field34            0.000000e+00\n",
      "form_field19            1.000000e+00\n",
      "form_field23            5.495734e+03\n",
      "form_field36            1.000000e+01\n",
      "form_field16            0.000000e+00\n",
      "form_field40            0.000000e+00\n",
      "dtype: float64\n",
      "(15834, 20)\n"
     ]
    }
   ],
   "source": [
    "#update data with important features and show the quantile range\n",
    "X_important = X_pr[important_features]\n",
    "test_data_important = test_data_pr[important_features]\n",
    "Q1 = X_important.quantile(0.25)\n",
    "Q3 = X_important.quantile(0.75)\n",
    "IQR = Q3 - Q1\n",
    "print(IQR)\n",
    "#remove outliers\n",
    "X_out = X_important[~((X_important < (Q1 - 1.5 * IQR)) |(X_important > (Q3 + 1.5 * IQR))).any(axis=1)]\n",
    "print(X_out.shape)"
   ]
  },
  {
   "cell_type": "code",
   "execution_count": 43,
   "metadata": {},
   "outputs": [
    {
     "name": "stdout",
     "output_type": "stream",
     "text": [
      "[0]\tvalidation_0-auc:0.79265\tvalidation_1-auc:0.79949\n",
      "Multiple eval metrics have been passed: 'validation_1-auc' will be used for early stopping.\n",
      "\n",
      "Will train until validation_1-auc hasn't improved in 25 rounds.\n",
      "[1]\tvalidation_0-auc:0.80242\tvalidation_1-auc:0.80870\n",
      "[2]\tvalidation_0-auc:0.80558\tvalidation_1-auc:0.81103\n",
      "[3]\tvalidation_0-auc:0.80694\tvalidation_1-auc:0.81233\n",
      "[4]\tvalidation_0-auc:0.80824\tvalidation_1-auc:0.81422\n",
      "[5]\tvalidation_0-auc:0.80907\tvalidation_1-auc:0.81460\n",
      "[6]\tvalidation_0-auc:0.81097\tvalidation_1-auc:0.81606\n",
      "[7]\tvalidation_0-auc:0.81334\tvalidation_1-auc:0.81779\n",
      "[8]\tvalidation_0-auc:0.81391\tvalidation_1-auc:0.81828\n",
      "[9]\tvalidation_0-auc:0.81660\tvalidation_1-auc:0.82050\n",
      "[10]\tvalidation_0-auc:0.81777\tvalidation_1-auc:0.82150\n",
      "[11]\tvalidation_0-auc:0.81862\tvalidation_1-auc:0.82235\n",
      "[12]\tvalidation_0-auc:0.81963\tvalidation_1-auc:0.82283\n",
      "[13]\tvalidation_0-auc:0.82019\tvalidation_1-auc:0.82335\n",
      "[14]\tvalidation_0-auc:0.82054\tvalidation_1-auc:0.82351\n",
      "[15]\tvalidation_0-auc:0.82085\tvalidation_1-auc:0.82359\n",
      "[16]\tvalidation_0-auc:0.82123\tvalidation_1-auc:0.82374\n",
      "[17]\tvalidation_0-auc:0.82187\tvalidation_1-auc:0.82431\n",
      "[18]\tvalidation_0-auc:0.82206\tvalidation_1-auc:0.82428\n",
      "[19]\tvalidation_0-auc:0.82243\tvalidation_1-auc:0.82483\n",
      "[20]\tvalidation_0-auc:0.82315\tvalidation_1-auc:0.82559\n",
      "[21]\tvalidation_0-auc:0.82368\tvalidation_1-auc:0.82616\n",
      "[22]\tvalidation_0-auc:0.82395\tvalidation_1-auc:0.82640\n",
      "[23]\tvalidation_0-auc:0.82418\tvalidation_1-auc:0.82680\n",
      "[24]\tvalidation_0-auc:0.82446\tvalidation_1-auc:0.82711\n",
      "[25]\tvalidation_0-auc:0.82470\tvalidation_1-auc:0.82725\n",
      "[26]\tvalidation_0-auc:0.82513\tvalidation_1-auc:0.82766\n",
      "[27]\tvalidation_0-auc:0.82557\tvalidation_1-auc:0.82790\n",
      "[28]\tvalidation_0-auc:0.82591\tvalidation_1-auc:0.82815\n",
      "[29]\tvalidation_0-auc:0.82613\tvalidation_1-auc:0.82834\n",
      "[30]\tvalidation_0-auc:0.82650\tvalidation_1-auc:0.82863\n",
      "[31]\tvalidation_0-auc:0.82676\tvalidation_1-auc:0.82900\n",
      "[32]\tvalidation_0-auc:0.82700\tvalidation_1-auc:0.82918\n",
      "[33]\tvalidation_0-auc:0.82735\tvalidation_1-auc:0.82940\n",
      "[34]\tvalidation_0-auc:0.82756\tvalidation_1-auc:0.82973\n",
      "[35]\tvalidation_0-auc:0.82771\tvalidation_1-auc:0.82982\n",
      "[36]\tvalidation_0-auc:0.82804\tvalidation_1-auc:0.83023\n",
      "[37]\tvalidation_0-auc:0.82817\tvalidation_1-auc:0.83024\n",
      "[38]\tvalidation_0-auc:0.82851\tvalidation_1-auc:0.83049\n",
      "[39]\tvalidation_0-auc:0.82882\tvalidation_1-auc:0.83082\n",
      "[40]\tvalidation_0-auc:0.82904\tvalidation_1-auc:0.83110\n",
      "[41]\tvalidation_0-auc:0.82918\tvalidation_1-auc:0.83124\n",
      "[42]\tvalidation_0-auc:0.82935\tvalidation_1-auc:0.83144\n",
      "[43]\tvalidation_0-auc:0.82952\tvalidation_1-auc:0.83169\n",
      "[44]\tvalidation_0-auc:0.82974\tvalidation_1-auc:0.83189\n",
      "[45]\tvalidation_0-auc:0.83004\tvalidation_1-auc:0.83218\n",
      "[46]\tvalidation_0-auc:0.83015\tvalidation_1-auc:0.83228\n",
      "[47]\tvalidation_0-auc:0.83039\tvalidation_1-auc:0.83261\n",
      "[48]\tvalidation_0-auc:0.83056\tvalidation_1-auc:0.83271\n",
      "[49]\tvalidation_0-auc:0.83076\tvalidation_1-auc:0.83276\n",
      "[50]\tvalidation_0-auc:0.83090\tvalidation_1-auc:0.83286\n",
      "[51]\tvalidation_0-auc:0.83110\tvalidation_1-auc:0.83307\n",
      "[52]\tvalidation_0-auc:0.83127\tvalidation_1-auc:0.83320\n",
      "[53]\tvalidation_0-auc:0.83146\tvalidation_1-auc:0.83327\n",
      "[54]\tvalidation_0-auc:0.83166\tvalidation_1-auc:0.83343\n",
      "[55]\tvalidation_0-auc:0.83179\tvalidation_1-auc:0.83358\n",
      "[56]\tvalidation_0-auc:0.83197\tvalidation_1-auc:0.83373\n",
      "[57]\tvalidation_0-auc:0.83215\tvalidation_1-auc:0.83384\n",
      "[58]\tvalidation_0-auc:0.83234\tvalidation_1-auc:0.83400\n",
      "[59]\tvalidation_0-auc:0.83257\tvalidation_1-auc:0.83414\n",
      "[60]\tvalidation_0-auc:0.83278\tvalidation_1-auc:0.83431\n",
      "[61]\tvalidation_0-auc:0.83302\tvalidation_1-auc:0.83455\n",
      "[62]\tvalidation_0-auc:0.83314\tvalidation_1-auc:0.83459\n",
      "[63]\tvalidation_0-auc:0.83332\tvalidation_1-auc:0.83471\n",
      "[64]\tvalidation_0-auc:0.83349\tvalidation_1-auc:0.83483\n",
      "[65]\tvalidation_0-auc:0.83366\tvalidation_1-auc:0.83500\n",
      "[66]\tvalidation_0-auc:0.83385\tvalidation_1-auc:0.83511\n",
      "[67]\tvalidation_0-auc:0.83391\tvalidation_1-auc:0.83523\n",
      "[68]\tvalidation_0-auc:0.83418\tvalidation_1-auc:0.83552\n",
      "[69]\tvalidation_0-auc:0.83435\tvalidation_1-auc:0.83568\n",
      "[70]\tvalidation_0-auc:0.83451\tvalidation_1-auc:0.83583\n",
      "[71]\tvalidation_0-auc:0.83464\tvalidation_1-auc:0.83591\n",
      "[72]\tvalidation_0-auc:0.83473\tvalidation_1-auc:0.83591\n",
      "[73]\tvalidation_0-auc:0.83485\tvalidation_1-auc:0.83603\n",
      "[74]\tvalidation_0-auc:0.83499\tvalidation_1-auc:0.83616\n",
      "[75]\tvalidation_0-auc:0.83510\tvalidation_1-auc:0.83631\n",
      "[76]\tvalidation_0-auc:0.83522\tvalidation_1-auc:0.83646\n",
      "[77]\tvalidation_0-auc:0.83535\tvalidation_1-auc:0.83657\n",
      "[78]\tvalidation_0-auc:0.83548\tvalidation_1-auc:0.83668\n",
      "[79]\tvalidation_0-auc:0.83561\tvalidation_1-auc:0.83671\n",
      "[80]\tvalidation_0-auc:0.83571\tvalidation_1-auc:0.83683\n",
      "[81]\tvalidation_0-auc:0.83584\tvalidation_1-auc:0.83699\n",
      "[82]\tvalidation_0-auc:0.83596\tvalidation_1-auc:0.83703\n",
      "[83]\tvalidation_0-auc:0.83608\tvalidation_1-auc:0.83713\n",
      "[84]\tvalidation_0-auc:0.83616\tvalidation_1-auc:0.83713\n",
      "[85]\tvalidation_0-auc:0.83627\tvalidation_1-auc:0.83724\n",
      "[86]\tvalidation_0-auc:0.83644\tvalidation_1-auc:0.83735\n",
      "[87]\tvalidation_0-auc:0.83651\tvalidation_1-auc:0.83736\n",
      "[88]\tvalidation_0-auc:0.83661\tvalidation_1-auc:0.83740\n",
      "[89]\tvalidation_0-auc:0.83674\tvalidation_1-auc:0.83746\n",
      "[90]\tvalidation_0-auc:0.83680\tvalidation_1-auc:0.83753\n",
      "[91]\tvalidation_0-auc:0.83691\tvalidation_1-auc:0.83760\n",
      "[92]\tvalidation_0-auc:0.83706\tvalidation_1-auc:0.83772\n",
      "[93]\tvalidation_0-auc:0.83712\tvalidation_1-auc:0.83778\n",
      "[94]\tvalidation_0-auc:0.83723\tvalidation_1-auc:0.83788\n",
      "[95]\tvalidation_0-auc:0.83731\tvalidation_1-auc:0.83792\n",
      "[96]\tvalidation_0-auc:0.83740\tvalidation_1-auc:0.83802\n",
      "[97]\tvalidation_0-auc:0.83747\tvalidation_1-auc:0.83806\n",
      "[98]\tvalidation_0-auc:0.83759\tvalidation_1-auc:0.83818\n",
      "[99]\tvalidation_0-auc:0.83770\tvalidation_1-auc:0.83821\n",
      "[100]\tvalidation_0-auc:0.83780\tvalidation_1-auc:0.83830\n",
      "[101]\tvalidation_0-auc:0.83786\tvalidation_1-auc:0.83832\n",
      "[102]\tvalidation_0-auc:0.83795\tvalidation_1-auc:0.83841\n",
      "[103]\tvalidation_0-auc:0.83799\tvalidation_1-auc:0.83844\n",
      "[104]\tvalidation_0-auc:0.83806\tvalidation_1-auc:0.83846\n",
      "[105]\tvalidation_0-auc:0.83816\tvalidation_1-auc:0.83853\n",
      "[106]\tvalidation_0-auc:0.83826\tvalidation_1-auc:0.83861\n",
      "[107]\tvalidation_0-auc:0.83831\tvalidation_1-auc:0.83863\n",
      "[108]\tvalidation_0-auc:0.83837\tvalidation_1-auc:0.83866\n",
      "[109]\tvalidation_0-auc:0.83848\tvalidation_1-auc:0.83874\n",
      "[110]\tvalidation_0-auc:0.83857\tvalidation_1-auc:0.83881\n",
      "[111]\tvalidation_0-auc:0.83863\tvalidation_1-auc:0.83880\n",
      "[112]\tvalidation_0-auc:0.83871\tvalidation_1-auc:0.83888\n",
      "[113]\tvalidation_0-auc:0.83881\tvalidation_1-auc:0.83890\n",
      "[114]\tvalidation_0-auc:0.83891\tvalidation_1-auc:0.83891\n",
      "[115]\tvalidation_0-auc:0.83899\tvalidation_1-auc:0.83895\n",
      "[116]\tvalidation_0-auc:0.83907\tvalidation_1-auc:0.83897\n",
      "[117]\tvalidation_0-auc:0.83917\tvalidation_1-auc:0.83902\n",
      "[118]\tvalidation_0-auc:0.83924\tvalidation_1-auc:0.83907\n",
      "[119]\tvalidation_0-auc:0.83931\tvalidation_1-auc:0.83906\n",
      "[120]\tvalidation_0-auc:0.83940\tvalidation_1-auc:0.83906\n",
      "[121]\tvalidation_0-auc:0.83946\tvalidation_1-auc:0.83908\n",
      "[122]\tvalidation_0-auc:0.83954\tvalidation_1-auc:0.83912\n",
      "[123]\tvalidation_0-auc:0.83959\tvalidation_1-auc:0.83914\n",
      "[124]\tvalidation_0-auc:0.83962\tvalidation_1-auc:0.83920\n",
      "[125]\tvalidation_0-auc:0.83967\tvalidation_1-auc:0.83922\n",
      "[126]\tvalidation_0-auc:0.83971\tvalidation_1-auc:0.83923\n",
      "[127]\tvalidation_0-auc:0.83981\tvalidation_1-auc:0.83928\n",
      "[128]\tvalidation_0-auc:0.83986\tvalidation_1-auc:0.83928\n",
      "[129]\tvalidation_0-auc:0.83993\tvalidation_1-auc:0.83931\n",
      "[130]\tvalidation_0-auc:0.83999\tvalidation_1-auc:0.83934\n",
      "[131]\tvalidation_0-auc:0.84008\tvalidation_1-auc:0.83938\n",
      "[132]\tvalidation_0-auc:0.84019\tvalidation_1-auc:0.83944\n",
      "[133]\tvalidation_0-auc:0.84026\tvalidation_1-auc:0.83942\n",
      "[134]\tvalidation_0-auc:0.84029\tvalidation_1-auc:0.83946\n",
      "[135]\tvalidation_0-auc:0.84038\tvalidation_1-auc:0.83952\n",
      "[136]\tvalidation_0-auc:0.84042\tvalidation_1-auc:0.83957\n",
      "[137]\tvalidation_0-auc:0.84049\tvalidation_1-auc:0.83956\n",
      "[138]\tvalidation_0-auc:0.84054\tvalidation_1-auc:0.83957\n",
      "[139]\tvalidation_0-auc:0.84061\tvalidation_1-auc:0.83958\n",
      "[140]\tvalidation_0-auc:0.84071\tvalidation_1-auc:0.83956\n",
      "[141]\tvalidation_0-auc:0.84080\tvalidation_1-auc:0.83957\n",
      "[142]\tvalidation_0-auc:0.84090\tvalidation_1-auc:0.83956\n",
      "[143]\tvalidation_0-auc:0.84094\tvalidation_1-auc:0.83955\n",
      "[144]\tvalidation_0-auc:0.84105\tvalidation_1-auc:0.83957\n",
      "[145]\tvalidation_0-auc:0.84113\tvalidation_1-auc:0.83958\n"
     ]
    },
    {
     "name": "stdout",
     "output_type": "stream",
     "text": [
      "[146]\tvalidation_0-auc:0.84120\tvalidation_1-auc:0.83959\n",
      "[147]\tvalidation_0-auc:0.84125\tvalidation_1-auc:0.83962\n",
      "[148]\tvalidation_0-auc:0.84138\tvalidation_1-auc:0.83970\n",
      "[149]\tvalidation_0-auc:0.84151\tvalidation_1-auc:0.83974\n",
      "[150]\tvalidation_0-auc:0.84154\tvalidation_1-auc:0.83975\n",
      "[151]\tvalidation_0-auc:0.84164\tvalidation_1-auc:0.83980\n",
      "[152]\tvalidation_0-auc:0.84171\tvalidation_1-auc:0.83980\n",
      "[153]\tvalidation_0-auc:0.84174\tvalidation_1-auc:0.83982\n",
      "[154]\tvalidation_0-auc:0.84182\tvalidation_1-auc:0.83985\n",
      "[155]\tvalidation_0-auc:0.84188\tvalidation_1-auc:0.83984\n",
      "[156]\tvalidation_0-auc:0.84193\tvalidation_1-auc:0.83985\n",
      "[157]\tvalidation_0-auc:0.84200\tvalidation_1-auc:0.83991\n",
      "[158]\tvalidation_0-auc:0.84209\tvalidation_1-auc:0.83994\n",
      "[159]\tvalidation_0-auc:0.84217\tvalidation_1-auc:0.83996\n",
      "[160]\tvalidation_0-auc:0.84227\tvalidation_1-auc:0.83997\n",
      "[161]\tvalidation_0-auc:0.84230\tvalidation_1-auc:0.83995\n",
      "[162]\tvalidation_0-auc:0.84233\tvalidation_1-auc:0.83995\n",
      "[163]\tvalidation_0-auc:0.84244\tvalidation_1-auc:0.84001\n",
      "[164]\tvalidation_0-auc:0.84250\tvalidation_1-auc:0.84002\n",
      "[165]\tvalidation_0-auc:0.84256\tvalidation_1-auc:0.84004\n",
      "[166]\tvalidation_0-auc:0.84266\tvalidation_1-auc:0.84005\n",
      "[167]\tvalidation_0-auc:0.84271\tvalidation_1-auc:0.84005\n",
      "[168]\tvalidation_0-auc:0.84274\tvalidation_1-auc:0.84008\n",
      "[169]\tvalidation_0-auc:0.84279\tvalidation_1-auc:0.84009\n",
      "[170]\tvalidation_0-auc:0.84288\tvalidation_1-auc:0.84009\n",
      "[171]\tvalidation_0-auc:0.84296\tvalidation_1-auc:0.84010\n",
      "[172]\tvalidation_0-auc:0.84303\tvalidation_1-auc:0.84020\n",
      "[173]\tvalidation_0-auc:0.84304\tvalidation_1-auc:0.84019\n",
      "[174]\tvalidation_0-auc:0.84310\tvalidation_1-auc:0.84021\n",
      "[175]\tvalidation_0-auc:0.84320\tvalidation_1-auc:0.84024\n",
      "[176]\tvalidation_0-auc:0.84324\tvalidation_1-auc:0.84026\n",
      "[177]\tvalidation_0-auc:0.84330\tvalidation_1-auc:0.84025\n",
      "[178]\tvalidation_0-auc:0.84340\tvalidation_1-auc:0.84025\n",
      "[179]\tvalidation_0-auc:0.84352\tvalidation_1-auc:0.84034\n",
      "[180]\tvalidation_0-auc:0.84358\tvalidation_1-auc:0.84039\n",
      "[181]\tvalidation_0-auc:0.84364\tvalidation_1-auc:0.84036\n",
      "[182]\tvalidation_0-auc:0.84368\tvalidation_1-auc:0.84035\n",
      "[183]\tvalidation_0-auc:0.84373\tvalidation_1-auc:0.84036\n",
      "[184]\tvalidation_0-auc:0.84383\tvalidation_1-auc:0.84040\n",
      "[185]\tvalidation_0-auc:0.84384\tvalidation_1-auc:0.84041\n",
      "[186]\tvalidation_0-auc:0.84387\tvalidation_1-auc:0.84042\n",
      "[187]\tvalidation_0-auc:0.84396\tvalidation_1-auc:0.84045\n",
      "[188]\tvalidation_0-auc:0.84403\tvalidation_1-auc:0.84051\n",
      "[189]\tvalidation_0-auc:0.84410\tvalidation_1-auc:0.84059\n",
      "[190]\tvalidation_0-auc:0.84413\tvalidation_1-auc:0.84058\n",
      "[191]\tvalidation_0-auc:0.84419\tvalidation_1-auc:0.84058\n",
      "[192]\tvalidation_0-auc:0.84424\tvalidation_1-auc:0.84058\n",
      "[193]\tvalidation_0-auc:0.84433\tvalidation_1-auc:0.84061\n",
      "[194]\tvalidation_0-auc:0.84443\tvalidation_1-auc:0.84064\n",
      "[195]\tvalidation_0-auc:0.84444\tvalidation_1-auc:0.84063\n",
      "[196]\tvalidation_0-auc:0.84451\tvalidation_1-auc:0.84065\n",
      "[197]\tvalidation_0-auc:0.84456\tvalidation_1-auc:0.84065\n",
      "[198]\tvalidation_0-auc:0.84460\tvalidation_1-auc:0.84070\n",
      "[199]\tvalidation_0-auc:0.84462\tvalidation_1-auc:0.84074\n",
      "[200]\tvalidation_0-auc:0.84468\tvalidation_1-auc:0.84075\n",
      "[201]\tvalidation_0-auc:0.84473\tvalidation_1-auc:0.84075\n",
      "[202]\tvalidation_0-auc:0.84478\tvalidation_1-auc:0.84074\n",
      "[203]\tvalidation_0-auc:0.84483\tvalidation_1-auc:0.84071\n",
      "[204]\tvalidation_0-auc:0.84495\tvalidation_1-auc:0.84074\n",
      "[205]\tvalidation_0-auc:0.84496\tvalidation_1-auc:0.84074\n",
      "[206]\tvalidation_0-auc:0.84505\tvalidation_1-auc:0.84078\n",
      "[207]\tvalidation_0-auc:0.84508\tvalidation_1-auc:0.84076\n",
      "[208]\tvalidation_0-auc:0.84519\tvalidation_1-auc:0.84072\n",
      "[209]\tvalidation_0-auc:0.84526\tvalidation_1-auc:0.84070\n",
      "[210]\tvalidation_0-auc:0.84534\tvalidation_1-auc:0.84071\n",
      "[211]\tvalidation_0-auc:0.84535\tvalidation_1-auc:0.84072\n",
      "[212]\tvalidation_0-auc:0.84541\tvalidation_1-auc:0.84070\n",
      "[213]\tvalidation_0-auc:0.84545\tvalidation_1-auc:0.84069\n",
      "[214]\tvalidation_0-auc:0.84546\tvalidation_1-auc:0.84071\n",
      "[215]\tvalidation_0-auc:0.84555\tvalidation_1-auc:0.84075\n",
      "[216]\tvalidation_0-auc:0.84560\tvalidation_1-auc:0.84073\n",
      "[217]\tvalidation_0-auc:0.84565\tvalidation_1-auc:0.84070\n",
      "[218]\tvalidation_0-auc:0.84569\tvalidation_1-auc:0.84073\n",
      "[219]\tvalidation_0-auc:0.84575\tvalidation_1-auc:0.84076\n",
      "[220]\tvalidation_0-auc:0.84585\tvalidation_1-auc:0.84078\n",
      "[221]\tvalidation_0-auc:0.84591\tvalidation_1-auc:0.84077\n",
      "[222]\tvalidation_0-auc:0.84595\tvalidation_1-auc:0.84076\n",
      "[223]\tvalidation_0-auc:0.84601\tvalidation_1-auc:0.84082\n",
      "[224]\tvalidation_0-auc:0.84608\tvalidation_1-auc:0.84083\n",
      "[225]\tvalidation_0-auc:0.84609\tvalidation_1-auc:0.84081\n",
      "[226]\tvalidation_0-auc:0.84615\tvalidation_1-auc:0.84083\n",
      "[227]\tvalidation_0-auc:0.84622\tvalidation_1-auc:0.84083\n",
      "[228]\tvalidation_0-auc:0.84628\tvalidation_1-auc:0.84083\n",
      "[229]\tvalidation_0-auc:0.84632\tvalidation_1-auc:0.84083\n",
      "[230]\tvalidation_0-auc:0.84636\tvalidation_1-auc:0.84082\n",
      "[231]\tvalidation_0-auc:0.84647\tvalidation_1-auc:0.84083\n",
      "[232]\tvalidation_0-auc:0.84650\tvalidation_1-auc:0.84085\n",
      "[233]\tvalidation_0-auc:0.84656\tvalidation_1-auc:0.84084\n",
      "[234]\tvalidation_0-auc:0.84659\tvalidation_1-auc:0.84085\n",
      "[235]\tvalidation_0-auc:0.84663\tvalidation_1-auc:0.84084\n",
      "[236]\tvalidation_0-auc:0.84672\tvalidation_1-auc:0.84086\n",
      "[237]\tvalidation_0-auc:0.84675\tvalidation_1-auc:0.84088\n",
      "[238]\tvalidation_0-auc:0.84682\tvalidation_1-auc:0.84088\n",
      "[239]\tvalidation_0-auc:0.84687\tvalidation_1-auc:0.84090\n",
      "[240]\tvalidation_0-auc:0.84695\tvalidation_1-auc:0.84088\n",
      "[241]\tvalidation_0-auc:0.84701\tvalidation_1-auc:0.84086\n",
      "[242]\tvalidation_0-auc:0.84708\tvalidation_1-auc:0.84088\n",
      "[243]\tvalidation_0-auc:0.84716\tvalidation_1-auc:0.84089\n",
      "[244]\tvalidation_0-auc:0.84722\tvalidation_1-auc:0.84096\n",
      "[245]\tvalidation_0-auc:0.84727\tvalidation_1-auc:0.84096\n",
      "[246]\tvalidation_0-auc:0.84737\tvalidation_1-auc:0.84099\n",
      "[247]\tvalidation_0-auc:0.84741\tvalidation_1-auc:0.84099\n",
      "[248]\tvalidation_0-auc:0.84750\tvalidation_1-auc:0.84099\n",
      "[249]\tvalidation_0-auc:0.84759\tvalidation_1-auc:0.84097\n",
      "[250]\tvalidation_0-auc:0.84767\tvalidation_1-auc:0.84099\n",
      "[251]\tvalidation_0-auc:0.84771\tvalidation_1-auc:0.84102\n",
      "[252]\tvalidation_0-auc:0.84776\tvalidation_1-auc:0.84101\n",
      "[253]\tvalidation_0-auc:0.84784\tvalidation_1-auc:0.84101\n",
      "[254]\tvalidation_0-auc:0.84788\tvalidation_1-auc:0.84102\n",
      "[255]\tvalidation_0-auc:0.84795\tvalidation_1-auc:0.84101\n",
      "[256]\tvalidation_0-auc:0.84803\tvalidation_1-auc:0.84099\n",
      "[257]\tvalidation_0-auc:0.84813\tvalidation_1-auc:0.84098\n",
      "[258]\tvalidation_0-auc:0.84816\tvalidation_1-auc:0.84099\n",
      "[259]\tvalidation_0-auc:0.84820\tvalidation_1-auc:0.84098\n",
      "[260]\tvalidation_0-auc:0.84822\tvalidation_1-auc:0.84099\n",
      "[261]\tvalidation_0-auc:0.84827\tvalidation_1-auc:0.84099\n",
      "[262]\tvalidation_0-auc:0.84829\tvalidation_1-auc:0.84098\n",
      "[263]\tvalidation_0-auc:0.84834\tvalidation_1-auc:0.84099\n",
      "[264]\tvalidation_0-auc:0.84836\tvalidation_1-auc:0.84098\n",
      "[265]\tvalidation_0-auc:0.84842\tvalidation_1-auc:0.84100\n",
      "[266]\tvalidation_0-auc:0.84849\tvalidation_1-auc:0.84101\n",
      "[267]\tvalidation_0-auc:0.84856\tvalidation_1-auc:0.84102\n",
      "[268]\tvalidation_0-auc:0.84865\tvalidation_1-auc:0.84102\n",
      "[269]\tvalidation_0-auc:0.84871\tvalidation_1-auc:0.84105\n",
      "[270]\tvalidation_0-auc:0.84872\tvalidation_1-auc:0.84105\n",
      "[271]\tvalidation_0-auc:0.84878\tvalidation_1-auc:0.84106\n",
      "[272]\tvalidation_0-auc:0.84884\tvalidation_1-auc:0.84108\n",
      "[273]\tvalidation_0-auc:0.84896\tvalidation_1-auc:0.84113\n",
      "[274]\tvalidation_0-auc:0.84901\tvalidation_1-auc:0.84117\n",
      "[275]\tvalidation_0-auc:0.84904\tvalidation_1-auc:0.84115\n",
      "[276]\tvalidation_0-auc:0.84906\tvalidation_1-auc:0.84115\n",
      "[277]\tvalidation_0-auc:0.84912\tvalidation_1-auc:0.84112\n",
      "[278]\tvalidation_0-auc:0.84918\tvalidation_1-auc:0.84109\n",
      "[279]\tvalidation_0-auc:0.84924\tvalidation_1-auc:0.84109\n",
      "[280]\tvalidation_0-auc:0.84926\tvalidation_1-auc:0.84107\n",
      "[281]\tvalidation_0-auc:0.84927\tvalidation_1-auc:0.84106\n",
      "[282]\tvalidation_0-auc:0.84931\tvalidation_1-auc:0.84107\n",
      "[283]\tvalidation_0-auc:0.84939\tvalidation_1-auc:0.84106\n",
      "[284]\tvalidation_0-auc:0.84943\tvalidation_1-auc:0.84105\n",
      "[285]\tvalidation_0-auc:0.84948\tvalidation_1-auc:0.84103\n",
      "[286]\tvalidation_0-auc:0.84952\tvalidation_1-auc:0.84099\n",
      "[287]\tvalidation_0-auc:0.84959\tvalidation_1-auc:0.84102\n",
      "[288]\tvalidation_0-auc:0.84962\tvalidation_1-auc:0.84103\n",
      "[289]\tvalidation_0-auc:0.84967\tvalidation_1-auc:0.84099\n",
      "[290]\tvalidation_0-auc:0.84974\tvalidation_1-auc:0.84102\n",
      "[291]\tvalidation_0-auc:0.84979\tvalidation_1-auc:0.84101\n",
      "[292]\tvalidation_0-auc:0.84987\tvalidation_1-auc:0.84103\n"
     ]
    },
    {
     "name": "stdout",
     "output_type": "stream",
     "text": [
      "[293]\tvalidation_0-auc:0.84989\tvalidation_1-auc:0.84103\n",
      "[294]\tvalidation_0-auc:0.84996\tvalidation_1-auc:0.84104\n",
      "[295]\tvalidation_0-auc:0.84997\tvalidation_1-auc:0.84104\n",
      "[296]\tvalidation_0-auc:0.85001\tvalidation_1-auc:0.84105\n",
      "[297]\tvalidation_0-auc:0.85005\tvalidation_1-auc:0.84103\n",
      "[298]\tvalidation_0-auc:0.85007\tvalidation_1-auc:0.84102\n",
      "[299]\tvalidation_0-auc:0.85016\tvalidation_1-auc:0.84107\n",
      "Stopping. Best iteration:\n",
      "[274]\tvalidation_0-auc:0.84901\tvalidation_1-auc:0.84117\n",
      "\n"
     ]
    },
    {
     "name": "stderr",
     "output_type": "stream",
     "text": [
      "No handles with labels found to put in legend.\n"
     ]
    },
    {
     "data": {
      "image/png": "[encoded data removed]",
      "text/plain": [
       "<Figure size 576x396 with 1 Axes>"
      ]
     },
     "metadata": {},
     "output_type": "display_data"
    },
    {
     "data": {
      "image/png": "[encoded data removed]",
      "text/plain": [
       "<Figure size 576x396 with 1 Axes>"
      ]
     },
     "metadata": {},
     "output_type": "display_data"
    },
    {
     "name": "stdout",
     "output_type": "stream",
     "text": [
      "\n",
      "               precision    recall  f1-score   support\n",
      "\n",
      "           0       0.83      0.93      0.88      8457\n",
      "           1       0.67      0.43      0.52      2743\n",
      "\n",
      "    accuracy                           0.81     11200\n",
      "   macro avg       0.75      0.68      0.70     11200\n",
      "weighted avg       0.79      0.81      0.79     11200\n",
      "\n",
      "-------------END EXECUTION-------------\n",
      "-------prediction saved as xgboost20201004-080535.csv--------\n"
     ]
    },
    {
     "data": {
      "image/png": "[encoded data removed]",
      "text/plain": [
       "<Figure size 576x396 with 1 Axes>"
      ]
     },
     "metadata": {},
     "output_type": "display_data"
    }
   ],
   "source": [
    "#handle outliers in best features with robust scaler and retrain\n",
    "rb = RobustScaler()\n",
    "rb.fit(X_important)\n",
    "X_important_tr = rb.transform(X_important)\n",
    "test_data_important_tr = rb.transform(test_data_important)\n",
    "\n",
    "run_xgboost_and_calculate_auc(X_important_tr,y,test_data_important_tr,learning_rate=0.04565,CV =False,smote=False)"
   ]
  },
  {
   "cell_type": "code",
   "execution_count": 120,
   "metadata": {
    "scrolled": false
   },
   "outputs": [
    {
     "name": "stdout",
     "output_type": "stream",
     "text": [
      "0:\ttest: 0.8103716\tbest: 0.8103716 (0)\ttotal: 60ms\tremaining: 59.9s\n",
      "1:\ttest: 0.8213347\tbest: 0.8213347 (1)\ttotal: 105ms\tremaining: 52.2s\n",
      "2:\ttest: 0.8242933\tbest: 0.8242933 (2)\ttotal: 146ms\tremaining: 48.6s\n",
      "3:\ttest: 0.8237703\tbest: 0.8242933 (2)\ttotal: 193ms\tremaining: 48.1s\n",
      "4:\ttest: 0.8244208\tbest: 0.8244208 (4)\ttotal: 236ms\tremaining: 47s\n",
      "5:\ttest: 0.8249940\tbest: 0.8249940 (5)\ttotal: 301ms\tremaining: 49.9s\n",
      "6:\ttest: 0.8262394\tbest: 0.8262394 (6)\ttotal: 366ms\tremaining: 51.9s\n",
      "7:\ttest: 0.8266602\tbest: 0.8266602 (7)\ttotal: 444ms\tremaining: 55.1s\n",
      "8:\ttest: 0.8268646\tbest: 0.8268646 (8)\ttotal: 504ms\tremaining: 55.5s\n",
      "9:\ttest: 0.8279597\tbest: 0.8279597 (9)\ttotal: 602ms\tremaining: 59.6s\n",
      "10:\ttest: 0.8287483\tbest: 0.8287483 (10)\ttotal: 670ms\tremaining: 1m\n",
      "11:\ttest: 0.8294294\tbest: 0.8294294 (11)\ttotal: 737ms\tremaining: 1m\n",
      "12:\ttest: 0.8297161\tbest: 0.8297161 (12)\ttotal: 819ms\tremaining: 1m 2s\n",
      "13:\ttest: 0.8300401\tbest: 0.8300401 (13)\ttotal: 876ms\tremaining: 1m 1s\n",
      "14:\ttest: 0.8303847\tbest: 0.8303847 (14)\ttotal: 959ms\tremaining: 1m 2s\n",
      "15:\ttest: 0.8307086\tbest: 0.8307086 (15)\ttotal: 1.04s\tremaining: 1m 3s\n",
      "16:\ttest: 0.8309847\tbest: 0.8309847 (16)\ttotal: 1.09s\tremaining: 1m 3s\n",
      "17:\ttest: 0.8314477\tbest: 0.8314477 (17)\ttotal: 1.14s\tremaining: 1m 2s\n",
      "18:\ttest: 0.8320258\tbest: 0.8320258 (18)\ttotal: 1.21s\tremaining: 1m 2s\n",
      "19:\ttest: 0.8323764\tbest: 0.8323764 (19)\ttotal: 1.26s\tremaining: 1m 1s\n",
      "20:\ttest: 0.8326657\tbest: 0.8326657 (20)\ttotal: 1.3s\tremaining: 1m\n",
      "21:\ttest: 0.8329586\tbest: 0.8329586 (21)\ttotal: 1.35s\tremaining: 1m\n",
      "22:\ttest: 0.8331507\tbest: 0.8331507 (22)\ttotal: 1.39s\tremaining: 59.2s\n",
      "23:\ttest: 0.8332324\tbest: 0.8332324 (23)\ttotal: 1.44s\tremaining: 58.8s\n",
      "24:\ttest: 0.8333015\tbest: 0.8333015 (24)\ttotal: 1.5s\tremaining: 58.5s\n",
      "25:\ttest: 0.8335308\tbest: 0.8335308 (25)\ttotal: 1.55s\tremaining: 58s\n",
      "26:\ttest: 0.8336779\tbest: 0.8336779 (26)\ttotal: 1.59s\tremaining: 57.3s\n",
      "27:\ttest: 0.8340557\tbest: 0.8340557 (27)\ttotal: 1.64s\tremaining: 56.8s\n",
      "28:\ttest: 0.8343334\tbest: 0.8343334 (28)\ttotal: 1.69s\tremaining: 56.6s\n",
      "29:\ttest: 0.8342577\tbest: 0.8343334 (28)\ttotal: 1.75s\tremaining: 56.6s\n",
      "30:\ttest: 0.8345137\tbest: 0.8345137 (30)\ttotal: 1.79s\tremaining: 56s\n",
      "31:\ttest: 0.8346816\tbest: 0.8346816 (31)\ttotal: 1.84s\tremaining: 55.6s\n",
      "32:\ttest: 0.8346962\tbest: 0.8346962 (32)\ttotal: 1.9s\tremaining: 55.6s\n",
      "33:\ttest: 0.8348075\tbest: 0.8348075 (33)\ttotal: 1.94s\tremaining: 55.1s\n",
      "34:\ttest: 0.8349071\tbest: 0.8349071 (34)\ttotal: 1.98s\tremaining: 54.7s\n",
      "35:\ttest: 0.8350791\tbest: 0.8350791 (35)\ttotal: 2.04s\tremaining: 54.6s\n",
      "36:\ttest: 0.8352460\tbest: 0.8352460 (36)\ttotal: 2.09s\tremaining: 54.5s\n",
      "37:\ttest: 0.8353794\tbest: 0.8353794 (37)\ttotal: 2.14s\tremaining: 54.3s\n",
      "38:\ttest: 0.8353812\tbest: 0.8353812 (38)\ttotal: 2.21s\tremaining: 54.4s\n",
      "39:\ttest: 0.8355131\tbest: 0.8355131 (39)\ttotal: 2.26s\tremaining: 54.3s\n",
      "40:\ttest: 0.8357279\tbest: 0.8357279 (40)\ttotal: 2.31s\tremaining: 54.1s\n",
      "41:\ttest: 0.8357553\tbest: 0.8357553 (41)\ttotal: 2.39s\tremaining: 54.6s\n",
      "42:\ttest: 0.8357334\tbest: 0.8357553 (41)\ttotal: 2.48s\tremaining: 55.2s\n",
      "43:\ttest: 0.8357714\tbest: 0.8357714 (43)\ttotal: 2.57s\tremaining: 55.9s\n",
      "44:\ttest: 0.8358363\tbest: 0.8358363 (44)\ttotal: 2.63s\tremaining: 55.9s\n",
      "45:\ttest: 0.8358812\tbest: 0.8358812 (45)\ttotal: 2.72s\tremaining: 56.5s\n",
      "46:\ttest: 0.8360530\tbest: 0.8360530 (46)\ttotal: 2.79s\tremaining: 56.6s\n",
      "47:\ttest: 0.8361064\tbest: 0.8361064 (47)\ttotal: 2.85s\tremaining: 56.6s\n",
      "48:\ttest: 0.8361326\tbest: 0.8361326 (48)\ttotal: 2.91s\tremaining: 56.5s\n",
      "49:\ttest: 0.8361976\tbest: 0.8361976 (49)\ttotal: 2.97s\tremaining: 56.5s\n",
      "50:\ttest: 0.8363260\tbest: 0.8363260 (50)\ttotal: 3.05s\tremaining: 56.7s\n",
      "51:\ttest: 0.8364062\tbest: 0.8364062 (51)\ttotal: 3.1s\tremaining: 56.5s\n",
      "52:\ttest: 0.8364637\tbest: 0.8364637 (52)\ttotal: 3.16s\tremaining: 56.4s\n",
      "53:\ttest: 0.8364664\tbest: 0.8364664 (53)\ttotal: 3.23s\tremaining: 56.6s\n",
      "54:\ttest: 0.8364981\tbest: 0.8364981 (54)\ttotal: 3.28s\tremaining: 56.4s\n",
      "55:\ttest: 0.8365494\tbest: 0.8365494 (55)\ttotal: 3.35s\tremaining: 56.5s\n",
      "56:\ttest: 0.8365697\tbest: 0.8365697 (56)\ttotal: 3.43s\tremaining: 56.7s\n",
      "57:\ttest: 0.8365990\tbest: 0.8365990 (57)\ttotal: 3.49s\tremaining: 56.7s\n",
      "58:\ttest: 0.8367299\tbest: 0.8367299 (58)\ttotal: 3.54s\tremaining: 56.5s\n",
      "59:\ttest: 0.8368021\tbest: 0.8368021 (59)\ttotal: 3.59s\tremaining: 56.3s\n",
      "60:\ttest: 0.8368728\tbest: 0.8368728 (60)\ttotal: 3.65s\tremaining: 56.3s\n",
      "61:\ttest: 0.8369128\tbest: 0.8369128 (61)\ttotal: 3.72s\tremaining: 56.3s\n",
      "62:\ttest: 0.8369775\tbest: 0.8369775 (62)\ttotal: 3.78s\tremaining: 56.3s\n",
      "63:\ttest: 0.8369699\tbest: 0.8369775 (62)\ttotal: 3.86s\tremaining: 56.4s\n",
      "64:\ttest: 0.8370075\tbest: 0.8370075 (64)\ttotal: 3.9s\tremaining: 56.1s\n",
      "65:\ttest: 0.8370687\tbest: 0.8370687 (65)\ttotal: 3.95s\tremaining: 55.9s\n",
      "66:\ttest: 0.8370762\tbest: 0.8370762 (66)\ttotal: 4.01s\tremaining: 55.9s\n",
      "67:\ttest: 0.8370862\tbest: 0.8370862 (67)\ttotal: 4.08s\tremaining: 56s\n",
      "68:\ttest: 0.8370821\tbest: 0.8370862 (67)\ttotal: 4.13s\tremaining: 55.8s\n",
      "69:\ttest: 0.8370565\tbest: 0.8370862 (67)\ttotal: 4.18s\tremaining: 55.6s\n",
      "70:\ttest: 0.8370727\tbest: 0.8370862 (67)\ttotal: 4.24s\tremaining: 55.5s\n",
      "71:\ttest: 0.8371564\tbest: 0.8371564 (71)\ttotal: 4.29s\tremaining: 55.2s\n",
      "72:\ttest: 0.8371647\tbest: 0.8371647 (72)\ttotal: 4.35s\tremaining: 55.2s\n",
      "73:\ttest: 0.8371465\tbest: 0.8371647 (72)\ttotal: 4.39s\tremaining: 55s\n",
      "74:\ttest: 0.8371709\tbest: 0.8371709 (74)\ttotal: 4.43s\tremaining: 54.7s\n",
      "75:\ttest: 0.8371800\tbest: 0.8371800 (75)\ttotal: 4.48s\tremaining: 54.5s\n",
      "76:\ttest: 0.8372077\tbest: 0.8372077 (76)\ttotal: 4.54s\tremaining: 54.5s\n",
      "77:\ttest: 0.8371764\tbest: 0.8372077 (76)\ttotal: 4.59s\tremaining: 54.2s\n",
      "78:\ttest: 0.8372299\tbest: 0.8372299 (78)\ttotal: 4.63s\tremaining: 54s\n",
      "79:\ttest: 0.8372626\tbest: 0.8372626 (79)\ttotal: 4.67s\tremaining: 53.7s\n",
      "80:\ttest: 0.8372774\tbest: 0.8372774 (80)\ttotal: 4.73s\tremaining: 53.6s\n",
      "81:\ttest: 0.8372804\tbest: 0.8372804 (81)\ttotal: 4.77s\tremaining: 53.4s\n",
      "82:\ttest: 0.8373137\tbest: 0.8373137 (82)\ttotal: 4.84s\tremaining: 53.5s\n",
      "83:\ttest: 0.8374038\tbest: 0.8374038 (83)\ttotal: 4.89s\tremaining: 53.4s\n",
      "84:\ttest: 0.8374059\tbest: 0.8374059 (84)\ttotal: 4.94s\tremaining: 53.2s\n",
      "85:\ttest: 0.8374226\tbest: 0.8374226 (85)\ttotal: 4.99s\tremaining: 53s\n",
      "86:\ttest: 0.8374206\tbest: 0.8374226 (85)\ttotal: 5.04s\tremaining: 52.9s\n",
      "87:\ttest: 0.8374520\tbest: 0.8374520 (87)\ttotal: 5.08s\tremaining: 52.7s\n",
      "88:\ttest: 0.8374419\tbest: 0.8374520 (87)\ttotal: 5.13s\tremaining: 52.6s\n",
      "89:\ttest: 0.8374428\tbest: 0.8374520 (87)\ttotal: 5.18s\tremaining: 52.4s\n",
      "90:\ttest: 0.8374963\tbest: 0.8374963 (90)\ttotal: 5.23s\tremaining: 52.2s\n",
      "91:\ttest: 0.8375397\tbest: 0.8375397 (91)\ttotal: 5.29s\tremaining: 52.2s\n",
      "92:\ttest: 0.8375402\tbest: 0.8375402 (92)\ttotal: 5.33s\tremaining: 52s\n",
      "93:\ttest: 0.8375220\tbest: 0.8375402 (92)\ttotal: 5.37s\tremaining: 51.8s\n",
      "94:\ttest: 0.8375690\tbest: 0.8375690 (94)\ttotal: 5.41s\tremaining: 51.6s\n",
      "95:\ttest: 0.8375492\tbest: 0.8375690 (94)\ttotal: 5.46s\tremaining: 51.4s\n",
      "96:\ttest: 0.8376046\tbest: 0.8376046 (96)\ttotal: 5.52s\tremaining: 51.4s\n",
      "97:\ttest: 0.8376900\tbest: 0.8376900 (97)\ttotal: 5.58s\tremaining: 51.4s\n",
      "98:\ttest: 0.8376888\tbest: 0.8376900 (97)\ttotal: 5.62s\tremaining: 51.1s\n",
      "99:\ttest: 0.8376875\tbest: 0.8376900 (97)\ttotal: 5.66s\tremaining: 50.9s\n",
      "100:\ttest: 0.8377433\tbest: 0.8377433 (100)\ttotal: 5.72s\tremaining: 50.9s\n",
      "101:\ttest: 0.8377461\tbest: 0.8377461 (101)\ttotal: 5.77s\tremaining: 50.8s\n",
      "102:\ttest: 0.8377457\tbest: 0.8377461 (101)\ttotal: 5.83s\tremaining: 50.8s\n",
      "103:\ttest: 0.8377545\tbest: 0.8377545 (103)\ttotal: 5.93s\tremaining: 51.1s\n",
      "104:\ttest: 0.8377940\tbest: 0.8377940 (104)\ttotal: 5.99s\tremaining: 51.1s\n",
      "105:\ttest: 0.8377873\tbest: 0.8377940 (104)\ttotal: 6.08s\tremaining: 51.2s\n",
      "106:\ttest: 0.8377836\tbest: 0.8377940 (104)\ttotal: 6.14s\tremaining: 51.3s\n",
      "107:\ttest: 0.8377791\tbest: 0.8377940 (104)\ttotal: 6.19s\tremaining: 51.1s\n",
      "108:\ttest: 0.8377803\tbest: 0.8377940 (104)\ttotal: 6.24s\tremaining: 51s\n",
      "109:\ttest: 0.8377773\tbest: 0.8377940 (104)\ttotal: 6.3s\tremaining: 51s\n",
      "110:\ttest: 0.8377773\tbest: 0.8377940 (104)\ttotal: 6.38s\tremaining: 51.1s\n",
      "111:\ttest: 0.8378182\tbest: 0.8378182 (111)\ttotal: 6.46s\tremaining: 51.2s\n",
      "112:\ttest: 0.8378345\tbest: 0.8378345 (112)\ttotal: 6.54s\tremaining: 51.4s\n",
      "113:\ttest: 0.8378394\tbest: 0.8378394 (113)\ttotal: 6.63s\tremaining: 51.5s\n",
      "114:\ttest: 0.8378800\tbest: 0.8378800 (114)\ttotal: 6.69s\tremaining: 51.5s\n",
      "115:\ttest: 0.8378509\tbest: 0.8378800 (114)\ttotal: 6.76s\tremaining: 51.5s\n",
      "116:\ttest: 0.8378507\tbest: 0.8378800 (114)\ttotal: 6.83s\tremaining: 51.5s\n",
      "117:\ttest: 0.8378753\tbest: 0.8378800 (114)\ttotal: 6.89s\tremaining: 51.5s\n"
     ]
    },
    {
     "name": "stdout",
     "output_type": "stream",
     "text": [
      "118:\ttest: 0.8378760\tbest: 0.8378800 (114)\ttotal: 6.96s\tremaining: 51.5s\n",
      "119:\ttest: 0.8378767\tbest: 0.8378800 (114)\ttotal: 7.02s\tremaining: 51.5s\n",
      "120:\ttest: 0.8378893\tbest: 0.8378893 (120)\ttotal: 7.07s\tremaining: 51.3s\n",
      "121:\ttest: 0.8378592\tbest: 0.8378893 (120)\ttotal: 7.12s\tremaining: 51.2s\n",
      "122:\ttest: 0.8379040\tbest: 0.8379040 (122)\ttotal: 7.18s\tremaining: 51.2s\n",
      "123:\ttest: 0.8379004\tbest: 0.8379040 (122)\ttotal: 7.22s\tremaining: 51s\n",
      "124:\ttest: 0.8379102\tbest: 0.8379102 (124)\ttotal: 7.27s\tremaining: 50.9s\n",
      "125:\ttest: 0.8379031\tbest: 0.8379102 (124)\ttotal: 7.31s\tremaining: 50.7s\n",
      "126:\ttest: 0.8379271\tbest: 0.8379271 (126)\ttotal: 7.37s\tremaining: 50.7s\n",
      "127:\ttest: 0.8379354\tbest: 0.8379354 (127)\ttotal: 7.43s\tremaining: 50.6s\n",
      "128:\ttest: 0.8379474\tbest: 0.8379474 (128)\ttotal: 7.48s\tremaining: 50.5s\n",
      "129:\ttest: 0.8379482\tbest: 0.8379482 (129)\ttotal: 7.53s\tremaining: 50.4s\n",
      "130:\ttest: 0.8379899\tbest: 0.8379899 (130)\ttotal: 7.56s\tremaining: 50.2s\n",
      "131:\ttest: 0.8379512\tbest: 0.8379899 (130)\ttotal: 7.62s\tremaining: 50.1s\n",
      "132:\ttest: 0.8379351\tbest: 0.8379899 (130)\ttotal: 7.67s\tremaining: 50s\n",
      "133:\ttest: 0.8379479\tbest: 0.8379899 (130)\ttotal: 7.71s\tremaining: 49.9s\n",
      "134:\ttest: 0.8379542\tbest: 0.8379899 (130)\ttotal: 7.76s\tremaining: 49.7s\n",
      "135:\ttest: 0.8379543\tbest: 0.8379899 (130)\ttotal: 7.81s\tremaining: 49.6s\n",
      "136:\ttest: 0.8379407\tbest: 0.8379899 (130)\ttotal: 7.87s\tremaining: 49.6s\n",
      "137:\ttest: 0.8379402\tbest: 0.8379899 (130)\ttotal: 7.92s\tremaining: 49.5s\n",
      "138:\ttest: 0.8379393\tbest: 0.8379899 (130)\ttotal: 7.97s\tremaining: 49.4s\n",
      "139:\ttest: 0.8379289\tbest: 0.8379899 (130)\ttotal: 8.05s\tremaining: 49.4s\n",
      "140:\ttest: 0.8379513\tbest: 0.8379899 (130)\ttotal: 8.1s\tremaining: 49.3s\n",
      "141:\ttest: 0.8379312\tbest: 0.8379899 (130)\ttotal: 8.14s\tremaining: 49.2s\n",
      "142:\ttest: 0.8378944\tbest: 0.8379899 (130)\ttotal: 8.18s\tremaining: 49s\n",
      "143:\ttest: 0.8378925\tbest: 0.8379899 (130)\ttotal: 8.24s\tremaining: 49s\n",
      "144:\ttest: 0.8378926\tbest: 0.8379899 (130)\ttotal: 8.28s\tremaining: 48.8s\n",
      "145:\ttest: 0.8379551\tbest: 0.8379899 (130)\ttotal: 8.32s\tremaining: 48.7s\n",
      "146:\ttest: 0.8379551\tbest: 0.8379899 (130)\ttotal: 8.36s\tremaining: 48.5s\n",
      "147:\ttest: 0.8379984\tbest: 0.8379984 (147)\ttotal: 8.43s\tremaining: 48.5s\n",
      "148:\ttest: 0.8380204\tbest: 0.8380204 (148)\ttotal: 8.47s\tremaining: 48.4s\n",
      "149:\ttest: 0.8380436\tbest: 0.8380436 (149)\ttotal: 8.51s\tremaining: 48.2s\n",
      "150:\ttest: 0.8380612\tbest: 0.8380612 (150)\ttotal: 8.55s\tremaining: 48.1s\n",
      "151:\ttest: 0.8380879\tbest: 0.8380879 (151)\ttotal: 8.61s\tremaining: 48.1s\n",
      "152:\ttest: 0.8380773\tbest: 0.8380879 (151)\ttotal: 8.67s\tremaining: 48s\n",
      "153:\ttest: 0.8380863\tbest: 0.8380879 (151)\ttotal: 8.71s\tremaining: 47.8s\n",
      "154:\ttest: 0.8381209\tbest: 0.8381209 (154)\ttotal: 8.75s\tremaining: 47.7s\n",
      "155:\ttest: 0.8381189\tbest: 0.8381209 (154)\ttotal: 8.8s\tremaining: 47.6s\n",
      "156:\ttest: 0.8381394\tbest: 0.8381394 (156)\ttotal: 8.85s\tremaining: 47.5s\n",
      "157:\ttest: 0.8381293\tbest: 0.8381394 (156)\ttotal: 8.9s\tremaining: 47.4s\n",
      "158:\ttest: 0.8381328\tbest: 0.8381394 (156)\ttotal: 8.94s\tremaining: 47.3s\n",
      "159:\ttest: 0.8381313\tbest: 0.8381394 (156)\ttotal: 9s\tremaining: 47.3s\n",
      "160:\ttest: 0.8381681\tbest: 0.8381681 (160)\ttotal: 9.05s\tremaining: 47.2s\n",
      "161:\ttest: 0.8381576\tbest: 0.8381681 (160)\ttotal: 9.09s\tremaining: 47s\n",
      "162:\ttest: 0.8381237\tbest: 0.8381681 (160)\ttotal: 9.14s\tremaining: 47s\n",
      "163:\ttest: 0.8381236\tbest: 0.8381681 (160)\ttotal: 9.19s\tremaining: 46.8s\n",
      "164:\ttest: 0.8381409\tbest: 0.8381681 (160)\ttotal: 9.24s\tremaining: 46.7s\n",
      "165:\ttest: 0.8381983\tbest: 0.8381983 (165)\ttotal: 9.28s\tremaining: 46.6s\n",
      "166:\ttest: 0.8381791\tbest: 0.8381983 (165)\ttotal: 9.32s\tremaining: 46.5s\n",
      "167:\ttest: 0.8381587\tbest: 0.8381983 (165)\ttotal: 9.37s\tremaining: 46.4s\n",
      "168:\ttest: 0.8381446\tbest: 0.8381983 (165)\ttotal: 9.42s\tremaining: 46.3s\n",
      "169:\ttest: 0.8381659\tbest: 0.8381983 (165)\ttotal: 9.46s\tremaining: 46.2s\n",
      "170:\ttest: 0.8381831\tbest: 0.8381983 (165)\ttotal: 9.5s\tremaining: 46s\n",
      "171:\ttest: 0.8381781\tbest: 0.8381983 (165)\ttotal: 9.54s\tremaining: 45.9s\n",
      "172:\ttest: 0.8381663\tbest: 0.8381983 (165)\ttotal: 9.59s\tremaining: 45.8s\n",
      "173:\ttest: 0.8381652\tbest: 0.8381983 (165)\ttotal: 9.63s\tremaining: 45.7s\n",
      "174:\ttest: 0.8382005\tbest: 0.8382005 (174)\ttotal: 9.67s\tremaining: 45.6s\n",
      "175:\ttest: 0.8381957\tbest: 0.8382005 (174)\ttotal: 9.72s\tremaining: 45.5s\n",
      "176:\ttest: 0.8382140\tbest: 0.8382140 (176)\ttotal: 9.77s\tremaining: 45.4s\n",
      "177:\ttest: 0.8382311\tbest: 0.8382311 (177)\ttotal: 9.82s\tremaining: 45.4s\n",
      "178:\ttest: 0.8382220\tbest: 0.8382311 (177)\ttotal: 9.88s\tremaining: 45.3s\n",
      "179:\ttest: 0.8382744\tbest: 0.8382744 (179)\ttotal: 9.92s\tremaining: 45.2s\n",
      "180:\ttest: 0.8382951\tbest: 0.8382951 (180)\ttotal: 9.97s\tremaining: 45.1s\n",
      "181:\ttest: 0.8382911\tbest: 0.8382951 (180)\ttotal: 10s\tremaining: 45s\n",
      "182:\ttest: 0.8383039\tbest: 0.8383039 (182)\ttotal: 10.1s\tremaining: 44.9s\n",
      "183:\ttest: 0.8383579\tbest: 0.8383579 (183)\ttotal: 10.1s\tremaining: 44.8s\n",
      "184:\ttest: 0.8383815\tbest: 0.8383815 (184)\ttotal: 10.2s\tremaining: 44.8s\n",
      "185:\ttest: 0.8383993\tbest: 0.8383993 (185)\ttotal: 10.2s\tremaining: 44.7s\n",
      "186:\ttest: 0.8384139\tbest: 0.8384139 (186)\ttotal: 10.3s\tremaining: 44.6s\n",
      "187:\ttest: 0.8384111\tbest: 0.8384139 (186)\ttotal: 10.3s\tremaining: 44.5s\n",
      "188:\ttest: 0.8383758\tbest: 0.8384139 (186)\ttotal: 10.3s\tremaining: 44.4s\n",
      "189:\ttest: 0.8383579\tbest: 0.8384139 (186)\ttotal: 10.4s\tremaining: 44.3s\n",
      "190:\ttest: 0.8383679\tbest: 0.8384139 (186)\ttotal: 10.4s\tremaining: 44.2s\n",
      "191:\ttest: 0.8383704\tbest: 0.8384139 (186)\ttotal: 10.5s\tremaining: 44.1s\n",
      "192:\ttest: 0.8384010\tbest: 0.8384139 (186)\ttotal: 10.5s\tremaining: 44s\n",
      "193:\ttest: 0.8383755\tbest: 0.8384139 (186)\ttotal: 10.6s\tremaining: 43.9s\n",
      "194:\ttest: 0.8383633\tbest: 0.8384139 (186)\ttotal: 10.6s\tremaining: 43.9s\n",
      "195:\ttest: 0.8383634\tbest: 0.8384139 (186)\ttotal: 10.7s\tremaining: 43.9s\n",
      "196:\ttest: 0.8383692\tbest: 0.8384139 (186)\ttotal: 10.8s\tremaining: 44.1s\n",
      "197:\ttest: 0.8384019\tbest: 0.8384139 (186)\ttotal: 10.9s\tremaining: 44.1s\n",
      "198:\ttest: 0.8384275\tbest: 0.8384275 (198)\ttotal: 11s\tremaining: 44.2s\n",
      "199:\ttest: 0.8384311\tbest: 0.8384311 (199)\ttotal: 11s\tremaining: 44.2s\n",
      "200:\ttest: 0.8384542\tbest: 0.8384542 (200)\ttotal: 11.1s\tremaining: 44.2s\n",
      "201:\ttest: 0.8384348\tbest: 0.8384542 (200)\ttotal: 11.2s\tremaining: 44.2s\n",
      "202:\ttest: 0.8384728\tbest: 0.8384728 (202)\ttotal: 11.3s\tremaining: 44.2s\n",
      "203:\ttest: 0.8384767\tbest: 0.8384767 (203)\ttotal: 11.3s\tremaining: 44.2s\n",
      "204:\ttest: 0.8385004\tbest: 0.8385004 (204)\ttotal: 11.4s\tremaining: 44.2s\n",
      "205:\ttest: 0.8385052\tbest: 0.8385052 (205)\ttotal: 11.5s\tremaining: 44.1s\n",
      "206:\ttest: 0.8385101\tbest: 0.8385101 (206)\ttotal: 11.5s\tremaining: 44.1s\n",
      "207:\ttest: 0.8385419\tbest: 0.8385419 (207)\ttotal: 11.6s\tremaining: 44.1s\n",
      "208:\ttest: 0.8385472\tbest: 0.8385472 (208)\ttotal: 11.7s\tremaining: 44.1s\n",
      "209:\ttest: 0.8385569\tbest: 0.8385569 (209)\ttotal: 11.7s\tremaining: 44.1s\n",
      "210:\ttest: 0.8385700\tbest: 0.8385700 (210)\ttotal: 11.8s\tremaining: 44.2s\n",
      "211:\ttest: 0.8385711\tbest: 0.8385711 (211)\ttotal: 11.9s\tremaining: 44.2s\n",
      "212:\ttest: 0.8385317\tbest: 0.8385711 (211)\ttotal: 11.9s\tremaining: 44.1s\n",
      "213:\ttest: 0.8385320\tbest: 0.8385711 (211)\ttotal: 12s\tremaining: 44.1s\n",
      "214:\ttest: 0.8385155\tbest: 0.8385711 (211)\ttotal: 12.1s\tremaining: 44s\n",
      "215:\ttest: 0.8385087\tbest: 0.8385711 (211)\ttotal: 12.1s\tremaining: 44s\n",
      "216:\ttest: 0.8385831\tbest: 0.8385831 (216)\ttotal: 12.2s\tremaining: 44s\n",
      "217:\ttest: 0.8386079\tbest: 0.8386079 (217)\ttotal: 12.3s\tremaining: 44.2s\n",
      "218:\ttest: 0.8386286\tbest: 0.8386286 (218)\ttotal: 12.4s\tremaining: 44.2s\n",
      "219:\ttest: 0.8386362\tbest: 0.8386362 (219)\ttotal: 12.5s\tremaining: 44.1s\n",
      "220:\ttest: 0.8386237\tbest: 0.8386362 (219)\ttotal: 12.5s\tremaining: 44s\n",
      "221:\ttest: 0.8386074\tbest: 0.8386362 (219)\ttotal: 12.5s\tremaining: 44s\n",
      "222:\ttest: 0.8386080\tbest: 0.8386362 (219)\ttotal: 12.6s\tremaining: 43.9s\n",
      "223:\ttest: 0.8386203\tbest: 0.8386362 (219)\ttotal: 12.7s\tremaining: 43.9s\n",
      "224:\ttest: 0.8386185\tbest: 0.8386362 (219)\ttotal: 12.7s\tremaining: 43.9s\n",
      "225:\ttest: 0.8386172\tbest: 0.8386362 (219)\ttotal: 12.8s\tremaining: 43.9s\n",
      "226:\ttest: 0.8386156\tbest: 0.8386362 (219)\ttotal: 12.9s\tremaining: 44s\n",
      "227:\ttest: 0.8386443\tbest: 0.8386443 (227)\ttotal: 13s\tremaining: 43.9s\n",
      "228:\ttest: 0.8386478\tbest: 0.8386478 (228)\ttotal: 13s\tremaining: 43.9s\n",
      "229:\ttest: 0.8386463\tbest: 0.8386478 (228)\ttotal: 13.1s\tremaining: 43.8s\n",
      "230:\ttest: 0.8386209\tbest: 0.8386478 (228)\ttotal: 13.1s\tremaining: 43.8s\n"
     ]
    },
    {
     "name": "stdout",
     "output_type": "stream",
     "text": [
      "231:\ttest: 0.8386284\tbest: 0.8386478 (228)\ttotal: 13.2s\tremaining: 43.7s\n",
      "232:\ttest: 0.8386251\tbest: 0.8386478 (228)\ttotal: 13.3s\tremaining: 43.6s\n",
      "233:\ttest: 0.8386329\tbest: 0.8386478 (228)\ttotal: 13.3s\tremaining: 43.6s\n",
      "234:\ttest: 0.8386376\tbest: 0.8386478 (228)\ttotal: 13.4s\tremaining: 43.6s\n",
      "235:\ttest: 0.8386085\tbest: 0.8386478 (228)\ttotal: 13.4s\tremaining: 43.5s\n",
      "236:\ttest: 0.8386013\tbest: 0.8386478 (228)\ttotal: 13.5s\tremaining: 43.4s\n",
      "237:\ttest: 0.8386051\tbest: 0.8386478 (228)\ttotal: 13.5s\tremaining: 43.3s\n",
      "238:\ttest: 0.8386174\tbest: 0.8386478 (228)\ttotal: 13.6s\tremaining: 43.2s\n",
      "239:\ttest: 0.8386387\tbest: 0.8386478 (228)\ttotal: 13.6s\tremaining: 43.1s\n",
      "240:\ttest: 0.8386498\tbest: 0.8386498 (240)\ttotal: 13.7s\tremaining: 43.1s\n",
      "241:\ttest: 0.8386719\tbest: 0.8386719 (241)\ttotal: 13.7s\tremaining: 43s\n",
      "242:\ttest: 0.8386937\tbest: 0.8386937 (242)\ttotal: 13.8s\tremaining: 43s\n",
      "243:\ttest: 0.8386903\tbest: 0.8386937 (242)\ttotal: 13.9s\tremaining: 42.9s\n",
      "244:\ttest: 0.8386918\tbest: 0.8386937 (242)\ttotal: 13.9s\tremaining: 42.9s\n",
      "245:\ttest: 0.8386821\tbest: 0.8386937 (242)\ttotal: 14s\tremaining: 42.8s\n",
      "246:\ttest: 0.8386653\tbest: 0.8386937 (242)\ttotal: 14s\tremaining: 42.7s\n",
      "247:\ttest: 0.8386595\tbest: 0.8386937 (242)\ttotal: 14.1s\tremaining: 42.6s\n",
      "248:\ttest: 0.8386915\tbest: 0.8386937 (242)\ttotal: 14.1s\tremaining: 42.6s\n",
      "249:\ttest: 0.8386497\tbest: 0.8386937 (242)\ttotal: 14.2s\tremaining: 42.5s\n",
      "250:\ttest: 0.8386972\tbest: 0.8386972 (250)\ttotal: 14.2s\tremaining: 42.4s\n",
      "251:\ttest: 0.8386862\tbest: 0.8386972 (250)\ttotal: 14.3s\tremaining: 42.3s\n",
      "252:\ttest: 0.8386896\tbest: 0.8386972 (250)\ttotal: 14.3s\tremaining: 42.2s\n",
      "253:\ttest: 0.8386892\tbest: 0.8386972 (250)\ttotal: 14.4s\tremaining: 42.2s\n",
      "254:\ttest: 0.8386515\tbest: 0.8386972 (250)\ttotal: 14.4s\tremaining: 42.1s\n",
      "255:\ttest: 0.8386555\tbest: 0.8386972 (250)\ttotal: 14.5s\tremaining: 42.1s\n",
      "256:\ttest: 0.8386385\tbest: 0.8386972 (250)\ttotal: 14.5s\tremaining: 42s\n",
      "257:\ttest: 0.8386452\tbest: 0.8386972 (250)\ttotal: 14.6s\tremaining: 41.9s\n",
      "258:\ttest: 0.8386465\tbest: 0.8386972 (250)\ttotal: 14.6s\tremaining: 41.8s\n",
      "259:\ttest: 0.8386562\tbest: 0.8386972 (250)\ttotal: 14.7s\tremaining: 41.7s\n",
      "260:\ttest: 0.8386516\tbest: 0.8386972 (250)\ttotal: 14.7s\tremaining: 41.7s\n",
      "261:\ttest: 0.8386790\tbest: 0.8386972 (250)\ttotal: 14.8s\tremaining: 41.6s\n",
      "262:\ttest: 0.8386927\tbest: 0.8386972 (250)\ttotal: 14.8s\tremaining: 41.5s\n",
      "263:\ttest: 0.8387022\tbest: 0.8387022 (263)\ttotal: 14.9s\tremaining: 41.5s\n",
      "264:\ttest: 0.8387105\tbest: 0.8387105 (264)\ttotal: 14.9s\tremaining: 41.4s\n",
      "265:\ttest: 0.8387081\tbest: 0.8387105 (264)\ttotal: 15s\tremaining: 41.3s\n",
      "266:\ttest: 0.8387131\tbest: 0.8387131 (266)\ttotal: 15s\tremaining: 41.2s\n",
      "267:\ttest: 0.8386832\tbest: 0.8387131 (266)\ttotal: 15.1s\tremaining: 41.1s\n",
      "268:\ttest: 0.8386800\tbest: 0.8387131 (266)\ttotal: 15.1s\tremaining: 41.1s\n",
      "269:\ttest: 0.8386754\tbest: 0.8387131 (266)\ttotal: 15.2s\tremaining: 41s\n",
      "270:\ttest: 0.8386513\tbest: 0.8387131 (266)\ttotal: 15.2s\tremaining: 40.9s\n",
      "271:\ttest: 0.8386480\tbest: 0.8387131 (266)\ttotal: 15.3s\tremaining: 40.8s\n",
      "272:\ttest: 0.8386553\tbest: 0.8387131 (266)\ttotal: 15.3s\tremaining: 40.8s\n",
      "273:\ttest: 0.8386555\tbest: 0.8387131 (266)\ttotal: 15.4s\tremaining: 40.7s\n",
      "274:\ttest: 0.8386541\tbest: 0.8387131 (266)\ttotal: 15.4s\tremaining: 40.7s\n",
      "275:\ttest: 0.8386536\tbest: 0.8387131 (266)\ttotal: 15.5s\tremaining: 40.6s\n",
      "276:\ttest: 0.8386491\tbest: 0.8387131 (266)\ttotal: 15.5s\tremaining: 40.5s\n",
      "277:\ttest: 0.8386824\tbest: 0.8387131 (266)\ttotal: 15.6s\tremaining: 40.4s\n",
      "278:\ttest: 0.8386908\tbest: 0.8387131 (266)\ttotal: 15.6s\tremaining: 40.4s\n",
      "279:\ttest: 0.8386870\tbest: 0.8387131 (266)\ttotal: 15.7s\tremaining: 40.3s\n",
      "280:\ttest: 0.8386866\tbest: 0.8387131 (266)\ttotal: 15.7s\tremaining: 40.2s\n",
      "281:\ttest: 0.8386943\tbest: 0.8387131 (266)\ttotal: 15.8s\tremaining: 40.2s\n",
      "282:\ttest: 0.8387185\tbest: 0.8387185 (282)\ttotal: 15.8s\tremaining: 40.1s\n",
      "283:\ttest: 0.8387351\tbest: 0.8387351 (283)\ttotal: 15.9s\tremaining: 40s\n",
      "284:\ttest: 0.8387461\tbest: 0.8387461 (284)\ttotal: 15.9s\tremaining: 40s\n",
      "285:\ttest: 0.8387354\tbest: 0.8387461 (284)\ttotal: 16s\tremaining: 39.9s\n",
      "286:\ttest: 0.8387172\tbest: 0.8387461 (284)\ttotal: 16s\tremaining: 39.8s\n",
      "287:\ttest: 0.8387343\tbest: 0.8387461 (284)\ttotal: 16.1s\tremaining: 39.7s\n",
      "288:\ttest: 0.8387266\tbest: 0.8387461 (284)\ttotal: 16.1s\tremaining: 39.7s\n",
      "289:\ttest: 0.8387332\tbest: 0.8387461 (284)\ttotal: 16.2s\tremaining: 39.6s\n",
      "290:\ttest: 0.8387306\tbest: 0.8387461 (284)\ttotal: 16.2s\tremaining: 39.6s\n",
      "291:\ttest: 0.8387290\tbest: 0.8387461 (284)\ttotal: 16.3s\tremaining: 39.5s\n",
      "292:\ttest: 0.8387336\tbest: 0.8387461 (284)\ttotal: 16.3s\tremaining: 39.4s\n",
      "293:\ttest: 0.8387310\tbest: 0.8387461 (284)\ttotal: 16.4s\tremaining: 39.3s\n",
      "294:\ttest: 0.8387340\tbest: 0.8387461 (284)\ttotal: 16.4s\tremaining: 39.3s\n",
      "295:\ttest: 0.8387699\tbest: 0.8387699 (295)\ttotal: 16.5s\tremaining: 39.2s\n",
      "296:\ttest: 0.8387487\tbest: 0.8387699 (295)\ttotal: 16.6s\tremaining: 39.2s\n",
      "297:\ttest: 0.8387450\tbest: 0.8387699 (295)\ttotal: 16.6s\tremaining: 39.1s\n",
      "298:\ttest: 0.8387477\tbest: 0.8387699 (295)\ttotal: 16.7s\tremaining: 39.1s\n",
      "299:\ttest: 0.8387525\tbest: 0.8387699 (295)\ttotal: 16.7s\tremaining: 39s\n",
      "300:\ttest: 0.8387460\tbest: 0.8387699 (295)\ttotal: 16.8s\tremaining: 39s\n",
      "301:\ttest: 0.8387383\tbest: 0.8387699 (295)\ttotal: 16.8s\tremaining: 38.9s\n",
      "302:\ttest: 0.8387354\tbest: 0.8387699 (295)\ttotal: 16.9s\tremaining: 38.8s\n",
      "303:\ttest: 0.8387353\tbest: 0.8387699 (295)\ttotal: 16.9s\tremaining: 38.7s\n",
      "304:\ttest: 0.8387339\tbest: 0.8387699 (295)\ttotal: 17s\tremaining: 38.6s\n",
      "305:\ttest: 0.8387221\tbest: 0.8387699 (295)\ttotal: 17s\tremaining: 38.6s\n",
      "306:\ttest: 0.8386913\tbest: 0.8387699 (295)\ttotal: 17.1s\tremaining: 38.5s\n",
      "307:\ttest: 0.8386921\tbest: 0.8387699 (295)\ttotal: 17.1s\tremaining: 38.4s\n",
      "308:\ttest: 0.8387001\tbest: 0.8387699 (295)\ttotal: 17.2s\tremaining: 38.4s\n",
      "309:\ttest: 0.8387091\tbest: 0.8387699 (295)\ttotal: 17.2s\tremaining: 38.3s\n",
      "310:\ttest: 0.8386996\tbest: 0.8387699 (295)\ttotal: 17.3s\tremaining: 38.2s\n",
      "311:\ttest: 0.8387205\tbest: 0.8387699 (295)\ttotal: 17.3s\tremaining: 38.2s\n",
      "312:\ttest: 0.8387153\tbest: 0.8387699 (295)\ttotal: 17.4s\tremaining: 38.1s\n",
      "313:\ttest: 0.8387156\tbest: 0.8387699 (295)\ttotal: 17.4s\tremaining: 38.1s\n",
      "314:\ttest: 0.8387045\tbest: 0.8387699 (295)\ttotal: 17.5s\tremaining: 38s\n",
      "315:\ttest: 0.8387079\tbest: 0.8387699 (295)\ttotal: 17.5s\tremaining: 38s\n",
      "316:\ttest: 0.8387299\tbest: 0.8387699 (295)\ttotal: 17.6s\tremaining: 37.9s\n",
      "317:\ttest: 0.8387317\tbest: 0.8387699 (295)\ttotal: 17.7s\tremaining: 37.9s\n",
      "318:\ttest: 0.8387410\tbest: 0.8387699 (295)\ttotal: 17.7s\tremaining: 37.8s\n",
      "319:\ttest: 0.8387370\tbest: 0.8387699 (295)\ttotal: 17.8s\tremaining: 37.8s\n",
      "320:\ttest: 0.8387348\tbest: 0.8387699 (295)\ttotal: 17.8s\tremaining: 37.7s\n",
      "321:\ttest: 0.8387172\tbest: 0.8387699 (295)\ttotal: 17.9s\tremaining: 37.6s\n",
      "322:\ttest: 0.8387222\tbest: 0.8387699 (295)\ttotal: 17.9s\tremaining: 37.5s\n",
      "323:\ttest: 0.8387223\tbest: 0.8387699 (295)\ttotal: 17.9s\tremaining: 37.4s\n",
      "324:\ttest: 0.8387470\tbest: 0.8387699 (295)\ttotal: 18s\tremaining: 37.4s\n",
      "325:\ttest: 0.8387342\tbest: 0.8387699 (295)\ttotal: 18s\tremaining: 37.3s\n",
      "326:\ttest: 0.8387260\tbest: 0.8387699 (295)\ttotal: 18.1s\tremaining: 37.2s\n",
      "327:\ttest: 0.8387395\tbest: 0.8387699 (295)\ttotal: 18.1s\tremaining: 37.2s\n",
      "328:\ttest: 0.8387221\tbest: 0.8387699 (295)\ttotal: 18.2s\tremaining: 37.1s\n",
      "329:\ttest: 0.8387231\tbest: 0.8387699 (295)\ttotal: 18.2s\tremaining: 37.1s\n",
      "330:\ttest: 0.8387184\tbest: 0.8387699 (295)\ttotal: 18.3s\tremaining: 37s\n",
      "331:\ttest: 0.8387187\tbest: 0.8387699 (295)\ttotal: 18.3s\tremaining: 36.9s\n",
      "332:\ttest: 0.8387103\tbest: 0.8387699 (295)\ttotal: 18.4s\tremaining: 36.8s\n",
      "333:\ttest: 0.8386984\tbest: 0.8387699 (295)\ttotal: 18.4s\tremaining: 36.8s\n",
      "334:\ttest: 0.8387169\tbest: 0.8387699 (295)\ttotal: 18.5s\tremaining: 36.7s\n",
      "335:\ttest: 0.8387089\tbest: 0.8387699 (295)\ttotal: 18.6s\tremaining: 36.7s\n",
      "336:\ttest: 0.8387095\tbest: 0.8387699 (295)\ttotal: 18.6s\tremaining: 36.6s\n",
      "337:\ttest: 0.8387108\tbest: 0.8387699 (295)\ttotal: 18.7s\tremaining: 36.6s\n",
      "338:\ttest: 0.8387205\tbest: 0.8387699 (295)\ttotal: 18.7s\tremaining: 36.5s\n",
      "339:\ttest: 0.8386908\tbest: 0.8387699 (295)\ttotal: 18.8s\tremaining: 36.5s\n",
      "340:\ttest: 0.8386790\tbest: 0.8387699 (295)\ttotal: 18.9s\tremaining: 36.4s\n",
      "341:\ttest: 0.8386538\tbest: 0.8387699 (295)\ttotal: 18.9s\tremaining: 36.4s\n",
      "342:\ttest: 0.8386336\tbest: 0.8387699 (295)\ttotal: 19s\tremaining: 36.3s\n",
      "343:\ttest: 0.8386328\tbest: 0.8387699 (295)\ttotal: 19s\tremaining: 36.3s\n",
      "344:\ttest: 0.8386287\tbest: 0.8387699 (295)\ttotal: 19.1s\tremaining: 36.2s\n",
      "345:\ttest: 0.8386308\tbest: 0.8387699 (295)\ttotal: 19.1s\tremaining: 36.2s\n",
      "346:\ttest: 0.8386246\tbest: 0.8387699 (295)\ttotal: 19.2s\tremaining: 36.1s\n",
      "347:\ttest: 0.8386087\tbest: 0.8387699 (295)\ttotal: 19.2s\tremaining: 36s\n"
     ]
    },
    {
     "name": "stdout",
     "output_type": "stream",
     "text": [
      "348:\ttest: 0.8386040\tbest: 0.8387699 (295)\ttotal: 19.3s\tremaining: 36s\n",
      "349:\ttest: 0.8386084\tbest: 0.8387699 (295)\ttotal: 19.3s\tremaining: 35.9s\n",
      "350:\ttest: 0.8386107\tbest: 0.8387699 (295)\ttotal: 19.4s\tremaining: 35.8s\n",
      "351:\ttest: 0.8386095\tbest: 0.8387699 (295)\ttotal: 19.4s\tremaining: 35.8s\n",
      "352:\ttest: 0.8386131\tbest: 0.8387699 (295)\ttotal: 19.5s\tremaining: 35.7s\n",
      "353:\ttest: 0.8386036\tbest: 0.8387699 (295)\ttotal: 19.5s\tremaining: 35.6s\n",
      "354:\ttest: 0.8385926\tbest: 0.8387699 (295)\ttotal: 19.6s\tremaining: 35.6s\n",
      "355:\ttest: 0.8385874\tbest: 0.8387699 (295)\ttotal: 19.6s\tremaining: 35.5s\n",
      "356:\ttest: 0.8385838\tbest: 0.8387699 (295)\ttotal: 19.7s\tremaining: 35.5s\n",
      "357:\ttest: 0.8386071\tbest: 0.8387699 (295)\ttotal: 19.7s\tremaining: 35.4s\n",
      "358:\ttest: 0.8385921\tbest: 0.8387699 (295)\ttotal: 19.8s\tremaining: 35.3s\n",
      "359:\ttest: 0.8385825\tbest: 0.8387699 (295)\ttotal: 19.8s\tremaining: 35.3s\n",
      "360:\ttest: 0.8385674\tbest: 0.8387699 (295)\ttotal: 19.9s\tremaining: 35.2s\n",
      "361:\ttest: 0.8385602\tbest: 0.8387699 (295)\ttotal: 19.9s\tremaining: 35.1s\n",
      "362:\ttest: 0.8385392\tbest: 0.8387699 (295)\ttotal: 20s\tremaining: 35s\n",
      "363:\ttest: 0.8385004\tbest: 0.8387699 (295)\ttotal: 20s\tremaining: 35s\n",
      "364:\ttest: 0.8385043\tbest: 0.8387699 (295)\ttotal: 20.1s\tremaining: 34.9s\n",
      "365:\ttest: 0.8385482\tbest: 0.8387699 (295)\ttotal: 20.1s\tremaining: 34.9s\n",
      "366:\ttest: 0.8385456\tbest: 0.8387699 (295)\ttotal: 20.2s\tremaining: 34.8s\n",
      "367:\ttest: 0.8385498\tbest: 0.8387699 (295)\ttotal: 20.2s\tremaining: 34.7s\n",
      "368:\ttest: 0.8385646\tbest: 0.8387699 (295)\ttotal: 20.3s\tremaining: 34.7s\n",
      "369:\ttest: 0.8385799\tbest: 0.8387699 (295)\ttotal: 20.3s\tremaining: 34.6s\n",
      "370:\ttest: 0.8385583\tbest: 0.8387699 (295)\ttotal: 20.4s\tremaining: 34.6s\n",
      "371:\ttest: 0.8385340\tbest: 0.8387699 (295)\ttotal: 20.4s\tremaining: 34.5s\n",
      "372:\ttest: 0.8385385\tbest: 0.8387699 (295)\ttotal: 20.5s\tremaining: 34.4s\n",
      "373:\ttest: 0.8385376\tbest: 0.8387699 (295)\ttotal: 20.5s\tremaining: 34.3s\n",
      "374:\ttest: 0.8385574\tbest: 0.8387699 (295)\ttotal: 20.6s\tremaining: 34.3s\n",
      "375:\ttest: 0.8385680\tbest: 0.8387699 (295)\ttotal: 20.6s\tremaining: 34.2s\n",
      "376:\ttest: 0.8385551\tbest: 0.8387699 (295)\ttotal: 20.7s\tremaining: 34.2s\n",
      "377:\ttest: 0.8385736\tbest: 0.8387699 (295)\ttotal: 20.8s\tremaining: 34.2s\n",
      "378:\ttest: 0.8385753\tbest: 0.8387699 (295)\ttotal: 20.8s\tremaining: 34.1s\n",
      "379:\ttest: 0.8385540\tbest: 0.8387699 (295)\ttotal: 20.9s\tremaining: 34.1s\n",
      "380:\ttest: 0.8385469\tbest: 0.8387699 (295)\ttotal: 21s\tremaining: 34.1s\n",
      "381:\ttest: 0.8385479\tbest: 0.8387699 (295)\ttotal: 21s\tremaining: 34s\n",
      "382:\ttest: 0.8385487\tbest: 0.8387699 (295)\ttotal: 21.1s\tremaining: 33.9s\n",
      "383:\ttest: 0.8385468\tbest: 0.8387699 (295)\ttotal: 21.1s\tremaining: 33.9s\n",
      "384:\ttest: 0.8385469\tbest: 0.8387699 (295)\ttotal: 21.2s\tremaining: 33.8s\n",
      "385:\ttest: 0.8385346\tbest: 0.8387699 (295)\ttotal: 21.2s\tremaining: 33.8s\n",
      "386:\ttest: 0.8385385\tbest: 0.8387699 (295)\ttotal: 21.3s\tremaining: 33.7s\n",
      "387:\ttest: 0.8385624\tbest: 0.8387699 (295)\ttotal: 21.4s\tremaining: 33.7s\n",
      "388:\ttest: 0.8385510\tbest: 0.8387699 (295)\ttotal: 21.4s\tremaining: 33.6s\n",
      "389:\ttest: 0.8385514\tbest: 0.8387699 (295)\ttotal: 21.5s\tremaining: 33.6s\n",
      "390:\ttest: 0.8385569\tbest: 0.8387699 (295)\ttotal: 21.5s\tremaining: 33.5s\n",
      "391:\ttest: 0.8385574\tbest: 0.8387699 (295)\ttotal: 21.5s\tremaining: 33.4s\n",
      "392:\ttest: 0.8385600\tbest: 0.8387699 (295)\ttotal: 21.6s\tremaining: 33.4s\n",
      "393:\ttest: 0.8385615\tbest: 0.8387699 (295)\ttotal: 21.7s\tremaining: 33.3s\n",
      "394:\ttest: 0.8385617\tbest: 0.8387699 (295)\ttotal: 21.7s\tremaining: 33.2s\n",
      "395:\ttest: 0.8385524\tbest: 0.8387699 (295)\ttotal: 21.8s\tremaining: 33.2s\n",
      "Stopped by overfitting detector  (100 iterations wait)\n",
      "\n",
      "bestTest = 0.8387699182\n",
      "bestIteration = 295\n",
      "\n",
      "Shrink model to first 296 iterations.\n",
      "-------prediction saved as catboost20201003-202757.csv--------\n"
     ]
    }
   ],
   "source": [
    "run_catboost_and_calulate_auc(X_important_tr,y,test_data_important_tr,learning_rate=0.05667)"
   ]
  },
  {
   "cell_type": "code",
   "execution_count": 121,
   "metadata": {},
   "outputs": [
    {
     "name": "stdout",
     "output_type": "stream",
     "text": [
      "Epoch 1/50\n",
      "2800/2800 [==============================] - 5s 2ms/step - loss: 0.6566 - auc: 0.7575\n",
      "Epoch 2/50\n",
      "2800/2800 [==============================] - 5s 2ms/step - loss: 0.4359 - auc: 0.8118\n",
      "Epoch 3/50\n",
      "2800/2800 [==============================] - 5s 2ms/step - loss: 0.4301 - auc: 0.8177\n",
      "Epoch 4/50\n",
      "2800/2800 [==============================] - 5s 2ms/step - loss: 0.4287 - auc: 0.8189\n",
      "Epoch 5/50\n",
      "2800/2800 [==============================] - 6s 2ms/step - loss: 0.4264 - auc: 0.8211\n",
      "Epoch 6/50\n",
      "2800/2800 [==============================] - 7s 3ms/step - loss: 0.4248 - auc: 0.8229\n",
      "Epoch 7/50\n",
      "2800/2800 [==============================] - 6s 2ms/step - loss: 0.4252 - auc: 0.8223\n",
      "Epoch 8/50\n",
      "2800/2800 [==============================] - 9s 3ms/step - loss: 0.4244 - auc: 0.8234\n",
      "Epoch 9/50\n",
      "2800/2800 [==============================] - 7s 2ms/step - loss: 0.4239 - auc: 0.8240\n",
      "Epoch 10/50\n",
      "2800/2800 [==============================] - 6s 2ms/step - loss: 0.4236 - auc: 0.8242\n",
      "Epoch 11/50\n",
      "2800/2800 [==============================] - 7s 3ms/step - loss: 0.4227 - auc: 0.8253\n",
      "Epoch 12/50\n",
      "2800/2800 [==============================] - 6s 2ms/step - loss: 0.4227 - auc: 0.8248\n",
      "Epoch 13/50\n",
      "2800/2800 [==============================] - 6s 2ms/step - loss: 0.4225 - auc: 0.8252\n",
      "Epoch 14/50\n",
      "2800/2800 [==============================] - 6s 2ms/step - loss: 0.4231 - auc: 0.8245\n",
      "Epoch 15/50\n",
      "2800/2800 [==============================] - 6s 2ms/step - loss: 0.4231 - auc: 0.8246\n",
      "Epoch 16/50\n",
      "2800/2800 [==============================] - 5s 2ms/step - loss: 0.4224 - auc: 0.8252\n",
      "Epoch 17/50\n",
      "2800/2800 [==============================] - 6s 2ms/step - loss: 0.4223 - auc: 0.8256\n",
      "Epoch 18/50\n",
      "2800/2800 [==============================] - 6s 2ms/step - loss: 0.4224 - auc: 0.8257\n",
      "Epoch 19/50\n",
      "2800/2800 [==============================] - 6s 2ms/step - loss: 0.4225 - auc: 0.8254\n",
      "Epoch 20/50\n",
      "2800/2800 [==============================] - 6s 2ms/step - loss: 0.4232 - auc: 0.8251\n",
      "Epoch 21/50\n",
      "2800/2800 [==============================] - 6s 2ms/step - loss: 0.4218 - auc: 0.8261\n",
      "Epoch 22/50\n",
      "2800/2800 [==============================] - 6s 2ms/step - loss: 0.4222 - auc: 0.8256\n",
      "Epoch 23/50\n",
      "2800/2800 [==============================] - 6s 2ms/step - loss: 0.4212 - auc: 0.8266\n",
      "Epoch 24/50\n",
      "2800/2800 [==============================] - 6s 2ms/step - loss: 0.4209 - auc: 0.8266\n",
      "Epoch 25/50\n",
      "2800/2800 [==============================] - 6s 2ms/step - loss: 0.4217 - auc: 0.8264\n",
      "Epoch 26/50\n",
      "2800/2800 [==============================] - 7s 2ms/step - loss: 0.4215 - auc: 0.8264\n",
      "Epoch 27/50\n",
      "2800/2800 [==============================] - 9s 3ms/step - loss: 0.4211 - auc: 0.8267\n",
      "Epoch 28/50\n",
      "2800/2800 [==============================] - 6s 2ms/step - loss: 0.4211 - auc: 0.8268\n",
      "Epoch 29/50\n",
      "2800/2800 [==============================] - 6s 2ms/step - loss: 0.4212 - auc: 0.8268\n",
      "Epoch 30/50\n",
      "2800/2800 [==============================] - 6s 2ms/step - loss: 0.4213 - auc: 0.8262\n",
      "Epoch 31/50\n",
      "2800/2800 [==============================] - 5s 2ms/step - loss: 0.4205 - auc: 0.8274\n",
      "Epoch 32/50\n",
      "2800/2800 [==============================] - 7s 2ms/step - loss: 0.4214 - auc: 0.8264\n",
      "Epoch 33/50\n",
      "2800/2800 [==============================] - 6s 2ms/step - loss: 0.4206 - auc: 0.8271\n",
      "Epoch 34/50\n",
      "2800/2800 [==============================] - 6s 2ms/step - loss: 0.4212 - auc: 0.8270\n",
      "Epoch 35/50\n",
      "2800/2800 [==============================] - 6s 2ms/step - loss: 0.4214 - auc: 0.8266\n",
      "Epoch 36/50\n",
      "2800/2800 [==============================] - 6s 2ms/step - loss: 0.4211 - auc: 0.8266\n",
      "Epoch 37/50\n",
      "2800/2800 [==============================] - 6s 2ms/step - loss: 0.4211 - auc: 0.8270\n",
      "Epoch 38/50\n",
      "2800/2800 [==============================] - 5s 2ms/step - loss: 0.4215 - auc: 0.8263\n",
      "Epoch 39/50\n",
      "2800/2800 [==============================] - 5s 2ms/step - loss: 0.4217 - auc: 0.8265\n",
      "Epoch 40/50\n",
      "2800/2800 [==============================] - 6s 2ms/step - loss: 0.4201 - auc: 0.8274\n",
      "Epoch 41/50\n",
      "2800/2800 [==============================] - 6s 2ms/step - loss: 0.4213 - auc: 0.8268\n",
      "Epoch 42/50\n",
      "2800/2800 [==============================] - 6s 2ms/step - loss: 0.4210 - auc: 0.8271\n",
      "Epoch 43/50\n",
      "2800/2800 [==============================] - 5s 2ms/step - loss: 0.4207 - auc: 0.8274\n",
      "Epoch 44/50\n",
      "2800/2800 [==============================] - 6s 2ms/step - loss: 0.4205 - auc: 0.8276\n",
      "Epoch 45/50\n",
      "2800/2800 [==============================] - 6s 2ms/step - loss: 0.4210 - auc: 0.8266\n",
      "Epoch 46/50\n",
      "2800/2800 [==============================] - 6s 2ms/step - loss: 0.4210 - auc: 0.8268\n",
      "Epoch 47/50\n",
      "2800/2800 [==============================] - 6s 2ms/step - loss: 0.4202 - auc: 0.8275\n",
      "Epoch 48/50\n",
      "2800/2800 [==============================] - 6s 2ms/step - loss: 0.4208 - auc: 0.8272\n",
      "Epoch 49/50\n",
      "2800/2800 [==============================] - 7s 2ms/step - loss: 0.4202 - auc: 0.8277\n",
      "Epoch 50/50\n",
      "2800/2800 [==============================] - 9s 3ms/step - loss: 0.4209 - auc: 0.8268\n",
      "-------prediction saved as nn20201003-203339.csv--------\n"
     ]
    }
   ],
   "source": [
    "#run nueral network model\n",
    "run_nn_and_calculate_auc(X_important_tr,y,test_data_important_tr,X_important_tr.shape[1],batch_size=20,epochs=50)\n"
   ]
  }
 ],
 "metadata": {
  "accelerator": "GPU",
  "colab": {
   "name": "dsn_final.ipynb",
   "provenance": []
  },
  "kernelspec": {
   "display_name": "Python 3",
   "language": "python",
   "name": "python3"
  },
  "language_info": {
   "codemirror_mode": {
    "name": "ipython",
    "version": 3
   },
   "file_extension": ".py",
   "mimetype": "text/x-python",
   "name": "python",
   "nbconvert_exporter": "python",
   "pygments_lexer": "ipython3",
   "version": "3.7.4"
  }
 },
 "nbformat": 4,
 "nbformat_minor": 1
}
